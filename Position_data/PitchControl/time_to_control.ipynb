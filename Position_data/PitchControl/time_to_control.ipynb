{
 "cells": [
  {
   "cell_type": "code",
   "execution_count": 2,
   "id": "9aad762e",
   "metadata": {},
   "outputs": [],
   "source": [
    "import numpy as np\n",
    "import matplotlib.pyplot as plt"
   ]
  },
  {
   "cell_type": "code",
   "execution_count": 5,
   "id": "dd9fcba4",
   "metadata": {},
   "outputs": [],
   "source": [
    "def P(t, lam=4.3):\n",
    "    return 1 - np.e**(-lam*t)"
   ]
  },
  {
   "cell_type": "code",
   "execution_count": 7,
   "id": "930df671",
   "metadata": {},
   "outputs": [
    {
     "data": {
      "text/plain": [
       "[<matplotlib.lines.Line2D at 0x25332ee5300>]"
      ]
     },
     "execution_count": 7,
     "metadata": {},
     "output_type": "execute_result"
    },
    {
     "data": {
      "image/png": "[encoded data removed]",
      "text/plain": [
       "<Figure size 640x480 with 1 Axes>"
      ]
     },
     "metadata": {},
     "output_type": "display_data"
    }
   ],
   "source": [
    "t = np.linspace(0, 3, 1000)\n",
    "y = P(t)\n",
    "plt.plot(t, y)"
   ]
  },
  {
   "cell_type": "code",
   "execution_count": 8,
   "id": "aa44bfe8",
   "metadata": {},
   "outputs": [
    {
     "data": {
      "text/plain": [
       "0.6321205588285577"
      ]
     },
     "execution_count": 8,
     "metadata": {},
     "output_type": "execute_result"
    }
   ],
   "source": [
    "P(1/4.3)"
   ]
  },
  {
   "cell_type": "code",
   "execution_count": 32,
   "id": "fead219b",
   "metadata": {},
   "outputs": [
    {
     "data": {
      "text/plain": [
       "0.9914260965754668"
      ]
     },
     "execution_count": 32,
     "metadata": {},
     "output_type": "execute_result"
    }
   ],
   "source": [
    "t = 1* np.log(10)*(np.sqrt(3)*0.45/np.pi + 1/4.3)\n",
    "P(t)"
   ]
  },
  {
   "cell_type": "code",
   "execution_count": 34,
   "id": "877bc8ba",
   "metadata": {},
   "outputs": [
    {
     "data": {
      "text/plain": [
       "0.9999264881800668"
      ]
     },
     "execution_count": 34,
     "metadata": {},
     "output_type": "execute_result"
    }
   ],
   "source": [
    "t = 2 * np.log(10)*(np.sqrt(3)*0.45/np.pi + 1/4.3)\n",
    "P(t)"
   ]
  },
  {
   "cell_type": "code",
   "execution_count": 36,
   "id": "0bcfc7b0",
   "metadata": {},
   "outputs": [
    {
     "data": {
      "text/plain": [
       "0.9999993697167553"
      ]
     },
     "execution_count": 36,
     "metadata": {},
     "output_type": "execute_result"
    }
   ],
   "source": [
    "t = 3 * np.log(10)*(np.sqrt(3)*0.45/np.pi + 1/4.3)\n",
    "P(t)"
   ]
  },
  {
   "cell_type": "code",
   "execution_count": 37,
   "id": "a56a65d4",
   "metadata": {},
   "outputs": [
    {
     "data": {
      "text/plain": [
       "0.9999984586286121"
      ]
     },
     "execution_count": 37,
     "metadata": {},
     "output_type": "execute_result"
    }
   ],
   "source": [
    "# probability intercept\n",
    "def prop_int(sigma, T, t):\n",
    "    f = 1 / (1. + np.exp(-np.pi / np.sqrt(3.0) / sigma * (T - t)))\n",
    "    return(f)\n",
    "prop_int(0.45, t, 0)"
   ]
  },
  {
   "cell_type": "code",
   "execution_count": 38,
   "id": "8821b4d9",
   "metadata": {},
   "outputs": [
    {
     "data": {
      "text/plain": [
       "3.3202550055547313"
      ]
     },
     "execution_count": 38,
     "metadata": {},
     "output_type": "execute_result"
    }
   ],
   "source": [
    "t"
   ]
  },
  {
   "cell_type": "code",
   "execution_count": null,
   "id": "e274bed9",
   "metadata": {},
   "outputs": [],
   "source": []
  }
 ],
 "metadata": {
  "kernelspec": {
   "display_name": "Football_Analytics_venv",
   "language": "python",
   "name": "football_analytics_venv"
  },
  "language_info": {
   "codemirror_mode": {
    "name": "ipython",
    "version": 3
   },
   "file_extension": ".py",
   "mimetype": "text/x-python",
   "name": "python",
   "nbconvert_exporter": "python",
   "pygments_lexer": "ipython3",
   "version": "3.10.11"
  }
 },
 "nbformat": 4,
 "nbformat_minor": 5
}
