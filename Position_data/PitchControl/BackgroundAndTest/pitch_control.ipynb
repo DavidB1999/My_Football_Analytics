{
 "cells": [
  {
   "cell_type": "code",
   "execution_count": 1,
   "id": "094d0433",
   "metadata": {},
   "outputs": [],
   "source": [
    "import sys\n",
    "sys.path.append('C:\\\\Users\\\\DavidB\\\\PycharmProjects\\\\My_Football_Analytics')\n",
    "\n",
    "\n",
    "import pandas as pd\n",
    "import numpy as np\n",
    "import Basics.Data.Metrica_IO as mio\n",
    "from Position_data.Tracking_Data import tracking_data\n",
    "from mplsoccer import Pitch\n",
    "import matplotlib.pyplot as plt\n",
    "import Position_data.PitchControl.pitch_control as pc\n",
    "from Basics.Data.DFL_data import parse_dfl_pos_data"
   ]
  },
  {
   "cell_type": "markdown",
   "id": "0020c1a3",
   "metadata": {},
   "source": [
    "## metrica data"
   ]
  },
  {
   "cell_type": "code",
   "execution_count": 2,
   "id": "476107bf",
   "metadata": {},
   "outputs": [
    {
     "name": "stdout",
     "output_type": "stream",
     "text": [
      "Reading team: away\n",
      "Reading team: home\n",
      "tracking_data object of metrica of shape (141156, 56).\n"
     ]
    },
    {
     "data": {
      "text/plain": [
       "{'y': {'data': (1, 0),\n",
       "  'pitch': (0, 68),\n",
       "  'home_columns': ['Home_11_y',\n",
       "   'Home_1_y',\n",
       "   'Home_2_y',\n",
       "   'Home_3_y',\n",
       "   'Home_4_y',\n",
       "   'Home_5_y',\n",
       "   'Home_6_y',\n",
       "   'Home_7_y',\n",
       "   'Home_8_y',\n",
       "   'Home_9_y',\n",
       "   'Home_10_y',\n",
       "   'Home_12_y',\n",
       "   'Home_13_y',\n",
       "   'Home_14_y'],\n",
       "  'away_columns': ['Away_25_y',\n",
       "   'Away_15_y',\n",
       "   'Away_16_y',\n",
       "   'Away_17_y',\n",
       "   'Away_18_y',\n",
       "   'Away_19_y',\n",
       "   'Away_20_y',\n",
       "   'Away_21_y',\n",
       "   'Away_22_y',\n",
       "   'Away_23_y',\n",
       "   'Away_24_y',\n",
       "   'Away_26_y'],\n",
       "  'ball_columns': ['ball_y'],\n",
       "  'delta_data': -1,\n",
       "  'delta_pitch': 68,\n",
       "  'scaling_factor': -68.0},\n",
       " 'x': {'data': (0, 1),\n",
       "  'pitch': (0, 105),\n",
       "  'home_columns': ['Home_11_x',\n",
       "   'Home_1_x',\n",
       "   'Home_2_x',\n",
       "   'Home_3_x',\n",
       "   'Home_4_x',\n",
       "   'Home_5_x',\n",
       "   'Home_6_x',\n",
       "   'Home_7_x',\n",
       "   'Home_8_x',\n",
       "   'Home_9_x',\n",
       "   'Home_10_x',\n",
       "   'Home_12_x',\n",
       "   'Home_13_x',\n",
       "   'Home_14_x'],\n",
       "  'away_columns': ['Away_25_x',\n",
       "   'Away_15_x',\n",
       "   'Away_16_x',\n",
       "   'Away_17_x',\n",
       "   'Away_18_x',\n",
       "   'Away_19_x',\n",
       "   'Away_20_x',\n",
       "   'Away_21_x',\n",
       "   'Away_22_x',\n",
       "   'Away_23_x',\n",
       "   'Away_24_x',\n",
       "   'Away_26_x'],\n",
       "  'ball_columns': ['ball_x'],\n",
       "  'delta_data': 1,\n",
       "  'delta_pitch': 105,\n",
       "  'scaling_factor': 105.0}}"
      ]
     },
     "execution_count": 2,
     "metadata": {},
     "output_type": "execute_result"
    }
   ],
   "source": [
    "data_dir = 'sample-data-master/data/'\n",
    "game_id = 2\n",
    "away = mio.tracking_data(DATADIR=data_dir, game_id=game_id, teamname='Away')\n",
    "home = mio.tracking_data(DATADIR=data_dir, game_id=game_id, teamname='Home')\n",
    "td = mio.merge_tracking_data(home, away)\n",
    "td_object = tracking_data(td, data_source='metrica', scale_to_pitch='myPitch')\n",
    "print(td_object)\n",
    "td_object.dimensions"
   ]
  },
  {
   "cell_type": "code",
   "execution_count": 3,
   "id": "59350403",
   "metadata": {},
   "outputs": [
    {
     "data": {
      "text/plain": [
       "(<Figure size 640x480 with 1 Axes>, <Axes: >)"
      ]
     },
     "execution_count": 3,
     "metadata": {},
     "output_type": "execute_result"
    },
    {
     "data": {
      "image/png": "[encoded data removed]",
      "text/plain": [
       "<Figure size 640x480 with 1 Axes>"
      ]
     },
     "metadata": {},
     "output_type": "display_data"
    }
   ],
   "source": [
    "td_object.plot_players(frame=51, velocities=True)"
   ]
  },
  {
   "cell_type": "code",
   "execution_count": 4,
   "id": "4a15891e",
   "metadata": {},
   "outputs": [
    {
     "data": {
      "text/plain": [
       "('11', '25')"
      ]
     },
     "execution_count": 4,
     "metadata": {},
     "output_type": "execute_result"
    }
   ],
   "source": [
    "td_object.Home_GK, td_object.Away_GK "
   ]
  },
  {
   "cell_type": "code",
   "execution_count": 5,
   "id": "3664939a",
   "metadata": {},
   "outputs": [
    {
     "name": "stdout",
     "output_type": "stream",
     "text": [
      "Player 8 playing for the Home team.\n",
      "False\n"
     ]
    },
    {
     "data": {
      "text/html": [
       "<div>\n",
       "<style scoped>\n",
       "    .dataframe tbody tr th:only-of-type {\n",
       "        vertical-align: middle;\n",
       "    }\n",
       "\n",
       "    .dataframe tbody tr th {\n",
       "        vertical-align: top;\n",
       "    }\n",
       "\n",
       "    .dataframe thead th {\n",
       "        text-align: right;\n",
       "    }\n",
       "</style>\n",
       "<table border=\"1\" class=\"dataframe\">\n",
       "  <thead>\n",
       "    <tr style=\"text-align: right;\">\n",
       "      <th></th>\n",
       "      <th>Period</th>\n",
       "      <th>Time [s]</th>\n",
       "      <th>Home_8_x</th>\n",
       "      <th>Home_8_y</th>\n",
       "      <th>Home_8_vx</th>\n",
       "      <th>Home_8_vy</th>\n",
       "      <th>Home_8_speed</th>\n",
       "    </tr>\n",
       "    <tr>\n",
       "      <th>Frame</th>\n",
       "      <th></th>\n",
       "      <th></th>\n",
       "      <th></th>\n",
       "      <th></th>\n",
       "      <th></th>\n",
       "      <th></th>\n",
       "      <th></th>\n",
       "    </tr>\n",
       "  </thead>\n",
       "  <tbody>\n",
       "    <tr>\n",
       "      <th>1</th>\n",
       "      <td>1</td>\n",
       "      <td>0.04</td>\n",
       "      <td>55.82115</td>\n",
       "      <td>16.94288</td>\n",
       "      <td>NaN</td>\n",
       "      <td>NaN</td>\n",
       "      <td>NaN</td>\n",
       "    </tr>\n",
       "    <tr>\n",
       "      <th>2</th>\n",
       "      <td>1</td>\n",
       "      <td>0.08</td>\n",
       "      <td>55.82115</td>\n",
       "      <td>16.94288</td>\n",
       "      <td>NaN</td>\n",
       "      <td>NaN</td>\n",
       "      <td>NaN</td>\n",
       "    </tr>\n",
       "    <tr>\n",
       "      <th>3</th>\n",
       "      <td>1</td>\n",
       "      <td>0.12</td>\n",
       "      <td>55.82115</td>\n",
       "      <td>16.94288</td>\n",
       "      <td>NaN</td>\n",
       "      <td>NaN</td>\n",
       "      <td>NaN</td>\n",
       "    </tr>\n",
       "    <tr>\n",
       "      <th>4</th>\n",
       "      <td>1</td>\n",
       "      <td>0.16</td>\n",
       "      <td>55.82115</td>\n",
       "      <td>16.94288</td>\n",
       "      <td>NaN</td>\n",
       "      <td>NaN</td>\n",
       "      <td>NaN</td>\n",
       "    </tr>\n",
       "    <tr>\n",
       "      <th>5</th>\n",
       "      <td>1</td>\n",
       "      <td>0.20</td>\n",
       "      <td>55.82115</td>\n",
       "      <td>16.94288</td>\n",
       "      <td>NaN</td>\n",
       "      <td>NaN</td>\n",
       "      <td>NaN</td>\n",
       "    </tr>\n",
       "  </tbody>\n",
       "</table>\n",
       "</div>"
      ],
      "text/plain": [
       "       Period  Time [s]  Home_8_x  Home_8_y  Home_8_vx  Home_8_vy  \\\n",
       "Frame                                                               \n",
       "1           1      0.04  55.82115  16.94288        NaN        NaN   \n",
       "2           1      0.08  55.82115  16.94288        NaN        NaN   \n",
       "3           1      0.12  55.82115  16.94288        NaN        NaN   \n",
       "4           1      0.16  55.82115  16.94288        NaN        NaN   \n",
       "5           1      0.20  55.82115  16.94288        NaN        NaN   \n",
       "\n",
       "       Home_8_speed  \n",
       "Frame                \n",
       "1               NaN  \n",
       "2               NaN  \n",
       "3               NaN  \n",
       "4               NaN  \n",
       "5               NaN  "
      ]
     },
     "execution_count": 5,
     "metadata": {},
     "output_type": "execute_result"
    }
   ],
   "source": [
    "# intialize by function\n",
    "player_object = pc.get_player_from_data(td_object=td_object, pid=8, team='Home')\n",
    "print(player_object)\n",
    "print(player_object.inframe)\n",
    "player_object.org_data.head()"
   ]
  },
  {
   "cell_type": "code",
   "execution_count": 6,
   "id": "72edf73c",
   "metadata": {},
   "outputs": [
    {
     "name": "stdout",
     "output_type": "stream",
     "text": [
      "Player 11 playing for the Home team. Data for frame 51. \n",
      "True\n"
     ]
    },
    {
     "data": {
      "text/plain": [
       "Period            1.000000\n",
       "Time [s]          2.040000\n",
       "Home_11_x        99.530550\n",
       "Home_11_y        34.689520\n",
       "Home_11_vx       -0.300000\n",
       "Home_11_vy       -0.323000\n",
       "Home_11_speed     0.440828\n",
       "Name: 51, dtype: float64"
      ]
     },
     "execution_count": 6,
     "metadata": {},
     "output_type": "execute_result"
    }
   ],
   "source": [
    "# initialize by function and frame\n",
    "player_object = pc.get_player_from_data(td_object=td_object, pid=11, frame=51, team='Home')\n",
    "print(player_object)\n",
    "print(player_object.inframe)\n",
    "player_object.org_data"
   ]
  },
  {
   "cell_type": "code",
   "execution_count": 7,
   "id": "98209c1e",
   "metadata": {},
   "outputs": [
    {
     "name": "stdout",
     "output_type": "stream",
     "text": [
      "Player 1 playing for the Home team.\n",
      "True\n"
     ]
    },
    {
     "data": {
      "text/html": [
       "<div>\n",
       "<style scoped>\n",
       "    .dataframe tbody tr th:only-of-type {\n",
       "        vertical-align: middle;\n",
       "    }\n",
       "\n",
       "    .dataframe tbody tr th {\n",
       "        vertical-align: top;\n",
       "    }\n",
       "\n",
       "    .dataframe thead th {\n",
       "        text-align: right;\n",
       "    }\n",
       "</style>\n",
       "<table border=\"1\" class=\"dataframe\">\n",
       "  <thead>\n",
       "    <tr style=\"text-align: right;\">\n",
       "      <th></th>\n",
       "      <th>Period</th>\n",
       "      <th>Time [s]</th>\n",
       "      <th>Home_11_x</th>\n",
       "      <th>Home_11_y</th>\n",
       "      <th>Home_1_x</th>\n",
       "      <th>Home_1_y</th>\n",
       "      <th>Home_2_x</th>\n",
       "      <th>Home_2_y</th>\n",
       "      <th>Home_3_x</th>\n",
       "      <th>Home_3_y</th>\n",
       "      <th>...</th>\n",
       "      <th>Home_6_speed</th>\n",
       "      <th>Home_7_vx</th>\n",
       "      <th>Home_7_vy</th>\n",
       "      <th>Home_7_speed</th>\n",
       "      <th>Home_8_vx</th>\n",
       "      <th>Home_8_vy</th>\n",
       "      <th>Home_8_speed</th>\n",
       "      <th>Home_9_vx</th>\n",
       "      <th>Home_9_vy</th>\n",
       "      <th>Home_9_speed</th>\n",
       "    </tr>\n",
       "    <tr>\n",
       "      <th>Frame</th>\n",
       "      <th></th>\n",
       "      <th></th>\n",
       "      <th></th>\n",
       "      <th></th>\n",
       "      <th></th>\n",
       "      <th></th>\n",
       "      <th></th>\n",
       "      <th></th>\n",
       "      <th></th>\n",
       "      <th></th>\n",
       "      <th></th>\n",
       "      <th></th>\n",
       "      <th></th>\n",
       "      <th></th>\n",
       "      <th></th>\n",
       "      <th></th>\n",
       "      <th></th>\n",
       "      <th></th>\n",
       "      <th></th>\n",
       "      <th></th>\n",
       "      <th></th>\n",
       "    </tr>\n",
       "  </thead>\n",
       "  <tbody>\n",
       "    <tr>\n",
       "      <th>1</th>\n",
       "      <td>1</td>\n",
       "      <td>0.04</td>\n",
       "      <td>98.98875</td>\n",
       "      <td>33.71916</td>\n",
       "      <td>68.0526</td>\n",
       "      <td>48.5486</td>\n",
       "      <td>71.1396</td>\n",
       "      <td>38.89396</td>\n",
       "      <td>73.3761</td>\n",
       "      <td>30.18792</td>\n",
       "      <td>...</td>\n",
       "      <td>NaN</td>\n",
       "      <td>NaN</td>\n",
       "      <td>NaN</td>\n",
       "      <td>NaN</td>\n",
       "      <td>NaN</td>\n",
       "      <td>NaN</td>\n",
       "      <td>NaN</td>\n",
       "      <td>NaN</td>\n",
       "      <td>NaN</td>\n",
       "      <td>NaN</td>\n",
       "    </tr>\n",
       "    <tr>\n",
       "      <th>2</th>\n",
       "      <td>1</td>\n",
       "      <td>0.08</td>\n",
       "      <td>98.98875</td>\n",
       "      <td>33.71916</td>\n",
       "      <td>68.0526</td>\n",
       "      <td>48.5486</td>\n",
       "      <td>71.1396</td>\n",
       "      <td>38.89396</td>\n",
       "      <td>73.3761</td>\n",
       "      <td>30.18792</td>\n",
       "      <td>...</td>\n",
       "      <td>NaN</td>\n",
       "      <td>NaN</td>\n",
       "      <td>NaN</td>\n",
       "      <td>NaN</td>\n",
       "      <td>NaN</td>\n",
       "      <td>NaN</td>\n",
       "      <td>NaN</td>\n",
       "      <td>NaN</td>\n",
       "      <td>NaN</td>\n",
       "      <td>NaN</td>\n",
       "    </tr>\n",
       "    <tr>\n",
       "      <th>3</th>\n",
       "      <td>1</td>\n",
       "      <td>0.12</td>\n",
       "      <td>98.98875</td>\n",
       "      <td>33.71916</td>\n",
       "      <td>68.0526</td>\n",
       "      <td>48.5486</td>\n",
       "      <td>71.1396</td>\n",
       "      <td>38.89396</td>\n",
       "      <td>73.3761</td>\n",
       "      <td>30.18792</td>\n",
       "      <td>...</td>\n",
       "      <td>NaN</td>\n",
       "      <td>NaN</td>\n",
       "      <td>NaN</td>\n",
       "      <td>NaN</td>\n",
       "      <td>NaN</td>\n",
       "      <td>NaN</td>\n",
       "      <td>NaN</td>\n",
       "      <td>NaN</td>\n",
       "      <td>NaN</td>\n",
       "      <td>NaN</td>\n",
       "    </tr>\n",
       "    <tr>\n",
       "      <th>4</th>\n",
       "      <td>1</td>\n",
       "      <td>0.16</td>\n",
       "      <td>98.98875</td>\n",
       "      <td>33.71916</td>\n",
       "      <td>68.0526</td>\n",
       "      <td>48.5486</td>\n",
       "      <td>71.1396</td>\n",
       "      <td>38.89396</td>\n",
       "      <td>73.3761</td>\n",
       "      <td>30.18792</td>\n",
       "      <td>...</td>\n",
       "      <td>NaN</td>\n",
       "      <td>NaN</td>\n",
       "      <td>NaN</td>\n",
       "      <td>NaN</td>\n",
       "      <td>NaN</td>\n",
       "      <td>NaN</td>\n",
       "      <td>NaN</td>\n",
       "      <td>NaN</td>\n",
       "      <td>NaN</td>\n",
       "      <td>NaN</td>\n",
       "    </tr>\n",
       "    <tr>\n",
       "      <th>5</th>\n",
       "      <td>1</td>\n",
       "      <td>0.20</td>\n",
       "      <td>98.98875</td>\n",
       "      <td>33.71916</td>\n",
       "      <td>68.0526</td>\n",
       "      <td>48.5486</td>\n",
       "      <td>71.1396</td>\n",
       "      <td>38.89396</td>\n",
       "      <td>73.3761</td>\n",
       "      <td>30.18792</td>\n",
       "      <td>...</td>\n",
       "      <td>0.0</td>\n",
       "      <td>NaN</td>\n",
       "      <td>NaN</td>\n",
       "      <td>NaN</td>\n",
       "      <td>NaN</td>\n",
       "      <td>NaN</td>\n",
       "      <td>NaN</td>\n",
       "      <td>NaN</td>\n",
       "      <td>NaN</td>\n",
       "      <td>NaN</td>\n",
       "    </tr>\n",
       "  </tbody>\n",
       "</table>\n",
       "<p>5 rows × 134 columns</p>\n",
       "</div>"
      ],
      "text/plain": [
       "       Period  Time [s]  Home_11_x  Home_11_y  Home_1_x  Home_1_y  Home_2_x  \\\n",
       "Frame                                                                         \n",
       "1           1      0.04   98.98875   33.71916   68.0526   48.5486   71.1396   \n",
       "2           1      0.08   98.98875   33.71916   68.0526   48.5486   71.1396   \n",
       "3           1      0.12   98.98875   33.71916   68.0526   48.5486   71.1396   \n",
       "4           1      0.16   98.98875   33.71916   68.0526   48.5486   71.1396   \n",
       "5           1      0.20   98.98875   33.71916   68.0526   48.5486   71.1396   \n",
       "\n",
       "       Home_2_y  Home_3_x  Home_3_y  ...  Home_6_speed  Home_7_vx  Home_7_vy  \\\n",
       "Frame                                ...                                       \n",
       "1      38.89396   73.3761  30.18792  ...           NaN        NaN        NaN   \n",
       "2      38.89396   73.3761  30.18792  ...           NaN        NaN        NaN   \n",
       "3      38.89396   73.3761  30.18792  ...           NaN        NaN        NaN   \n",
       "4      38.89396   73.3761  30.18792  ...           NaN        NaN        NaN   \n",
       "5      38.89396   73.3761  30.18792  ...           0.0        NaN        NaN   \n",
       "\n",
       "       Home_7_speed  Home_8_vx  Home_8_vy  Home_8_speed  Home_9_vx  Home_9_vy  \\\n",
       "Frame                                                                           \n",
       "1               NaN        NaN        NaN           NaN        NaN        NaN   \n",
       "2               NaN        NaN        NaN           NaN        NaN        NaN   \n",
       "3               NaN        NaN        NaN           NaN        NaN        NaN   \n",
       "4               NaN        NaN        NaN           NaN        NaN        NaN   \n",
       "5               NaN        NaN        NaN           NaN        NaN        NaN   \n",
       "\n",
       "       Home_9_speed  \n",
       "Frame                \n",
       "1               NaN  \n",
       "2               NaN  \n",
       "3               NaN  \n",
       "4               NaN  \n",
       "5               NaN  \n",
       "\n",
       "[5 rows x 134 columns]"
      ]
     },
     "execution_count": 7,
     "metadata": {},
     "output_type": "execute_result"
    }
   ],
   "source": [
    "# intitalize manually\n",
    "# requires GK information and team\n",
    "# and frame cannot be filtered!\n",
    "# not recommended!\n",
    "# returns all players from team\n",
    "\n",
    "player_object2 = pc.player(data=td_object.data, pid=1, GK=True, team='Home', td_object=td_object)\n",
    "print(player_object2)\n",
    "print(player_object2.inframe)\n",
    "player_object2.org_data.head()"
   ]
  },
  {
   "cell_type": "code",
   "execution_count": 8,
   "id": "231b0f8f",
   "metadata": {},
   "outputs": [
    {
     "data": {
      "text/plain": [
       "(22,\n",
       " [<Position_data.PitchControl.pitch_control.player at 0x25d69f68610>,\n",
       "  <Position_data.PitchControl.pitch_control.player at 0x25d69f688b0>,\n",
       "  <Position_data.PitchControl.pitch_control.player at 0x25d00157f10>,\n",
       "  <Position_data.PitchControl.pitch_control.player at 0x25d00157d60>,\n",
       "  <Position_data.PitchControl.pitch_control.player at 0x25d001576a0>,\n",
       "  <Position_data.PitchControl.pitch_control.player at 0x25d00157580>,\n",
       "  <Position_data.PitchControl.pitch_control.player at 0x25d00157f40>,\n",
       "  <Position_data.PitchControl.pitch_control.player at 0x25d00157ca0>,\n",
       "  <Position_data.PitchControl.pitch_control.player at 0x25d671c5fc0>,\n",
       "  <Position_data.PitchControl.pitch_control.player at 0x25d671c7af0>,\n",
       "  <Position_data.PitchControl.pitch_control.player at 0x25d671c53c0>,\n",
       "  <Position_data.PitchControl.pitch_control.player at 0x25d671c73a0>,\n",
       "  <Position_data.PitchControl.pitch_control.player at 0x25d671c6650>,\n",
       "  <Position_data.PitchControl.pitch_control.player at 0x25d671c5870>,\n",
       "  <Position_data.PitchControl.pitch_control.player at 0x25d671c78b0>,\n",
       "  <Position_data.PitchControl.pitch_control.player at 0x25d671c6c50>,\n",
       "  <Position_data.PitchControl.pitch_control.player at 0x25d671c7eb0>,\n",
       "  <Position_data.PitchControl.pitch_control.player at 0x25d3de0f2b0>,\n",
       "  <Position_data.PitchControl.pitch_control.player at 0x25d671c58a0>,\n",
       "  <Position_data.PitchControl.pitch_control.player at 0x25d69ffe890>,\n",
       "  <Position_data.PitchControl.pitch_control.player at 0x25d69ffe320>,\n",
       "  <Position_data.PitchControl.pitch_control.player at 0x25d69ffe1a0>])"
      ]
     },
     "execution_count": 8,
     "metadata": {},
     "output_type": "execute_result"
    }
   ],
   "source": [
    "players = pc.get_all_players(td_object=td_object, frame=51)\n",
    "len(players), players"
   ]
  },
  {
   "cell_type": "code",
   "execution_count": 9,
   "id": "6f4d153f",
   "metadata": {},
   "outputs": [
    {
     "data": {
      "text/plain": [
       "(11,\n",
       " [<Position_data.PitchControl.pitch_control.player at 0x25d00157820>,\n",
       "  <Position_data.PitchControl.pitch_control.player at 0x25d69f450f0>,\n",
       "  <Position_data.PitchControl.pitch_control.player at 0x25d69ffee60>,\n",
       "  <Position_data.PitchControl.pitch_control.player at 0x25d001c7040>,\n",
       "  <Position_data.PitchControl.pitch_control.player at 0x25d69f441c0>,\n",
       "  <Position_data.PitchControl.pitch_control.player at 0x25d001c7250>,\n",
       "  <Position_data.PitchControl.pitch_control.player at 0x25d001c7e50>,\n",
       "  <Position_data.PitchControl.pitch_control.player at 0x25d001c7d30>,\n",
       "  <Position_data.PitchControl.pitch_control.player at 0x25d001c75b0>,\n",
       "  <Position_data.PitchControl.pitch_control.player at 0x25d001c69e0>,\n",
       "  <Position_data.PitchControl.pitch_control.player at 0x25d001c76d0>])"
      ]
     },
     "execution_count": 9,
     "metadata": {},
     "output_type": "execute_result"
    }
   ],
   "source": [
    "players = pc.get_all_players(td_object=td_object, frame=51, teams=['Home'])\n",
    "len(players), players"
   ]
  },
  {
   "cell_type": "code",
   "execution_count": 10,
   "id": "da5f8e13",
   "metadata": {},
   "outputs": [
    {
     "data": {
      "text/plain": [
       "3.81414070752029e-09"
      ]
     },
     "execution_count": 10,
     "metadata": {},
     "output_type": "execute_result"
    }
   ],
   "source": [
    "players[0].simple_time_to_intercept(r_final=np.array([90, 10]))\n",
    "players[0].probability_intercept_ball(T=5)"
   ]
  },
  {
   "cell_type": "code",
   "execution_count": 11,
   "id": "3f7e25c4",
   "metadata": {},
   "outputs": [
    {
     "data": {
      "text/plain": [
       "array([[0.        , 0.        , 0.        , ..., 0.9906474 , 1.        ,\n",
       "        1.        ],\n",
       "       [0.        , 0.        , 0.        , ..., 1.        , 1.        ,\n",
       "        1.        ],\n",
       "       [0.        , 0.        , 0.        , ..., 1.        , 1.        ,\n",
       "        1.        ],\n",
       "       ...,\n",
       "       [0.        , 0.        , 0.        , ..., 1.        , 1.        ,\n",
       "        1.        ],\n",
       "       [0.        , 0.        , 0.        , ..., 1.        , 1.        ,\n",
       "        1.        ],\n",
       "       [0.        , 0.        , 0.        , ..., 0.99017164, 1.        ,\n",
       "        1.        ]])"
      ]
     },
     "execution_count": 11,
     "metadata": {},
     "output_type": "execute_result"
    }
   ],
   "source": [
    "PPCFa,xgrid,ygrid = pc.pitch_control_at_frame(frame=51, td_object=td_object)\n",
    "PPCFa"
   ]
  },
  {
   "cell_type": "code",
   "execution_count": 12,
   "id": "484eecd5",
   "metadata": {},
   "outputs": [
    {
     "data": {
      "text/plain": [
       "(<Figure size 640x480 with 1 Axes>, <Axes: >)"
      ]
     },
     "execution_count": 12,
     "metadata": {},
     "output_type": "execute_result"
    },
    {
     "data": {
      "image/png": "[encoded data removed]",
      "text/plain": [
       "<Figure size 640x480 with 1 Axes>"
      ]
     },
     "metadata": {},
     "output_type": "display_data"
    }
   ],
   "source": [
    "pc.plot_pitch_control(td_object=td_object, frame=890, velocities=True)"
   ]
  },
  {
   "cell_type": "code",
   "execution_count": 13,
   "id": "08647fd7",
   "metadata": {},
   "outputs": [
    {
     "data": {
      "text/plain": [
       "(<Figure size 640x480 with 1 Axes>, <Axes: >)"
      ]
     },
     "execution_count": 13,
     "metadata": {},
     "output_type": "execute_result"
    },
    {
     "data": {
      "image/png": "[encoded data removed]",
      "text/plain": [
       "<Figure size 640x480 with 1 Axes>"
      ]
     },
     "metadata": {},
     "output_type": "display_data"
    }
   ],
   "source": [
    "pc.plot_pitch_control(td_object=td_object, frame=890, velocities=True, attacking_team='Away')"
   ]
  },
  {
   "cell_type": "code",
   "execution_count": 14,
   "id": "a4c1c026",
   "metadata": {},
   "outputs": [
    {
     "data": {
      "image/png": "[encoded data removed]",
      "text/plain": [
       "<Figure size 640x480 with 1 Axes>"
      ]
     },
     "metadata": {},
     "output_type": "display_data"
    }
   ],
   "source": [
    "fig, ax = pc.plot_pitch_control(td_object=td_object, frame=890, velocities=True, n_grid_cells_x=100)"
   ]
  },
  {
   "cell_type": "code",
   "execution_count": 16,
   "id": "8e63b5b7",
   "metadata": {},
   "outputs": [
    {
     "data": {
      "text/plain": [
       "{'max_player_accel': 7.0,\n",
       " 'max_player_speed': 5.0,\n",
       " 'reaction_time': 0.7,\n",
       " 'tti_sigma': 0.45,\n",
       " 'kappa_def': 3,\n",
       " 'lambda_att': 4.3,\n",
       " 'lambda_def': 12.899999999999999,\n",
       " 'lambda_gk': 38.699999999999996,\n",
       " 'average_ball_speed': 15.0,\n",
       " 'int_dt': 0.04,\n",
       " 'max_int_time': 10,\n",
       " 'model_converge_tol': 0.01,\n",
       " 'time_to_control_att': 3.3202550055547313,\n",
       " 'time_to_control_def': 2.249285194859826}"
      ]
     },
     "execution_count": 16,
     "metadata": {},
     "output_type": "execute_result"
    }
   ],
   "source": [
    "params = pc.default_model_params(kappa_def=3, td_object=td_object)\n",
    "params"
   ]
  },
  {
   "cell_type": "code",
   "execution_count": 17,
   "id": "1154de1a",
   "metadata": {},
   "outputs": [
    {
     "data": {
      "text/plain": [
       "(<Figure size 640x480 with 1 Axes>, <Axes: >)"
      ]
     },
     "execution_count": 17,
     "metadata": {},
     "output_type": "execute_result"
    },
    {
     "data": {
      "image/png": "[encoded data removed]",
      "text/plain": [
       "<Figure size 640x480 with 1 Axes>"
      ]
     },
     "metadata": {},
     "output_type": "display_data"
    }
   ],
   "source": [
    "pc.plot_pitch_control(td_object=td_object, frame=890, velocities=True, params=params)"
   ]
  },
  {
   "cell_type": "code",
   "execution_count": 18,
   "id": "0673acc4",
   "metadata": {},
   "outputs": [
    {
     "data": {
      "text/plain": [
       "(<Figure size 640x480 with 1 Axes>, <Axes: >)"
      ]
     },
     "execution_count": 18,
     "metadata": {},
     "output_type": "execute_result"
    },
    {
     "data": {
      "image/png": "[encoded data removed]",
      "text/plain": [
       "<Figure size 640x480 with 1 Axes>"
      ]
     },
     "metadata": {},
     "output_type": "display_data"
    }
   ],
   "source": [
    "pc.plot_pitch_control(td_object=td_object, frame=890, velocities=True, params=params, attacking_team='Away')"
   ]
  },
  {
   "cell_type": "code",
   "execution_count": null,
   "id": "2eb110e0",
   "metadata": {},
   "outputs": [],
   "source": [
    "#pc.animate_pitch_control(td_object=td_object, start_frame=51, end_frame=151, fname='metrica_pc_clip', velocities=True)"
   ]
  },
  {
   "cell_type": "markdown",
   "id": "9cb9edcb",
   "metadata": {},
   "source": [
    "# dfl data"
   ]
  },
  {
   "cell_type": "code",
   "execution_count": 19,
   "id": "dd34e88a",
   "metadata": {},
   "outputs": [
    {
     "data": {
      "text/html": [
       "<div>\n",
       "<style scoped>\n",
       "    .dataframe tbody tr th:only-of-type {\n",
       "        vertical-align: middle;\n",
       "    }\n",
       "\n",
       "    .dataframe tbody tr th {\n",
       "        vertical-align: top;\n",
       "    }\n",
       "\n",
       "    .dataframe thead th {\n",
       "        text-align: right;\n",
       "    }\n",
       "</style>\n",
       "<table border=\"1\" class=\"dataframe\">\n",
       "  <thead>\n",
       "    <tr style=\"text-align: right;\">\n",
       "      <th></th>\n",
       "      <th>ball_x</th>\n",
       "      <th>ball_y</th>\n",
       "      <th>ballstatus</th>\n",
       "      <th>possession</th>\n",
       "      <th>GameSection</th>\n",
       "      <th>Time</th>\n",
       "      <th>Time [s]</th>\n",
       "      <th>Home_30_x</th>\n",
       "      <th>Home_30_y</th>\n",
       "      <th>Home_27_x</th>\n",
       "      <th>...</th>\n",
       "      <th>Away_15_y</th>\n",
       "      <th>Away_5_x</th>\n",
       "      <th>Away_5_y</th>\n",
       "      <th>Away_4_x</th>\n",
       "      <th>Away_4_y</th>\n",
       "      <th>Away_11_x</th>\n",
       "      <th>Away_11_y</th>\n",
       "      <th>Away_17_x</th>\n",
       "      <th>Away_17_y</th>\n",
       "      <th>Period</th>\n",
       "    </tr>\n",
       "  </thead>\n",
       "  <tbody>\n",
       "    <tr>\n",
       "      <th>0</th>\n",
       "      <td>-0.38</td>\n",
       "      <td>-0.28</td>\n",
       "      <td>1.0</td>\n",
       "      <td>2.0</td>\n",
       "      <td>firstHalf</td>\n",
       "      <td>00:00:00.000000</td>\n",
       "      <td>0</td>\n",
       "      <td>-15.89</td>\n",
       "      <td>18.66</td>\n",
       "      <td>-9.7</td>\n",
       "      <td>...</td>\n",
       "      <td>33.4</td>\n",
       "      <td>24.99</td>\n",
       "      <td>12.99</td>\n",
       "      <td>NaN</td>\n",
       "      <td>NaN</td>\n",
       "      <td>NaN</td>\n",
       "      <td>NaN</td>\n",
       "      <td>NaN</td>\n",
       "      <td>NaN</td>\n",
       "      <td>1</td>\n",
       "    </tr>\n",
       "    <tr>\n",
       "      <th>1</th>\n",
       "      <td>-0.35</td>\n",
       "      <td>-0.3</td>\n",
       "      <td>1.0</td>\n",
       "      <td>2.0</td>\n",
       "      <td>firstHalf</td>\n",
       "      <td>00:00:00.040000</td>\n",
       "      <td>0.04</td>\n",
       "      <td>-15.89</td>\n",
       "      <td>18.66</td>\n",
       "      <td>-9.71</td>\n",
       "      <td>...</td>\n",
       "      <td>33.4</td>\n",
       "      <td>24.99</td>\n",
       "      <td>13.01</td>\n",
       "      <td>NaN</td>\n",
       "      <td>NaN</td>\n",
       "      <td>NaN</td>\n",
       "      <td>NaN</td>\n",
       "      <td>NaN</td>\n",
       "      <td>NaN</td>\n",
       "      <td>1</td>\n",
       "    </tr>\n",
       "    <tr>\n",
       "      <th>2</th>\n",
       "      <td>-0.33</td>\n",
       "      <td>-0.32</td>\n",
       "      <td>1.0</td>\n",
       "      <td>2.0</td>\n",
       "      <td>firstHalf</td>\n",
       "      <td>00:00:00.080000</td>\n",
       "      <td>0.08</td>\n",
       "      <td>-15.89</td>\n",
       "      <td>18.66</td>\n",
       "      <td>-9.73</td>\n",
       "      <td>...</td>\n",
       "      <td>33.4</td>\n",
       "      <td>24.99</td>\n",
       "      <td>13.02</td>\n",
       "      <td>NaN</td>\n",
       "      <td>NaN</td>\n",
       "      <td>NaN</td>\n",
       "      <td>NaN</td>\n",
       "      <td>NaN</td>\n",
       "      <td>NaN</td>\n",
       "      <td>1</td>\n",
       "    </tr>\n",
       "    <tr>\n",
       "      <th>3</th>\n",
       "      <td>-0.31</td>\n",
       "      <td>-0.33</td>\n",
       "      <td>1.0</td>\n",
       "      <td>2.0</td>\n",
       "      <td>firstHalf</td>\n",
       "      <td>00:00:00.120000</td>\n",
       "      <td>0.12</td>\n",
       "      <td>-15.89</td>\n",
       "      <td>18.66</td>\n",
       "      <td>-9.75</td>\n",
       "      <td>...</td>\n",
       "      <td>33.41</td>\n",
       "      <td>25.01</td>\n",
       "      <td>13.03</td>\n",
       "      <td>NaN</td>\n",
       "      <td>NaN</td>\n",
       "      <td>NaN</td>\n",
       "      <td>NaN</td>\n",
       "      <td>NaN</td>\n",
       "      <td>NaN</td>\n",
       "      <td>1</td>\n",
       "    </tr>\n",
       "    <tr>\n",
       "      <th>4</th>\n",
       "      <td>1.09</td>\n",
       "      <td>-0.13</td>\n",
       "      <td>1.0</td>\n",
       "      <td>2.0</td>\n",
       "      <td>firstHalf</td>\n",
       "      <td>00:00:00.160000</td>\n",
       "      <td>0.16</td>\n",
       "      <td>-15.88</td>\n",
       "      <td>18.66</td>\n",
       "      <td>-9.77</td>\n",
       "      <td>...</td>\n",
       "      <td>33.42</td>\n",
       "      <td>25.01</td>\n",
       "      <td>13.05</td>\n",
       "      <td>NaN</td>\n",
       "      <td>NaN</td>\n",
       "      <td>NaN</td>\n",
       "      <td>NaN</td>\n",
       "      <td>NaN</td>\n",
       "      <td>NaN</td>\n",
       "      <td>1</td>\n",
       "    </tr>\n",
       "    <tr>\n",
       "      <th>...</th>\n",
       "      <td>...</td>\n",
       "      <td>...</td>\n",
       "      <td>...</td>\n",
       "      <td>...</td>\n",
       "      <td>...</td>\n",
       "      <td>...</td>\n",
       "      <td>...</td>\n",
       "      <td>...</td>\n",
       "      <td>...</td>\n",
       "      <td>...</td>\n",
       "      <td>...</td>\n",
       "      <td>...</td>\n",
       "      <td>...</td>\n",
       "      <td>...</td>\n",
       "      <td>...</td>\n",
       "      <td>...</td>\n",
       "      <td>...</td>\n",
       "      <td>...</td>\n",
       "      <td>...</td>\n",
       "      <td>...</td>\n",
       "      <td>...</td>\n",
       "    </tr>\n",
       "    <tr>\n",
       "      <th>137214</th>\n",
       "      <td>23.04</td>\n",
       "      <td>6.63</td>\n",
       "      <td>0.0</td>\n",
       "      <td>2.0</td>\n",
       "      <td>secondHalf</td>\n",
       "      <td>01:31:17.360000</td>\n",
       "      <td>5488.56</td>\n",
       "      <td>NaN</td>\n",
       "      <td>NaN</td>\n",
       "      <td>NaN</td>\n",
       "      <td>...</td>\n",
       "      <td>1.56</td>\n",
       "      <td>8.51</td>\n",
       "      <td>9.1</td>\n",
       "      <td>32.13</td>\n",
       "      <td>33.65</td>\n",
       "      <td>37.0</td>\n",
       "      <td>-0.68</td>\n",
       "      <td>36.97</td>\n",
       "      <td>10.07</td>\n",
       "      <td>2</td>\n",
       "    </tr>\n",
       "    <tr>\n",
       "      <th>137215</th>\n",
       "      <td>23.02</td>\n",
       "      <td>6.62</td>\n",
       "      <td>0.0</td>\n",
       "      <td>2.0</td>\n",
       "      <td>secondHalf</td>\n",
       "      <td>01:31:17.400000</td>\n",
       "      <td>5488.6</td>\n",
       "      <td>NaN</td>\n",
       "      <td>NaN</td>\n",
       "      <td>NaN</td>\n",
       "      <td>...</td>\n",
       "      <td>1.57</td>\n",
       "      <td>8.53</td>\n",
       "      <td>9.11</td>\n",
       "      <td>32.1</td>\n",
       "      <td>33.64</td>\n",
       "      <td>36.98</td>\n",
       "      <td>-0.64</td>\n",
       "      <td>36.95</td>\n",
       "      <td>10.11</td>\n",
       "      <td>2</td>\n",
       "    </tr>\n",
       "    <tr>\n",
       "      <th>137216</th>\n",
       "      <td>23.01</td>\n",
       "      <td>6.62</td>\n",
       "      <td>0.0</td>\n",
       "      <td>2.0</td>\n",
       "      <td>secondHalf</td>\n",
       "      <td>01:31:17.440000</td>\n",
       "      <td>5488.64</td>\n",
       "      <td>NaN</td>\n",
       "      <td>NaN</td>\n",
       "      <td>NaN</td>\n",
       "      <td>...</td>\n",
       "      <td>1.58</td>\n",
       "      <td>8.54</td>\n",
       "      <td>9.13</td>\n",
       "      <td>32.07</td>\n",
       "      <td>33.63</td>\n",
       "      <td>36.96</td>\n",
       "      <td>-0.61</td>\n",
       "      <td>36.92</td>\n",
       "      <td>10.15</td>\n",
       "      <td>2</td>\n",
       "    </tr>\n",
       "    <tr>\n",
       "      <th>137217</th>\n",
       "      <td>23.0</td>\n",
       "      <td>6.61</td>\n",
       "      <td>0.0</td>\n",
       "      <td>2.0</td>\n",
       "      <td>secondHalf</td>\n",
       "      <td>01:31:17.480000</td>\n",
       "      <td>5488.68</td>\n",
       "      <td>NaN</td>\n",
       "      <td>NaN</td>\n",
       "      <td>NaN</td>\n",
       "      <td>...</td>\n",
       "      <td>1.58</td>\n",
       "      <td>8.56</td>\n",
       "      <td>9.13</td>\n",
       "      <td>32.03</td>\n",
       "      <td>33.62</td>\n",
       "      <td>36.94</td>\n",
       "      <td>-0.57</td>\n",
       "      <td>36.9</td>\n",
       "      <td>10.19</td>\n",
       "      <td>2</td>\n",
       "    </tr>\n",
       "    <tr>\n",
       "      <th>137218</th>\n",
       "      <td>22.98</td>\n",
       "      <td>6.6</td>\n",
       "      <td>0.0</td>\n",
       "      <td>2.0</td>\n",
       "      <td>secondHalf</td>\n",
       "      <td>01:31:17.520000</td>\n",
       "      <td>5488.72</td>\n",
       "      <td>NaN</td>\n",
       "      <td>NaN</td>\n",
       "      <td>NaN</td>\n",
       "      <td>...</td>\n",
       "      <td>1.59</td>\n",
       "      <td>8.58</td>\n",
       "      <td>9.15</td>\n",
       "      <td>32.0</td>\n",
       "      <td>33.62</td>\n",
       "      <td>36.93</td>\n",
       "      <td>-0.55</td>\n",
       "      <td>36.88</td>\n",
       "      <td>10.23</td>\n",
       "      <td>2</td>\n",
       "    </tr>\n",
       "  </tbody>\n",
       "</table>\n",
       "<p>137219 rows × 64 columns</p>\n",
       "</div>"
      ],
      "text/plain": [
       "       ball_x ball_y ballstatus possession GameSection             Time  \\\n",
       "0       -0.38  -0.28        1.0        2.0   firstHalf  00:00:00.000000   \n",
       "1       -0.35   -0.3        1.0        2.0   firstHalf  00:00:00.040000   \n",
       "2       -0.33  -0.32        1.0        2.0   firstHalf  00:00:00.080000   \n",
       "3       -0.31  -0.33        1.0        2.0   firstHalf  00:00:00.120000   \n",
       "4        1.09  -0.13        1.0        2.0   firstHalf  00:00:00.160000   \n",
       "...       ...    ...        ...        ...         ...              ...   \n",
       "137214  23.04   6.63        0.0        2.0  secondHalf  01:31:17.360000   \n",
       "137215  23.02   6.62        0.0        2.0  secondHalf  01:31:17.400000   \n",
       "137216  23.01   6.62        0.0        2.0  secondHalf  01:31:17.440000   \n",
       "137217   23.0   6.61        0.0        2.0  secondHalf  01:31:17.480000   \n",
       "137218  22.98    6.6        0.0        2.0  secondHalf  01:31:17.520000   \n",
       "\n",
       "       Time [s] Home_30_x Home_30_y Home_27_x  ... Away_15_y Away_5_x  \\\n",
       "0             0    -15.89     18.66      -9.7  ...      33.4    24.99   \n",
       "1          0.04    -15.89     18.66     -9.71  ...      33.4    24.99   \n",
       "2          0.08    -15.89     18.66     -9.73  ...      33.4    24.99   \n",
       "3          0.12    -15.89     18.66     -9.75  ...     33.41    25.01   \n",
       "4          0.16    -15.88     18.66     -9.77  ...     33.42    25.01   \n",
       "...         ...       ...       ...       ...  ...       ...      ...   \n",
       "137214  5488.56       NaN       NaN       NaN  ...      1.56     8.51   \n",
       "137215   5488.6       NaN       NaN       NaN  ...      1.57     8.53   \n",
       "137216  5488.64       NaN       NaN       NaN  ...      1.58     8.54   \n",
       "137217  5488.68       NaN       NaN       NaN  ...      1.58     8.56   \n",
       "137218  5488.72       NaN       NaN       NaN  ...      1.59     8.58   \n",
       "\n",
       "       Away_5_y Away_4_x Away_4_y Away_11_x Away_11_y Away_17_x Away_17_y  \\\n",
       "0         12.99      NaN      NaN       NaN       NaN       NaN       NaN   \n",
       "1         13.01      NaN      NaN       NaN       NaN       NaN       NaN   \n",
       "2         13.02      NaN      NaN       NaN       NaN       NaN       NaN   \n",
       "3         13.03      NaN      NaN       NaN       NaN       NaN       NaN   \n",
       "4         13.05      NaN      NaN       NaN       NaN       NaN       NaN   \n",
       "...         ...      ...      ...       ...       ...       ...       ...   \n",
       "137214      9.1    32.13    33.65      37.0     -0.68     36.97     10.07   \n",
       "137215     9.11     32.1    33.64     36.98     -0.64     36.95     10.11   \n",
       "137216     9.13    32.07    33.63     36.96     -0.61     36.92     10.15   \n",
       "137217     9.13    32.03    33.62     36.94     -0.57      36.9     10.19   \n",
       "137218     9.15     32.0    33.62     36.93     -0.55     36.88     10.23   \n",
       "\n",
       "       Period  \n",
       "0           1  \n",
       "1           1  \n",
       "2           1  \n",
       "3           1  \n",
       "4           1  \n",
       "...       ...  \n",
       "137214      2  \n",
       "137215      2  \n",
       "137216      2  \n",
       "137217      2  \n",
       "137218      2  \n",
       "\n",
       "[137219 rows x 64 columns]"
      ]
     },
     "execution_count": 19,
     "metadata": {},
     "output_type": "execute_result"
    }
   ],
   "source": [
    "pos_filepath = '../DFL_04_02_positions_raw_DFL-COM-000001_DFL-MAT-0027AD.xml'\n",
    "mi_filepath = '../DFL_02_01_matchinformation_DFL-COM-000001_DFL-MAT-0027AD.xml'\n",
    "\n",
    "td_dfl, x_range_data, y_range_data = parse_dfl_pos_data(pos_filepath=pos_filepath, mi_filepath=mi_filepath)\n",
    "td_dfl"
   ]
  },
  {
   "cell_type": "code",
   "execution_count": 20,
   "id": "cc4080fe",
   "metadata": {},
   "outputs": [
    {
     "name": "stdout",
     "output_type": "stream",
     "text": [
      "tracking_data object of dfl of shape (137219, 64).\n"
     ]
    },
    {
     "data": {
      "text/html": [
       "<div>\n",
       "<style scoped>\n",
       "    .dataframe tbody tr th:only-of-type {\n",
       "        vertical-align: middle;\n",
       "    }\n",
       "\n",
       "    .dataframe tbody tr th {\n",
       "        vertical-align: top;\n",
       "    }\n",
       "\n",
       "    .dataframe thead th {\n",
       "        text-align: right;\n",
       "    }\n",
       "</style>\n",
       "<table border=\"1\" class=\"dataframe\">\n",
       "  <thead>\n",
       "    <tr style=\"text-align: right;\">\n",
       "      <th></th>\n",
       "      <th>ball_x</th>\n",
       "      <th>ball_y</th>\n",
       "      <th>ballstatus</th>\n",
       "      <th>possession</th>\n",
       "      <th>GameSection</th>\n",
       "      <th>Time</th>\n",
       "      <th>Time [s]</th>\n",
       "      <th>Home_30_x</th>\n",
       "      <th>Home_30_y</th>\n",
       "      <th>Home_27_x</th>\n",
       "      <th>...</th>\n",
       "      <th>Away_15_y</th>\n",
       "      <th>Away_5_x</th>\n",
       "      <th>Away_5_y</th>\n",
       "      <th>Away_4_x</th>\n",
       "      <th>Away_4_y</th>\n",
       "      <th>Away_11_x</th>\n",
       "      <th>Away_11_y</th>\n",
       "      <th>Away_17_x</th>\n",
       "      <th>Away_17_y</th>\n",
       "      <th>Period</th>\n",
       "    </tr>\n",
       "  </thead>\n",
       "  <tbody>\n",
       "    <tr>\n",
       "      <th>0</th>\n",
       "      <td>52.101</td>\n",
       "      <td>33.72</td>\n",
       "      <td>1.0</td>\n",
       "      <td>2.0</td>\n",
       "      <td>firstHalf</td>\n",
       "      <td>00:00:00.000000</td>\n",
       "      <td>0</td>\n",
       "      <td>35.8155</td>\n",
       "      <td>52.66</td>\n",
       "      <td>42.315</td>\n",
       "      <td>...</td>\n",
       "      <td>67.4</td>\n",
       "      <td>78.7395</td>\n",
       "      <td>46.99</td>\n",
       "      <td>NaN</td>\n",
       "      <td>NaN</td>\n",
       "      <td>NaN</td>\n",
       "      <td>NaN</td>\n",
       "      <td>NaN</td>\n",
       "      <td>NaN</td>\n",
       "      <td>1</td>\n",
       "    </tr>\n",
       "    <tr>\n",
       "      <th>1</th>\n",
       "      <td>52.1325</td>\n",
       "      <td>33.7</td>\n",
       "      <td>1.0</td>\n",
       "      <td>2.0</td>\n",
       "      <td>firstHalf</td>\n",
       "      <td>00:00:00.040000</td>\n",
       "      <td>0.04</td>\n",
       "      <td>35.8155</td>\n",
       "      <td>52.66</td>\n",
       "      <td>42.3045</td>\n",
       "      <td>...</td>\n",
       "      <td>67.4</td>\n",
       "      <td>78.7395</td>\n",
       "      <td>47.01</td>\n",
       "      <td>NaN</td>\n",
       "      <td>NaN</td>\n",
       "      <td>NaN</td>\n",
       "      <td>NaN</td>\n",
       "      <td>NaN</td>\n",
       "      <td>NaN</td>\n",
       "      <td>1</td>\n",
       "    </tr>\n",
       "    <tr>\n",
       "      <th>2</th>\n",
       "      <td>52.1535</td>\n",
       "      <td>33.68</td>\n",
       "      <td>1.0</td>\n",
       "      <td>2.0</td>\n",
       "      <td>firstHalf</td>\n",
       "      <td>00:00:00.080000</td>\n",
       "      <td>0.08</td>\n",
       "      <td>35.8155</td>\n",
       "      <td>52.66</td>\n",
       "      <td>42.2835</td>\n",
       "      <td>...</td>\n",
       "      <td>67.4</td>\n",
       "      <td>78.7395</td>\n",
       "      <td>47.02</td>\n",
       "      <td>NaN</td>\n",
       "      <td>NaN</td>\n",
       "      <td>NaN</td>\n",
       "      <td>NaN</td>\n",
       "      <td>NaN</td>\n",
       "      <td>NaN</td>\n",
       "      <td>1</td>\n",
       "    </tr>\n",
       "    <tr>\n",
       "      <th>3</th>\n",
       "      <td>52.1745</td>\n",
       "      <td>33.67</td>\n",
       "      <td>1.0</td>\n",
       "      <td>2.0</td>\n",
       "      <td>firstHalf</td>\n",
       "      <td>00:00:00.120000</td>\n",
       "      <td>0.12</td>\n",
       "      <td>35.8155</td>\n",
       "      <td>52.66</td>\n",
       "      <td>42.2625</td>\n",
       "      <td>...</td>\n",
       "      <td>67.41</td>\n",
       "      <td>78.7605</td>\n",
       "      <td>47.03</td>\n",
       "      <td>NaN</td>\n",
       "      <td>NaN</td>\n",
       "      <td>NaN</td>\n",
       "      <td>NaN</td>\n",
       "      <td>NaN</td>\n",
       "      <td>NaN</td>\n",
       "      <td>1</td>\n",
       "    </tr>\n",
       "    <tr>\n",
       "      <th>4</th>\n",
       "      <td>53.6445</td>\n",
       "      <td>33.87</td>\n",
       "      <td>1.0</td>\n",
       "      <td>2.0</td>\n",
       "      <td>firstHalf</td>\n",
       "      <td>00:00:00.160000</td>\n",
       "      <td>0.16</td>\n",
       "      <td>35.826</td>\n",
       "      <td>52.66</td>\n",
       "      <td>42.2415</td>\n",
       "      <td>...</td>\n",
       "      <td>67.42</td>\n",
       "      <td>78.7605</td>\n",
       "      <td>47.05</td>\n",
       "      <td>NaN</td>\n",
       "      <td>NaN</td>\n",
       "      <td>NaN</td>\n",
       "      <td>NaN</td>\n",
       "      <td>NaN</td>\n",
       "      <td>NaN</td>\n",
       "      <td>1</td>\n",
       "    </tr>\n",
       "  </tbody>\n",
       "</table>\n",
       "<p>5 rows × 64 columns</p>\n",
       "</div>"
      ],
      "text/plain": [
       "    ball_x ball_y ballstatus possession GameSection             Time Time [s]  \\\n",
       "0   52.101  33.72        1.0        2.0   firstHalf  00:00:00.000000        0   \n",
       "1  52.1325   33.7        1.0        2.0   firstHalf  00:00:00.040000     0.04   \n",
       "2  52.1535  33.68        1.0        2.0   firstHalf  00:00:00.080000     0.08   \n",
       "3  52.1745  33.67        1.0        2.0   firstHalf  00:00:00.120000     0.12   \n",
       "4  53.6445  33.87        1.0        2.0   firstHalf  00:00:00.160000     0.16   \n",
       "\n",
       "  Home_30_x Home_30_y Home_27_x  ... Away_15_y Away_5_x Away_5_y Away_4_x  \\\n",
       "0   35.8155     52.66    42.315  ...      67.4  78.7395    46.99      NaN   \n",
       "1   35.8155     52.66   42.3045  ...      67.4  78.7395    47.01      NaN   \n",
       "2   35.8155     52.66   42.2835  ...      67.4  78.7395    47.02      NaN   \n",
       "3   35.8155     52.66   42.2625  ...     67.41  78.7605    47.03      NaN   \n",
       "4    35.826     52.66   42.2415  ...     67.42  78.7605    47.05      NaN   \n",
       "\n",
       "  Away_4_y Away_11_x Away_11_y Away_17_x Away_17_y Period  \n",
       "0      NaN       NaN       NaN       NaN       NaN      1  \n",
       "1      NaN       NaN       NaN       NaN       NaN      1  \n",
       "2      NaN       NaN       NaN       NaN       NaN      1  \n",
       "3      NaN       NaN       NaN       NaN       NaN      1  \n",
       "4      NaN       NaN       NaN       NaN       NaN      1  \n",
       "\n",
       "[5 rows x 64 columns]"
      ]
     },
     "execution_count": 20,
     "metadata": {},
     "output_type": "execute_result"
    }
   ],
   "source": [
    "td_object_dfl = tracking_data(td_dfl, data_source='dfl', scale_to_pitch='myPitch')\n",
    "print(td_object_dfl)\n",
    "td_object_dfl.data.head()"
   ]
  },
  {
   "cell_type": "code",
   "execution_count": 21,
   "id": "b0221f1d",
   "metadata": {},
   "outputs": [
    {
     "data": {
      "text/plain": [
       "(<Figure size 640x480 with 1 Axes>, <Axes: >)"
      ]
     },
     "execution_count": 21,
     "metadata": {},
     "output_type": "execute_result"
    },
    {
     "data": {
      "image/png": "[encoded data removed]",
      "text/plain": [
       "<Figure size 640x480 with 1 Axes>"
      ]
     },
     "metadata": {},
     "output_type": "display_data"
    }
   ],
   "source": [
    "td_object_dfl.plot_players(frame=0, velocities=True)"
   ]
  },
  {
   "cell_type": "code",
   "execution_count": 22,
   "id": "6de36afa",
   "metadata": {},
   "outputs": [
    {
     "name": "stdout",
     "output_type": "stream",
     "text": [
      "Player 30 playing for the Home team.\n",
      "False\n"
     ]
    },
    {
     "data": {
      "text/html": [
       "<div>\n",
       "<style scoped>\n",
       "    .dataframe tbody tr th:only-of-type {\n",
       "        vertical-align: middle;\n",
       "    }\n",
       "\n",
       "    .dataframe tbody tr th {\n",
       "        vertical-align: top;\n",
       "    }\n",
       "\n",
       "    .dataframe thead th {\n",
       "        text-align: right;\n",
       "    }\n",
       "</style>\n",
       "<table border=\"1\" class=\"dataframe\">\n",
       "  <thead>\n",
       "    <tr style=\"text-align: right;\">\n",
       "      <th></th>\n",
       "      <th>Time</th>\n",
       "      <th>Time [s]</th>\n",
       "      <th>Home_30_x</th>\n",
       "      <th>Home_30_y</th>\n",
       "      <th>Period</th>\n",
       "      <th>Home_30_vx</th>\n",
       "      <th>Home_30_vy</th>\n",
       "      <th>Home_30_speed</th>\n",
       "    </tr>\n",
       "  </thead>\n",
       "  <tbody>\n",
       "    <tr>\n",
       "      <th>0</th>\n",
       "      <td>00:00:00.000000</td>\n",
       "      <td>0</td>\n",
       "      <td>35.8155</td>\n",
       "      <td>52.66</td>\n",
       "      <td>1</td>\n",
       "      <td>NaN</td>\n",
       "      <td>NaN</td>\n",
       "      <td>NaN</td>\n",
       "    </tr>\n",
       "    <tr>\n",
       "      <th>1</th>\n",
       "      <td>00:00:00.040000</td>\n",
       "      <td>0.04</td>\n",
       "      <td>35.8155</td>\n",
       "      <td>52.66</td>\n",
       "      <td>1</td>\n",
       "      <td>NaN</td>\n",
       "      <td>NaN</td>\n",
       "      <td>NaN</td>\n",
       "    </tr>\n",
       "    <tr>\n",
       "      <th>2</th>\n",
       "      <td>00:00:00.080000</td>\n",
       "      <td>0.08</td>\n",
       "      <td>35.8155</td>\n",
       "      <td>52.66</td>\n",
       "      <td>1</td>\n",
       "      <td>NaN</td>\n",
       "      <td>NaN</td>\n",
       "      <td>NaN</td>\n",
       "    </tr>\n",
       "    <tr>\n",
       "      <th>3</th>\n",
       "      <td>00:00:00.120000</td>\n",
       "      <td>0.12</td>\n",
       "      <td>35.8155</td>\n",
       "      <td>52.66</td>\n",
       "      <td>1</td>\n",
       "      <td>NaN</td>\n",
       "      <td>NaN</td>\n",
       "      <td>NaN</td>\n",
       "    </tr>\n",
       "    <tr>\n",
       "      <th>4</th>\n",
       "      <td>00:00:00.160000</td>\n",
       "      <td>0.16</td>\n",
       "      <td>35.826</td>\n",
       "      <td>52.66</td>\n",
       "      <td>1</td>\n",
       "      <td>0.0375</td>\n",
       "      <td>-0.035714</td>\n",
       "      <td>0.051786</td>\n",
       "    </tr>\n",
       "  </tbody>\n",
       "</table>\n",
       "</div>"
      ],
      "text/plain": [
       "              Time Time [s] Home_30_x Home_30_y  Period  Home_30_vx  \\\n",
       "0  00:00:00.000000        0   35.8155     52.66       1         NaN   \n",
       "1  00:00:00.040000     0.04   35.8155     52.66       1         NaN   \n",
       "2  00:00:00.080000     0.08   35.8155     52.66       1         NaN   \n",
       "3  00:00:00.120000     0.12   35.8155     52.66       1         NaN   \n",
       "4  00:00:00.160000     0.16    35.826     52.66       1      0.0375   \n",
       "\n",
       "   Home_30_vy  Home_30_speed  \n",
       "0         NaN            NaN  \n",
       "1         NaN            NaN  \n",
       "2         NaN            NaN  \n",
       "3         NaN            NaN  \n",
       "4   -0.035714       0.051786  "
      ]
     },
     "execution_count": 22,
     "metadata": {},
     "output_type": "execute_result"
    }
   ],
   "source": [
    "# intialize by function\n",
    "player_object = pc.get_player_from_data(td_object=td_object_dfl, pid=30, team='Home')\n",
    "print(player_object)\n",
    "print(player_object.inframe)\n",
    "player_object.org_data.head()"
   ]
  },
  {
   "cell_type": "code",
   "execution_count": 23,
   "id": "3ddbe49d",
   "metadata": {},
   "outputs": [
    {
     "name": "stdout",
     "output_type": "stream",
     "text": [
      "Player 30 playing for the Home team. Data for frame 1. \n",
      "True\n"
     ]
    },
    {
     "data": {
      "text/plain": [
       "Time             00:00:00.040000\n",
       "Time [s]                    0.04\n",
       "Home_30_x                35.8155\n",
       "Home_30_y                  52.66\n",
       "Period                         1\n",
       "Home_30_vx                   NaN\n",
       "Home_30_vy                   NaN\n",
       "Home_30_speed                NaN\n",
       "Name: 1, dtype: object"
      ]
     },
     "execution_count": 23,
     "metadata": {},
     "output_type": "execute_result"
    }
   ],
   "source": [
    "player_object = pc.get_player_from_data(td_object=td_object_dfl, pid=30, frame=1, team='Home')\n",
    "print(player_object)\n",
    "print(player_object.inframe)\n",
    "player_object.org_data"
   ]
  },
  {
   "cell_type": "code",
   "execution_count": 24,
   "id": "5aad7ea6",
   "metadata": {},
   "outputs": [
    {
     "data": {
      "text/plain": [
       "(22,\n",
       " [<Position_data.PitchControl.pitch_control.player at 0x25d01703a30>,\n",
       "  <Position_data.PitchControl.pitch_control.player at 0x25d01703dc0>,\n",
       "  <Position_data.PitchControl.pitch_control.player at 0x25d017a9cc0>,\n",
       "  <Position_data.PitchControl.pitch_control.player at 0x25d01703cd0>,\n",
       "  <Position_data.PitchControl.pitch_control.player at 0x25d017a9690>,\n",
       "  <Position_data.PitchControl.pitch_control.player at 0x25d017a8d60>,\n",
       "  <Position_data.PitchControl.pitch_control.player at 0x25d017a8640>,\n",
       "  <Position_data.PitchControl.pitch_control.player at 0x25d017ab4c0>,\n",
       "  <Position_data.PitchControl.pitch_control.player at 0x25d017a9d80>,\n",
       "  <Position_data.PitchControl.pitch_control.player at 0x25d017ab370>,\n",
       "  <Position_data.PitchControl.pitch_control.player at 0x25d017aa290>,\n",
       "  <Position_data.PitchControl.pitch_control.player at 0x25d017a9540>,\n",
       "  <Position_data.PitchControl.pitch_control.player at 0x25d017aa9b0>,\n",
       "  <Position_data.PitchControl.pitch_control.player at 0x25d017a85b0>,\n",
       "  <Position_data.PitchControl.pitch_control.player at 0x25d017abbb0>,\n",
       "  <Position_data.PitchControl.pitch_control.player at 0x25d017ab640>,\n",
       "  <Position_data.PitchControl.pitch_control.player at 0x25d017aac80>,\n",
       "  <Position_data.PitchControl.pitch_control.player at 0x25d017ab760>,\n",
       "  <Position_data.PitchControl.pitch_control.player at 0x25d017ab9d0>,\n",
       "  <Position_data.PitchControl.pitch_control.player at 0x25d017a8af0>,\n",
       "  <Position_data.PitchControl.pitch_control.player at 0x25d017a8ee0>,\n",
       "  <Position_data.PitchControl.pitch_control.player at 0x25d017ab3a0>])"
      ]
     },
     "execution_count": 24,
     "metadata": {},
     "output_type": "execute_result"
    }
   ],
   "source": [
    "players = pc.get_all_players(td_object=td_object_dfl, frame=1)\n",
    "len(players), players"
   ]
  },
  {
   "cell_type": "code",
   "execution_count": 25,
   "id": "13420b82",
   "metadata": {},
   "outputs": [
    {
     "data": {
      "text/plain": [
       "array([[1.        , 1.        , 0.99040709, ..., 0.        , 0.        ,\n",
       "        0.        ],\n",
       "       [1.        , 1.        , 1.        , ..., 0.        , 0.        ,\n",
       "        0.        ],\n",
       "       [1.        , 1.        , 1.        , ..., 0.        , 0.        ,\n",
       "        0.        ],\n",
       "       ...,\n",
       "       [1.        , 1.        , 1.        , ..., 0.        , 0.        ,\n",
       "        0.        ],\n",
       "       [1.        , 1.        , 1.        , ..., 0.        , 0.        ,\n",
       "        0.        ],\n",
       "       [1.        , 1.        , 0.99271659, ..., 0.        , 0.        ,\n",
       "        0.        ]])"
      ]
     },
     "execution_count": 25,
     "metadata": {},
     "output_type": "execute_result"
    }
   ],
   "source": [
    "PPCFa,xgrid,ygrid = pc.pitch_control_at_frame(frame=1, td_object=td_object_dfl)\n",
    "PPCFa"
   ]
  },
  {
   "cell_type": "code",
   "execution_count": 26,
   "id": "d37284e8",
   "metadata": {},
   "outputs": [
    {
     "data": {
      "text/plain": [
       "(<Figure size 640x480 with 1 Axes>, <Axes: >)"
      ]
     },
     "execution_count": 26,
     "metadata": {},
     "output_type": "execute_result"
    },
    {
     "data": {
      "image/png": "[encoded data removed]",
      "text/plain": [
       "<Figure size 640x480 with 1 Axes>"
      ]
     },
     "metadata": {},
     "output_type": "display_data"
    }
   ],
   "source": [
    "pc.plot_pitch_control(td_object=td_object_dfl, frame=100, velocities=True)"
   ]
  },
  {
   "cell_type": "code",
   "execution_count": null,
   "id": "f0dd07b5",
   "metadata": {},
   "outputs": [],
   "source": [
    "#pc.animate_pitch_control(td_object=td_object_dfl, start_frame=1, end_frame=101, fname='dfl_pc_clip', velocities=True,\n",
    "#                        progress_steps=[0.1, 0.2, 0.3, 0.4, 0.5, 0.6, 0.7, 0.8, 0.9])"
   ]
  },
  {
   "cell_type": "code",
   "execution_count": 27,
   "id": "d49d3264",
   "metadata": {},
   "outputs": [
    {
     "data": {
      "text/plain": [
       "(<Figure size 640x480 with 1 Axes>, <Axes: >)"
      ]
     },
     "execution_count": 27,
     "metadata": {},
     "output_type": "execute_result"
    },
    {
     "data": {
      "image/png": "[encoded data removed]",
      "text/plain": [
       "<Figure size 640x480 with 1 Axes>"
      ]
     },
     "metadata": {},
     "output_type": "display_data"
    }
   ],
   "source": [
    "pc.plot_pitch_control(td_object=td_object_dfl, frame=100, velocities=True, offside=True)"
   ]
  },
  {
   "cell_type": "code",
   "execution_count": null,
   "id": "59796df6",
   "metadata": {},
   "outputs": [],
   "source": []
  }
 ],
 "metadata": {
  "kernelspec": {
   "display_name": "Football_Analytics_venv",
   "language": "python",
   "name": "football_analytics_venv"
  },
  "language_info": {
   "codemirror_mode": {
    "name": "ipython",
    "version": 3
   },
   "file_extension": ".py",
   "mimetype": "text/x-python",
   "name": "python",
   "nbconvert_exporter": "python",
   "pygments_lexer": "ipython3",
   "version": "3.10.11"
  }
 },
 "nbformat": 4,
 "nbformat_minor": 5
}
