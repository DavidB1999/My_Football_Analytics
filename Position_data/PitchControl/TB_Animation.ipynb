{
 "cells": [
  {
   "cell_type": "code",
   "execution_count": 1,
   "id": "6ba069fc",
   "metadata": {},
   "outputs": [],
   "source": [
    "import sys\n",
    "sys.path.append('C:\\\\Users\\\\DavidB\\\\PycharmProjects\\\\My_Football_Analytics\\\\Basics')\n",
    "sys.path.append('C://Users//DavidB//PycharmProjects//My_Football_Analytics//Position_data')\n",
    "\n",
    "import pandas as pd\n",
    "import numpy as np\n",
    "from Tracking_Data import tracking_data  # wrong here but necessary for use in notebooks\n",
    "from Pitch.My_Pitch import \\\n",
    "    myPitch  # might need adaptation of path depending on whether it is used in pycharm or jupyter notebook\n",
    "from mplsoccer import Pitch\n",
    "import matplotlib.pyplot as plt\n",
    "import matplotlib.animation as animation\n",
    "import torch\n",
    "from torch.nn.functional import softplus\n",
    "import Data.Metrica_IO as mio\n",
    "import pitch_control\n",
    "from matplotlib.animation import FuncAnimation\n"
   ]
  },
  {
   "cell_type": "code",
   "execution_count": 2,
   "id": "655abd76",
   "metadata": {},
   "outputs": [
    {
     "name": "stdout",
     "output_type": "stream",
     "text": [
      "Reading team: away\n",
      "Reading team: home\n"
     ]
    },
    {
     "data": {
      "text/plain": [
       "<Tracking_Data.tracking_data at 0x1efbd7f3df0>"
      ]
     },
     "execution_count": 2,
     "metadata": {},
     "output_type": "execute_result"
    }
   ],
   "source": [
    "# supposed to be based on td_object --> first create one\n",
    "# everywhere we call the object now will later be self\n",
    "\n",
    "data_dir = 'sample-data-master/data/'\n",
    "game_id = 1\n",
    "away = mio.tracking_data(DATADIR=data_dir, game_id=game_id, teamname='Away')\n",
    "home = mio.tracking_data(DATADIR=data_dir, game_id=game_id, teamname='Home')\n",
    "td = mio.merge_tracking_data(home, away)\n",
    "td_object = tracking_data(td, data_source='metrica', scale_to_pitch='mplsoccer')\n",
    "td_object.get_velocities()\n",
    "\n",
    "td_object"
   ]
  },
  {
   "cell_type": "code",
   "execution_count": 3,
   "id": "6db08786",
   "metadata": {
    "scrolled": true
   },
   "outputs": [
    {
     "name": "stdout",
     "output_type": "stream",
     "text": [
      "Running Spearman's pitch control computation based on Gauss legendre quadration\n",
      "Current batch: 1/2\n",
      "Current batch: 2/2\n",
      "Generating your clip...\n",
      "25.0% done!\n",
      "50.0% done!\n",
      "75.0% done!\n",
      "All done!\n"
     ]
    }
   ],
   "source": [
    "pitch_control.animate_tensor_pitch_control(td_object=td_object, fname='Ani_0_100')"
   ]
  },
  {
   "cell_type": "code",
   "execution_count": 4,
   "id": "d255c536",
   "metadata": {},
   "outputs": [
    {
     "data": {
      "text/plain": [
       "Int64Index([     1,      2,      3,      4,      5,      6,      7,      8,\n",
       "                 9,     10,\n",
       "            ...\n",
       "            144997, 144998, 144999, 145000, 145001, 145002, 145003, 145004,\n",
       "            145005, 145006],\n",
       "           dtype='int64', name='Frame', length=145006)"
      ]
     },
     "execution_count": 4,
     "metadata": {},
     "output_type": "execute_result"
    }
   ],
   "source": [
    "td_object.data.index"
   ]
  },
  {
   "cell_type": "code",
   "execution_count": 5,
   "id": "d54c6e20",
   "metadata": {},
   "outputs": [
    {
     "name": "stdout",
     "output_type": "stream",
     "text": [
      "Running Spearman's pitch control computation based on Gauss legendre quadration\n",
      "Current batch: 1/4\n",
      "Current batch: 2/4\n",
      "Current batch: 3/4\n",
      "Current batch: 4/4\n"
     ]
    }
   ],
   "source": [
    "PC = pitch_control.tensor_pitch_control(td_object=td_object, first_frame=1000, last_frame=2000, version='Spearman')"
   ]
  },
  {
   "cell_type": "code",
   "execution_count": 6,
   "id": "bff2746b",
   "metadata": {},
   "outputs": [
    {
     "name": "stdout",
     "output_type": "stream",
     "text": [
      "Running Spearman's pitch control computation based on Gauss legendre quadration\n",
      "Current batch: 1/4\n",
      "Current batch: 2/4\n",
      "Current batch: 3/4\n",
      "Current batch: 4/4\n",
      "Generating your clip...\n",
      "25.0% done!\n",
      "50.0% done!\n",
      "75.0% done!\n",
      "All done!\n"
     ]
    }
   ],
   "source": [
    "pitch_control.animate_tensor_pitch_control(td_object=td_object, first_frame_calc=1000, last_frame_calc=2000,\n",
    "                                           first_frame_ani=1000, last_frame_ani=1500, fname='Ani_1000_1500',\n",
    "                                           version='Spearman')\n",
    "\n",
    "                                           "
   ]
  },
  {
   "cell_type": "code",
   "execution_count": 7,
   "id": "d98c269e",
   "metadata": {},
   "outputs": [
    {
     "name": "stdout",
     "output_type": "stream",
     "text": [
      "Generating your clip...\n",
      "25.0% done!\n",
      "50.0% done!\n",
      "75.0% done!\n",
      "All done!\n"
     ]
    }
   ],
   "source": [
    "pitch_control.animate_tensor_pitch_control(td_object=td_object, first_frame_calc=1000, last_frame_calc=2000,\n",
    "                                           first_frame_ani=1000, last_frame_ani=2000, fname='Ani_1000_2000',\n",
    "                                           pitch_control=PC, version='Spearman')"
   ]
  },
  {
   "cell_type": "code",
   "execution_count": 8,
   "id": "d2e2193a",
   "metadata": {},
   "outputs": [
    {
     "name": "stdout",
     "output_type": "stream",
     "text": [
      "Running Spearman's pitch control computation based on Gauss legendre quadration\n",
      "Current batch: 1/3\n",
      "Current batch: 2/3\n",
      "Current batch: 3/3\n",
      "Generating your clip...\n",
      "25.0% done!\n",
      "50.0% done!\n",
      "75.0% done!\n",
      "All done!\n"
     ]
    }
   ],
   "source": [
    "pitch_control.animate_tensor_pitch_control(td_object=td_object, first_frame_calc=1750, last_frame_calc=2500,\n",
    "                                           first_frame_ani=1750, last_frame_ani=2500, fname='Ani_1750_2500',\n",
    "                                           version='Spearman')\n"
   ]
  },
  {
   "cell_type": "code",
   "execution_count": null,
   "id": "124ccde4",
   "metadata": {},
   "outputs": [],
   "source": []
  }
 ],
 "metadata": {
  "kernelspec": {
   "display_name": "Football_Analytics_venv",
   "language": "python",
   "name": "football_analytics_venv"
  },
  "language_info": {
   "codemirror_mode": {
    "name": "ipython",
    "version": 3
   },
   "file_extension": ".py",
   "mimetype": "text/x-python",
   "name": "python",
   "nbconvert_exporter": "python",
   "pygments_lexer": "ipython3",
   "version": "3.10.11"
  }
 },
 "nbformat": 4,
 "nbformat_minor": 5
}
