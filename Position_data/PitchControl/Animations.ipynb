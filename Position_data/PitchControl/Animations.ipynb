{
 "cells": [
  {
   "cell_type": "code",
   "execution_count": 1,
   "id": "7ede0c97",
   "metadata": {},
   "outputs": [],
   "source": [
    "import sys\n",
    "sys.path.append('C:\\\\Users\\\\DavidB\\\\PycharmProjects\\\\My_Football_Analytics')\n",
    "\n",
    "import Basics.Data.Metrica_IO as mio\n",
    "from Position_data.Tracking_Data import tracking_data\n",
    "import Position_data.PitchControl.pitch_control as pico\n",
    "import pandas as pd"
   ]
  },
  {
   "cell_type": "code",
   "execution_count": 2,
   "id": "aac7cff9",
   "metadata": {},
   "outputs": [
    {
     "name": "stdout",
     "output_type": "stream",
     "text": [
      "Reading team: away\n",
      "Reading team: home\n"
     ]
    }
   ],
   "source": [
    "away_data = pd.read_csv('https://raw.githubusercontent.com/metrica-sports/sample-data/master/data/Sample_Game_1/Sample_Game_1_RawTrackingData_Away_Team.csv', skiprows=2)\n",
    "home_data = pd.read_csv('https://raw.githubusercontent.com/metrica-sports/sample-data/master/data/Sample_Game_1/Sample_Game_1_RawTrackingData_Home_Team.csv', skiprows=2)\n",
    "\n",
    "data_dir = 'sample-data-master/data/'\n",
    "game_id = 1\n",
    "away = mio.tracking_data(DATADIR=data_dir, game_id=game_id, teamname='Away')\n",
    "home = mio.tracking_data(DATADIR=data_dir, game_id=game_id, teamname='Home')\n",
    "td = mio.merge_tracking_data(home, away)\n",
    "td_object = tracking_data(td, data_source='metrica', scale_to_pitch='myPitch')"
   ]
  },
  {
   "cell_type": "code",
   "execution_count": 3,
   "id": "4f0e54a5",
   "metadata": {},
   "outputs": [
    {
     "name": "stdout",
     "output_type": "stream",
     "text": [
      "Current batch: 1/2\n",
      "Current batch: 2/2\n",
      "Generating your clip...\n",
      "25.0% done!\n",
      "50.0% done!\n",
      "75.0% done!\n",
      "All done!\n"
     ]
    }
   ],
   "source": [
    "pico.animate_tensor_pitch_control(td_object=td_object, version='Fernandez', fname='Animation_Fernandez_adap_0_250',\n",
    "                                   implementation='adap', n_grid_points_x=105, n_grid_points_y=68, first_frame_ani=0,\n",
    "                                  last_frame_ani=250)"
   ]
  },
  {
   "cell_type": "code",
   "execution_count": 4,
   "id": "933bf218",
   "metadata": {},
   "outputs": [
    {
     "name": "stdout",
     "output_type": "stream",
     "text": [
      "Running Spearman's pitch control computation based on Gauss legendre quadration\n",
      "Current batch: 1/2\n",
      "Current batch: 2/2\n",
      "Generating your clip...\n",
      "25.0% done!\n",
      "50.0% done!\n",
      "75.0% done!\n",
      "All done!\n"
     ]
    }
   ],
   "source": [
    "pico.animate_tensor_pitch_control(td_object=td_object, version='Spearman', fname='Animation_Spearman_gl_0_250',\n",
    "                                   implementation='GL', n_grid_points_x=105, n_grid_points_y=68, first_frame_ani=0,\n",
    "                                  last_frame_ani=250)"
   ]
  },
  {
   "cell_type": "code",
   "execution_count": null,
   "id": "d7983109",
   "metadata": {},
   "outputs": [],
   "source": []
  }
 ],
 "metadata": {
  "kernelspec": {
   "display_name": "Football_Analytics_venv",
   "language": "python",
   "name": "football_analytics_venv"
  },
  "language_info": {
   "codemirror_mode": {
    "name": "ipython",
    "version": 3
   },
   "file_extension": ".py",
   "mimetype": "text/x-python",
   "name": "python",
   "nbconvert_exporter": "python",
   "pygments_lexer": "ipython3",
   "version": "3.10.11"
  }
 },
 "nbformat": 4,
 "nbformat_minor": 5
}
