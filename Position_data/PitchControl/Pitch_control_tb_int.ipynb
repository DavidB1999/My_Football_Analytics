{
 "cells": [
  {
   "cell_type": "markdown",
   "id": "09c2edcb",
   "metadata": {},
   "source": [
    "# Tensor based approach to Spearman's pitch control\n",
    "\n",
    "Code from anenglishgoat [https://github.com/anenglishgoat/Metrica-pitch-control/blob/master/FastSpearmanPitchControl.ipynb ] <br>\n",
    "\n",
    "This approach uses a loop for integration just like Laurie Shaw did! <br>"
   ]
  },
  {
   "cell_type": "code",
   "execution_count": 1,
   "id": "d1ba9325",
   "metadata": {},
   "outputs": [],
   "source": [
    "import pandas as pd\n",
    "import numpy as np\n",
    "import torch\n",
    "from torch.nn.functional import softplus\n",
    "\n",
    "## set GPU or CPU (uncomment second line to use CPU)\n",
    "# device = torch.device('cuda:0'); dtype = torch.float16\n",
    "device = 'cpu'; dtype = torch.float32"
   ]
  },
  {
   "cell_type": "code",
   "execution_count": 2,
   "id": "21ac3aaf",
   "metadata": {},
   "outputs": [],
   "source": [
    "away_data = pd.read_csv('https://raw.githubusercontent.com/metrica-sports/sample-data/master/data/Sample_Game_1/Sample_Game_1_RawTrackingData_Away_Team.csv', skiprows=2)\n",
    "home_data = pd.read_csv('https://raw.githubusercontent.com/metrica-sports/sample-data/master/data/Sample_Game_1/Sample_Game_1_RawTrackingData_Home_Team.csv', skiprows=2)\n"
   ]
  },
  {
   "cell_type": "code",
   "execution_count": 3,
   "id": "ca81aa77",
   "metadata": {},
   "outputs": [
    {
     "name": "stderr",
     "output_type": "stream",
     "text": [
      "C:\\Users\\DavidB\\PycharmProjects\\My_Football_Analytics\\Football_Analytics_venv\\lib\\site-packages\\torch\\functional.py:504: UserWarning: torch.meshgrid: in an upcoming release, it will be required to pass the indexing argument. (Triggered internally at ..\\aten\\src\\ATen\\native\\TensorShape.cpp:3527.)\n",
      "  return _VF.meshgrid(tensors, **kwargs)  # type: ignore[attr-defined]\n"
     ]
    }
   ],
   "source": [
    "\n",
    "jitter = 1e-12 ## prevents division by zero when player is stationary\n",
    "\n",
    "## set nans to large negative value -- this makes pitch control for players who aren't involved negligibly small everywhere\n",
    "# on the pitch\n",
    "home_pos = np.array([np.asarray(home_data.iloc[:,range(3 + j*2,3 + j*2 +2)]) for j in range(14)]) * np.array([105,68])\n",
    "np.nan_to_num(home_pos,copy=False,nan=-1000)\n",
    "away_pos = np.array([np.asarray(away_data.iloc[:,range(3 + j*2,3 + j*2 +2)]) for j in range(14)]) * np.array([105,68])\n",
    "np.nan_to_num(away_pos,copy=False,nan=-1000)\n",
    "ball_pos = (np.asarray(home_data.iloc[:,range(31,33)]) * np.array([105,68]))[:,None,None,:]\n",
    "\n",
    "\n",
    "# defining the delta in seconds between frames\n",
    "tt = np.asarray(home_data['Time [s]'])\n",
    "dt = tt[1:] - tt[:-1] \n",
    "# velocity in both x and y axis + jitter \n",
    "# jitter prevents division by zero when player is stationary\n",
    "home_v = (home_pos[:,1:,:] - home_pos[:,:-1,:])/dt[:,None] + jitter\n",
    "np.nan_to_num(home_v,copy=False,nan=-1000)\n",
    "away_v = (away_pos[:,1:,:] - away_pos[:,:-1,:])/dt[:,None] + jitter\n",
    "np.nan_to_num(away_v,copy=False,nan=-1000)\n",
    "# velocity -1000 not really necessary?\n",
    "\n",
    "\n",
    "\n",
    "\n",
    "# severe changes in the shape of the arrays\n",
    "# I am not 100% how and why this is necessary\n",
    "# This is probably necessary for later \n",
    "home_pos = home_pos[:,1:,None,None,:]\n",
    "away_pos = away_pos[:,1:,None,None,:]\n",
    "home_v = home_v[:,:,None,None,:]\n",
    "away_v = away_v[:,:,None,None,:]\n",
    "ball_pos = ball_pos[None,1:]\n",
    "\n",
    "## set up evaluation grid and set some pitch control parameters (these are taken from the FoT code)\n",
    "reaction_time = 0.7\n",
    "max_player_speed = 5.\n",
    "average_ball_speed = 15.\n",
    "sigma = np.pi / np.sqrt(3.) / 0.45\n",
    "lamb = 4.3\n",
    "n_grid_points_x = 50\n",
    "n_grid_points_y = 30\n",
    "# create grid based on tensors\n",
    "XX,YY = torch.meshgrid(torch.linspace(0,105,n_grid_points_x, device = device, dtype=dtype),\n",
    "                       torch.linspace(0,68,n_grid_points_y,device=device,dtype=dtype))\n",
    "target_position = torch.stack([XX,YY],2)[None,None,:,:,:] # all possible positions\n",
    "\n",
    "\n",
    "# the weights and the x-points of the Gauss–Legendre quadrature are set up and stored as torch tensors\n",
    "# I assume that, as the Gauss–Legendre quadrature spans the range of [-1, 1] (length of 2), the 50 points selected\n",
    "# represent the number of frames in a 2 second time period based on a framerate of 25Hz (i.e. 25 frames / second)\n",
    "ti,wi = np.polynomial.legendre.leggauss(50) ## used for numerical integration later on\n",
    "ti = torch.tensor(ti,device = device,dtype=dtype)\n",
    "wi = torch.tensor(wi,device=device,dtype=dtype)\n",
    "\n",
    "\n",
    "\n",
    "\n",
    "n_frames = home_pos.shape[1]\n",
    "first_frame = 0\n",
    "batch_size = 250\n",
    "\n",
    "# time to intercept empty torch\n",
    "tti = torch.empty([28,batch_size,n_grid_points_x,n_grid_points_y],device = device,dtype=dtype)\n",
    "# 28 players*500 batches*grid\n",
    "tmp2 = torch.empty([28,batch_size,n_grid_points_x,n_grid_points_y,1],device = device,dtype=dtype)\n",
    "# 28 players*500 batches*grid * 1\n",
    "pc = torch.empty([n_frames,n_grid_points_x,n_grid_points_y],device = device,dtype=dtype)\n",
    "# frames * grid"
   ]
  },
  {
   "cell_type": "code",
   "execution_count": 4,
   "id": "bd1ce414",
   "metadata": {},
   "outputs": [],
   "source": [
    "#for f in range(int(n_frames/batch_size)):\n",
    "for f in range(1):\n",
    "    bp = torch.tensor(ball_pos[:,(first_frame + f*batch_size):(np.minimum(first_frame + (f+1)*batch_size,int(first_frame + n_frames)))],device = device,dtype=dtype)\n",
    "    hp = torch.tensor(home_pos[:,(first_frame + f*batch_size):(np.minimum(first_frame + (f+1)*batch_size,int(first_frame + n_frames)))],device = device,dtype=dtype)\n",
    "    hv = torch.tensor(home_v[:,(first_frame + f*batch_size):(np.minimum(first_frame + (f+1)*batch_size,int(first_frame + n_frames)))],device = device,dtype=dtype)\n",
    "    ap = torch.tensor(away_pos[:,(first_frame + f*batch_size):(np.minimum(first_frame + (f+1)*batch_size,int(first_frame + n_frames)))],device = device,dtype=dtype)\n",
    "    av = torch.tensor(away_v[:,(first_frame + f*batch_size):(np.minimum(first_frame + (f+1)*batch_size,int(first_frame + n_frames)))],device = device,dtype=dtype)\n",
    "    ball_travel_time = torch.norm(target_position - bp, dim=4).div_(average_ball_speed)\n",
    "    r_reaction_home = hp + hv.mul_(reaction_time)\n",
    "    r_reaction_away = ap + av.mul_(reaction_time)\n",
    "    r_reaction_home = r_reaction_home - target_position\n",
    "    r_reaction_away = r_reaction_away - target_position\n",
    "    tti[:14,:ball_travel_time.shape[1]] = torch.norm(r_reaction_home,dim=4).add_(reaction_time).div_(max_player_speed)\n",
    "    tti[14:,:ball_travel_time.shape[1]] = torch.norm(r_reaction_away,dim=4).add_(reaction_time).div_(max_player_speed)\n",
    "\n",
    "    y = torch.zeros([28,bp.shape[1],n_grid_points_x,n_grid_points_y],device = device,dtype=dtype)\n",
    "\n",
    "    for tt in range(500):\n",
    "        sumy = torch.sum(y, dim=0) # control over all players\n",
    "        if torch.min(sumy) > 0.99:\n",
    "            break\n",
    "        y += 0.04 * lamb * (1. - sumy) * 1. / (1. + torch.exp(-sigma * (0.04*tt + ball_travel_time - tti)))\n",
    "        # dt * lambda * probability that noone else control it * probability of intercept as in eq (3)\n",
    "        # for every dt after ball arrived until convergence  \n",
    "    pc[(first_frame + f*batch_size):(np.minimum(first_frame + (f+1)*batch_size,int(first_frame + n_frames)))] = y[:14].sum(0)\n"
   ]
  },
  {
   "cell_type": "code",
   "execution_count": null,
   "id": "499cb673",
   "metadata": {},
   "outputs": [],
   "source": []
  }
 ],
 "metadata": {
  "kernelspec": {
   "display_name": "Football_Analytics_venv",
   "language": "python",
   "name": "football_analytics_venv"
  },
  "language_info": {
   "codemirror_mode": {
    "name": "ipython",
    "version": 3
   },
   "file_extension": ".py",
   "mimetype": "text/x-python",
   "name": "python",
   "nbconvert_exporter": "python",
   "pygments_lexer": "ipython3",
   "version": "3.10.11"
  }
 },
 "nbformat": 4,
 "nbformat_minor": 5
}
