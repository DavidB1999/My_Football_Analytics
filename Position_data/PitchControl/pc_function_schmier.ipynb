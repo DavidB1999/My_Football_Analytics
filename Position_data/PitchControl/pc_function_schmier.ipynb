{
 "cells": [
  {
   "cell_type": "code",
   "execution_count": 1,
   "id": "9b74a9c9",
   "metadata": {},
   "outputs": [],
   "source": [
    "import sys\n",
    "sys.path.append('C:\\\\Users\\\\DavidB\\\\PycharmProjects\\\\My_Football_Analytics\\\\Basics')\n",
    "sys.path.append('C://Users//DavidB//PycharmProjects//My_Football_Analytics//Position_data')\n",
    "\n",
    "import pandas as pd\n",
    "import numpy as np\n",
    "import torch\n",
    "from torch.nn.functional import softplus\n",
    "import Data.Metrica_IO as mio\n",
    "from Tracking_Data import tracking_data\n",
    "import pitch_control\n",
    "\n",
    "## set GPU or CPU (uncomment second line to use CPU)\n",
    "# device = torch.device('cuda:0'); dtype = torch.float16\n",
    "device = 'cpu'; dtype = torch.float32"
   ]
  },
  {
   "cell_type": "code",
   "execution_count": 2,
   "id": "9b1e53f1",
   "metadata": {},
   "outputs": [
    {
     "name": "stdout",
     "output_type": "stream",
     "text": [
      "Reading team: away\n",
      "Reading team: home\n"
     ]
    },
    {
     "data": {
      "text/plain": [
       "<Tracking_Data.tracking_data at 0x1cdd0571270>"
      ]
     },
     "execution_count": 2,
     "metadata": {},
     "output_type": "execute_result"
    }
   ],
   "source": [
    "# supposed to be based on td_object --> first create one\n",
    "# everywhere we call the object now will later be self\n",
    "\n",
    "data_dir = 'sample-data-master/data/'\n",
    "game_id = 1\n",
    "away = mio.tracking_data(DATADIR=data_dir, game_id=game_id, teamname='Away')\n",
    "home = mio.tracking_data(DATADIR=data_dir, game_id=game_id, teamname='Home')\n",
    "td = mio.merge_tracking_data(home, away)\n",
    "td_object = tracking_data(td, data_source='metrica', scale_to_pitch='mplsoccer')\n",
    "td_object.get_velocities()\n",
    "\n",
    "td_object"
   ]
  },
  {
   "cell_type": "code",
   "execution_count": 3,
   "id": "3375a001",
   "metadata": {
    "scrolled": false
   },
   "outputs": [
    {
     "name": "stdout",
     "output_type": "stream",
     "text": [
      "Current batch: 1/2\n",
      "Current batch: 2/2\n"
     ]
    }
   ],
   "source": [
    "pc, S, h, wi = pitch_control.tensor_pitch_control(td_object)"
   ]
  },
  {
   "cell_type": "code",
   "execution_count": 10,
   "id": "9afc7dd7",
   "metadata": {},
   "outputs": [
    {
     "data": {
      "text/plain": [
       "<matplotlib.image.AxesImage at 0x1cd85e2ed40>"
      ]
     },
     "execution_count": 10,
     "metadata": {},
     "output_type": "execute_result"
    },
    {
     "data": {
      "image/png": "[encoded data removed]",
      "text/plain": [
       "<Figure size 640x480 with 1 Axes>"
      ]
     },
     "metadata": {},
     "output_type": "display_data"
    }
   ],
   "source": [
    "cmap = 'bwr'\n",
    "\n",
    "fig, ax = td_object.plot_players(frame=100, velocities=True)\n",
    "ax.imshow(np.flipud(pc[100].rot90()), extent=(\n",
    "   td_object.x_range_pitch[0], td_object.x_range_pitch[1], td_object.y_range_pitch[1],\n",
    "          td_object.y_range_pitch[0]), cmap=cmap, alpha=0.5, vmin=0.0, vmax=1.0)\n"
   ]
  },
  {
   "cell_type": "code",
   "execution_count": 6,
   "id": "5841075b",
   "metadata": {},
   "outputs": [
    {
     "data": {
      "text/plain": [
       "{'y': {'data': (1, 0),\n",
       "  'pitch': (80, 0),\n",
       "  'home_columns': ['Home_11_y',\n",
       "   'Home_1_y',\n",
       "   'Home_2_y',\n",
       "   'Home_3_y',\n",
       "   'Home_4_y',\n",
       "   'Home_5_y',\n",
       "   'Home_6_y',\n",
       "   'Home_7_y',\n",
       "   'Home_8_y',\n",
       "   'Home_9_y',\n",
       "   'Home_10_y',\n",
       "   'Home_12_y',\n",
       "   'Home_13_y',\n",
       "   'Home_14_y'],\n",
       "  'away_columns': ['Away_25_y',\n",
       "   'Away_15_y',\n",
       "   'Away_16_y',\n",
       "   'Away_17_y',\n",
       "   'Away_18_y',\n",
       "   'Away_19_y',\n",
       "   'Away_20_y',\n",
       "   'Away_21_y',\n",
       "   'Away_22_y',\n",
       "   'Away_23_y',\n",
       "   'Away_24_y',\n",
       "   'Away_26_y',\n",
       "   'Away_27_y',\n",
       "   'Away_28_y'],\n",
       "  'ball_columns': ['ball_y'],\n",
       "  'delta_data': -1,\n",
       "  'delta_pitch': -80,\n",
       "  'scaling_factor': 80.0},\n",
       " 'x': {'data': (0, 1),\n",
       "  'pitch': (0, 120),\n",
       "  'home_columns': ['Home_11_x',\n",
       "   'Home_1_x',\n",
       "   'Home_2_x',\n",
       "   'Home_3_x',\n",
       "   'Home_4_x',\n",
       "   'Home_5_x',\n",
       "   'Home_6_x',\n",
       "   'Home_7_x',\n",
       "   'Home_8_x',\n",
       "   'Home_9_x',\n",
       "   'Home_10_x',\n",
       "   'Home_12_x',\n",
       "   'Home_13_x',\n",
       "   'Home_14_x'],\n",
       "  'away_columns': ['Away_25_x',\n",
       "   'Away_15_x',\n",
       "   'Away_16_x',\n",
       "   'Away_17_x',\n",
       "   'Away_18_x',\n",
       "   'Away_19_x',\n",
       "   'Away_20_x',\n",
       "   'Away_21_x',\n",
       "   'Away_22_x',\n",
       "   'Away_23_x',\n",
       "   'Away_24_x',\n",
       "   'Away_26_x',\n",
       "   'Away_27_x',\n",
       "   'Away_28_x'],\n",
       "  'ball_columns': ['ball_x'],\n",
       "  'delta_data': 1,\n",
       "  'delta_pitch': 120,\n",
       "  'scaling_factor': 120.0}}"
      ]
     },
     "execution_count": 6,
     "metadata": {},
     "output_type": "execute_result"
    }
   ],
   "source": [
    "td_object.dimensions"
   ]
  },
  {
   "cell_type": "code",
   "execution_count": null,
   "id": "9a08b519",
   "metadata": {},
   "outputs": [],
   "source": [
    "y"
   ]
  }
 ],
 "metadata": {
  "kernelspec": {
   "display_name": "Football_Analytics_venv",
   "language": "python",
   "name": "football_analytics_venv"
  },
  "language_info": {
   "codemirror_mode": {
    "name": "ipython",
    "version": 3
   },
   "file_extension": ".py",
   "mimetype": "text/x-python",
   "name": "python",
   "nbconvert_exporter": "python",
   "pygments_lexer": "ipython3",
   "version": "3.10.11"
  }
 },
 "nbformat": 4,
 "nbformat_minor": 5
}
