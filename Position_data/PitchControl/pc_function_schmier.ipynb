{
 "cells": [
  {
   "cell_type": "code",
   "execution_count": 1,
   "id": "9b74a9c9",
   "metadata": {},
   "outputs": [],
   "source": [
    "import sys\n",
    "sys.path.append('C:\\\\Users\\\\DavidB\\\\PycharmProjects\\\\My_Football_Analytics\\\\Basics')\n",
    "sys.path.append('C://Users//DavidB//PycharmProjects//My_Football_Analytics//Position_data')\n",
    "\n",
    "import pandas as pd\n",
    "import numpy as np\n",
    "import torch\n",
    "from torch.nn.functional import softplus\n",
    "import Data.Metrica_IO as mio\n",
    "from Tracking_Data import tracking_data\n",
    "import pitch_control as pc\n",
    "\n",
    "## set GPU or CPU (uncomment second line to use CPU)\n",
    "# device = torch.device('cuda:0'); dtype = torch.float16\n",
    "device = 'cpu'; dtype = torch.float32"
   ]
  },
  {
   "cell_type": "code",
   "execution_count": 2,
   "id": "9b1e53f1",
   "metadata": {},
   "outputs": [
    {
     "name": "stdout",
     "output_type": "stream",
     "text": [
      "Reading team: away\n",
      "Reading team: home\n"
     ]
    },
    {
     "data": {
      "text/plain": [
       "<Tracking_Data.tracking_data at 0x1f8ba531330>"
      ]
     },
     "execution_count": 2,
     "metadata": {},
     "output_type": "execute_result"
    }
   ],
   "source": [
    "# supposed to be based on td_object --> first create one\n",
    "# everywhere we call the object now will later be self\n",
    "\n",
    "data_dir = 'sample-data-master/data/'\n",
    "game_id = 1\n",
    "away = mio.tracking_data(DATADIR=data_dir, game_id=game_id, teamname='Away')\n",
    "home = mio.tracking_data(DATADIR=data_dir, game_id=game_id, teamname='Home')\n",
    "td = mio.merge_tracking_data(home, away)\n",
    "td_object = tracking_data(td, data_source='metrica', scale_to_pitch='myPitch')\n",
    "td_object.get_velocities()\n",
    "\n",
    "td_object"
   ]
  },
  {
   "cell_type": "code",
   "execution_count": 3,
   "id": "3f1c3d10",
   "metadata": {},
   "outputs": [
    {
     "name": "stdout",
     "output_type": "stream",
     "text": [
      "0\n",
      "torch.Size([28, 250, 50, 30])\n",
      "torch.Size([1, 14, 50, 30, 2])\n"
     ]
    },
    {
     "ename": "RuntimeError",
     "evalue": "The expanded size of the tensor (250) must match the existing size (14) at non-singleton dimension 1.  Target sizes: [14, 250, 50, 30].  Tensor sizes: [14, 50, 30]",
     "output_type": "error",
     "traceback": [
      "\u001b[1;31m---------------------------------------------------------------------------\u001b[0m",
      "\u001b[1;31mRuntimeError\u001b[0m                              Traceback (most recent call last)",
      "Cell \u001b[1;32mIn[3], line 1\u001b[0m\n\u001b[1;32m----> 1\u001b[0m \u001b[43mpc\u001b[49m\u001b[38;5;241;43m.\u001b[39;49m\u001b[43mtensor_pitch_control\u001b[49m\u001b[43m(\u001b[49m\u001b[43mtd_object\u001b[49m\u001b[43m)\u001b[49m\n",
      "File \u001b[1;32m~\\PycharmProjects\\My_Football_Analytics\\Position_data\\PitchControl\\pitch_control.py:538\u001b[0m, in \u001b[0;36mtensor_pitch_control\u001b[1;34m(td_object, jitter, pos_nan_to, vel_nan_to, remove_first_frames, reaction_time, max_player_speed, average_ball_speed, sigma, lamb, n_grid_points_x, n_grid_points_y, device, dtype, first_frame, last_frame, batch_size, deg, version)\u001b[0m\n\u001b[0;32m    536\u001b[0m \u001b[38;5;28mprint\u001b[39m(tti\u001b[38;5;241m.\u001b[39mshape)\n\u001b[0;32m    537\u001b[0m \u001b[38;5;28mprint\u001b[39m(r_reaction_home\u001b[38;5;241m.\u001b[39mshape)\n\u001b[1;32m--> 538\u001b[0m \u001b[43mtti\u001b[49m\u001b[43m[\u001b[49m\u001b[43m:\u001b[49m\u001b[43mh_players\u001b[49m\u001b[43m,\u001b[49m\u001b[43m \u001b[49m\u001b[43m:\u001b[49m\u001b[43mball_travel_time\u001b[49m\u001b[38;5;241;43m.\u001b[39;49m\u001b[43mshape\u001b[49m\u001b[43m[\u001b[49m\u001b[38;5;241;43m1\u001b[39;49m\u001b[43m]\u001b[49m\u001b[43m]\u001b[49m \u001b[38;5;241m=\u001b[39m torch\u001b[38;5;241m.\u001b[39mnorm(r_reaction_home, dim\u001b[38;5;241m=\u001b[39m\u001b[38;5;241m4\u001b[39m)\u001b[38;5;241m.\u001b[39madd_(reaction_time)\u001b[38;5;241m.\u001b[39mdiv_(\n\u001b[0;32m    539\u001b[0m     max_player_speed)\n\u001b[0;32m    540\u001b[0m tti[h_players:, :ball_travel_time\u001b[38;5;241m.\u001b[39mshape[\u001b[38;5;241m1\u001b[39m]] \u001b[38;5;241m=\u001b[39m torch\u001b[38;5;241m.\u001b[39mnorm(r_reaction_away, dim\u001b[38;5;241m=\u001b[39m\u001b[38;5;241m4\u001b[39m)\u001b[38;5;241m.\u001b[39madd_(reaction_time)\u001b[38;5;241m.\u001b[39mdiv_(\n\u001b[0;32m    541\u001b[0m     max_player_speed)\n\u001b[0;32m    543\u001b[0m tmp2[\u001b[38;5;241m.\u001b[39m\u001b[38;5;241m.\u001b[39m\u001b[38;5;241m.\u001b[39m, \u001b[38;5;241m0\u001b[39m] \u001b[38;5;241m=\u001b[39m sigma \u001b[38;5;241m*\u001b[39m (ball_travel_time \u001b[38;5;241m-\u001b[39m tti)\n",
      "\u001b[1;31mRuntimeError\u001b[0m: The expanded size of the tensor (250) must match the existing size (14) at non-singleton dimension 1.  Target sizes: [14, 250, 50, 30].  Tensor sizes: [14, 50, 30]"
     ]
    }
   ],
   "source": [
    "pc.tensor_pitch_control(td_object)"
   ]
  },
  {
   "cell_type": "code",
   "execution_count": null,
   "id": "51463dff",
   "metadata": {},
   "outputs": [],
   "source": []
  },
  {
   "cell_type": "code",
   "execution_count": null,
   "id": "bf2a4831",
   "metadata": {},
   "outputs": [],
   "source": []
  }
 ],
 "metadata": {
  "kernelspec": {
   "display_name": "Football_Analytics_venv",
   "language": "python",
   "name": "football_analytics_venv"
  },
  "language_info": {
   "codemirror_mode": {
    "name": "ipython",
    "version": 3
   },
   "file_extension": ".py",
   "mimetype": "text/x-python",
   "name": "python",
   "nbconvert_exporter": "python",
   "pygments_lexer": "ipython3",
   "version": "3.10.11"
  }
 },
 "nbformat": 4,
 "nbformat_minor": 5
}
