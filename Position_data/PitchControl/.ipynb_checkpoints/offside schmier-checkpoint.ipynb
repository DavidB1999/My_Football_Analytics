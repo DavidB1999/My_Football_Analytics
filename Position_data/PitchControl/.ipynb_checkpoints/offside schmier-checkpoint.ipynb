{
 "cells": [
  {
   "cell_type": "code",
   "execution_count": 1,
   "id": "41d8d878",
   "metadata": {},
   "outputs": [],
   "source": [
    "import sys\n",
    "sys.path.append('C:\\\\Users\\\\DavidB\\\\PycharmProjects\\\\My_Football_Analytics\\\\Basics')\n",
    "sys.path.append('C://Users//DavidB//PycharmProjects//My_Football_Analytics//Position_data')\n",
    "\n",
    "import pandas as pd\n",
    "import numpy as np\n",
    "import Data.Metrica_IO as mio\n",
    "from Tracking_Data import tracking_data\n",
    "from mplsoccer import Pitch\n",
    "import matplotlib.pyplot as plt\n",
    "import PitchControl.pitch_control as pc\n",
    "from Data.DFL_data import parse_dfl_pos_data"
   ]
  },
  {
   "cell_type": "code",
   "execution_count": 2,
   "id": "c9dd66a2",
   "metadata": {},
   "outputs": [
    {
     "name": "stdout",
     "output_type": "stream",
     "text": [
      "Reading team: away\n",
      "Reading team: home\n",
      "tracking_data object of metrica of shape (141156, 56).\n"
     ]
    },
    {
     "data": {
      "text/html": [
       "<div>\n",
       "<style scoped>\n",
       "    .dataframe tbody tr th:only-of-type {\n",
       "        vertical-align: middle;\n",
       "    }\n",
       "\n",
       "    .dataframe tbody tr th {\n",
       "        vertical-align: top;\n",
       "    }\n",
       "\n",
       "    .dataframe thead th {\n",
       "        text-align: right;\n",
       "    }\n",
       "</style>\n",
       "<table border=\"1\" class=\"dataframe\">\n",
       "  <thead>\n",
       "    <tr style=\"text-align: right;\">\n",
       "      <th></th>\n",
       "      <th>Period</th>\n",
       "      <th>Time [s]</th>\n",
       "      <th>Home_11_x</th>\n",
       "      <th>Home_11_y</th>\n",
       "      <th>Home_1_x</th>\n",
       "      <th>Home_1_y</th>\n",
       "      <th>Home_2_x</th>\n",
       "      <th>Home_2_y</th>\n",
       "      <th>Home_3_x</th>\n",
       "      <th>Home_3_y</th>\n",
       "      <th>...</th>\n",
       "      <th>Home_6_speed</th>\n",
       "      <th>Home_7_vx</th>\n",
       "      <th>Home_7_vy</th>\n",
       "      <th>Home_7_speed</th>\n",
       "      <th>Home_8_vx</th>\n",
       "      <th>Home_8_vy</th>\n",
       "      <th>Home_8_speed</th>\n",
       "      <th>Home_9_vx</th>\n",
       "      <th>Home_9_vy</th>\n",
       "      <th>Home_9_speed</th>\n",
       "    </tr>\n",
       "    <tr>\n",
       "      <th>Frame</th>\n",
       "      <th></th>\n",
       "      <th></th>\n",
       "      <th></th>\n",
       "      <th></th>\n",
       "      <th></th>\n",
       "      <th></th>\n",
       "      <th></th>\n",
       "      <th></th>\n",
       "      <th></th>\n",
       "      <th></th>\n",
       "      <th></th>\n",
       "      <th></th>\n",
       "      <th></th>\n",
       "      <th></th>\n",
       "      <th></th>\n",
       "      <th></th>\n",
       "      <th></th>\n",
       "      <th></th>\n",
       "      <th></th>\n",
       "      <th></th>\n",
       "      <th></th>\n",
       "    </tr>\n",
       "  </thead>\n",
       "  <tbody>\n",
       "    <tr>\n",
       "      <th>1</th>\n",
       "      <td>1</td>\n",
       "      <td>0.04</td>\n",
       "      <td>113.13</td>\n",
       "      <td>40.3304</td>\n",
       "      <td>77.7744</td>\n",
       "      <td>22.884</td>\n",
       "      <td>81.3024</td>\n",
       "      <td>34.2424</td>\n",
       "      <td>83.8584</td>\n",
       "      <td>44.4848</td>\n",
       "      <td>...</td>\n",
       "      <td>NaN</td>\n",
       "      <td>NaN</td>\n",
       "      <td>NaN</td>\n",
       "      <td>NaN</td>\n",
       "      <td>NaN</td>\n",
       "      <td>NaN</td>\n",
       "      <td>NaN</td>\n",
       "      <td>NaN</td>\n",
       "      <td>NaN</td>\n",
       "      <td>NaN</td>\n",
       "    </tr>\n",
       "    <tr>\n",
       "      <th>2</th>\n",
       "      <td>1</td>\n",
       "      <td>0.08</td>\n",
       "      <td>113.13</td>\n",
       "      <td>40.3304</td>\n",
       "      <td>77.7744</td>\n",
       "      <td>22.884</td>\n",
       "      <td>81.3024</td>\n",
       "      <td>34.2424</td>\n",
       "      <td>83.8584</td>\n",
       "      <td>44.4848</td>\n",
       "      <td>...</td>\n",
       "      <td>NaN</td>\n",
       "      <td>NaN</td>\n",
       "      <td>NaN</td>\n",
       "      <td>NaN</td>\n",
       "      <td>NaN</td>\n",
       "      <td>NaN</td>\n",
       "      <td>NaN</td>\n",
       "      <td>NaN</td>\n",
       "      <td>NaN</td>\n",
       "      <td>NaN</td>\n",
       "    </tr>\n",
       "    <tr>\n",
       "      <th>3</th>\n",
       "      <td>1</td>\n",
       "      <td>0.12</td>\n",
       "      <td>113.13</td>\n",
       "      <td>40.3304</td>\n",
       "      <td>77.7744</td>\n",
       "      <td>22.884</td>\n",
       "      <td>81.3024</td>\n",
       "      <td>34.2424</td>\n",
       "      <td>83.8584</td>\n",
       "      <td>44.4848</td>\n",
       "      <td>...</td>\n",
       "      <td>NaN</td>\n",
       "      <td>NaN</td>\n",
       "      <td>NaN</td>\n",
       "      <td>NaN</td>\n",
       "      <td>NaN</td>\n",
       "      <td>NaN</td>\n",
       "      <td>NaN</td>\n",
       "      <td>NaN</td>\n",
       "      <td>NaN</td>\n",
       "      <td>NaN</td>\n",
       "    </tr>\n",
       "    <tr>\n",
       "      <th>4</th>\n",
       "      <td>1</td>\n",
       "      <td>0.16</td>\n",
       "      <td>113.13</td>\n",
       "      <td>40.3304</td>\n",
       "      <td>77.7744</td>\n",
       "      <td>22.884</td>\n",
       "      <td>81.3024</td>\n",
       "      <td>34.2424</td>\n",
       "      <td>83.8584</td>\n",
       "      <td>44.4848</td>\n",
       "      <td>...</td>\n",
       "      <td>NaN</td>\n",
       "      <td>NaN</td>\n",
       "      <td>NaN</td>\n",
       "      <td>NaN</td>\n",
       "      <td>NaN</td>\n",
       "      <td>NaN</td>\n",
       "      <td>NaN</td>\n",
       "      <td>NaN</td>\n",
       "      <td>NaN</td>\n",
       "      <td>NaN</td>\n",
       "    </tr>\n",
       "    <tr>\n",
       "      <th>5</th>\n",
       "      <td>1</td>\n",
       "      <td>0.20</td>\n",
       "      <td>113.13</td>\n",
       "      <td>40.3304</td>\n",
       "      <td>77.7744</td>\n",
       "      <td>22.884</td>\n",
       "      <td>81.3024</td>\n",
       "      <td>34.2424</td>\n",
       "      <td>83.8584</td>\n",
       "      <td>44.4848</td>\n",
       "      <td>...</td>\n",
       "      <td>0.0</td>\n",
       "      <td>NaN</td>\n",
       "      <td>NaN</td>\n",
       "      <td>NaN</td>\n",
       "      <td>NaN</td>\n",
       "      <td>NaN</td>\n",
       "      <td>NaN</td>\n",
       "      <td>NaN</td>\n",
       "      <td>NaN</td>\n",
       "      <td>NaN</td>\n",
       "    </tr>\n",
       "  </tbody>\n",
       "</table>\n",
       "<p>5 rows × 134 columns</p>\n",
       "</div>"
      ],
      "text/plain": [
       "       Period  Time [s]  Home_11_x  Home_11_y  Home_1_x  Home_1_y  Home_2_x  \\\n",
       "Frame                                                                         \n",
       "1           1      0.04     113.13    40.3304   77.7744    22.884   81.3024   \n",
       "2           1      0.08     113.13    40.3304   77.7744    22.884   81.3024   \n",
       "3           1      0.12     113.13    40.3304   77.7744    22.884   81.3024   \n",
       "4           1      0.16     113.13    40.3304   77.7744    22.884   81.3024   \n",
       "5           1      0.20     113.13    40.3304   77.7744    22.884   81.3024   \n",
       "\n",
       "       Home_2_y  Home_3_x  Home_3_y  ...  Home_6_speed  Home_7_vx  Home_7_vy  \\\n",
       "Frame                                ...                                       \n",
       "1       34.2424   83.8584   44.4848  ...           NaN        NaN        NaN   \n",
       "2       34.2424   83.8584   44.4848  ...           NaN        NaN        NaN   \n",
       "3       34.2424   83.8584   44.4848  ...           NaN        NaN        NaN   \n",
       "4       34.2424   83.8584   44.4848  ...           NaN        NaN        NaN   \n",
       "5       34.2424   83.8584   44.4848  ...           0.0        NaN        NaN   \n",
       "\n",
       "       Home_7_speed  Home_8_vx  Home_8_vy  Home_8_speed  Home_9_vx  Home_9_vy  \\\n",
       "Frame                                                                           \n",
       "1               NaN        NaN        NaN           NaN        NaN        NaN   \n",
       "2               NaN        NaN        NaN           NaN        NaN        NaN   \n",
       "3               NaN        NaN        NaN           NaN        NaN        NaN   \n",
       "4               NaN        NaN        NaN           NaN        NaN        NaN   \n",
       "5               NaN        NaN        NaN           NaN        NaN        NaN   \n",
       "\n",
       "       Home_9_speed  \n",
       "Frame                \n",
       "1               NaN  \n",
       "2               NaN  \n",
       "3               NaN  \n",
       "4               NaN  \n",
       "5               NaN  \n",
       "\n",
       "[5 rows x 134 columns]"
      ]
     },
     "execution_count": 2,
     "metadata": {},
     "output_type": "execute_result"
    }
   ],
   "source": [
    "data_dir = 'sample-data-master/data/'\n",
    "game_id = 2\n",
    "away = mio.tracking_data(DATADIR=data_dir, game_id=game_id, teamname='Away')\n",
    "home = mio.tracking_data(DATADIR=data_dir, game_id=game_id, teamname='Home')\n",
    "td = mio.merge_tracking_data(home, away)\n",
    "td_object = tracking_data(td, data_source='metrica', scale_to_pitch='mplsoccer')\n",
    "print(td_object)\n",
    "td_object.get_velocities()\n",
    "td_object.data.head()"
   ]
  },
  {
   "cell_type": "code",
   "execution_count": 3,
   "id": "1f5d3adb",
   "metadata": {},
   "outputs": [
    {
     "data": {
      "text/plain": [
       "('11', '25')"
      ]
     },
     "execution_count": 3,
     "metadata": {},
     "output_type": "execute_result"
    }
   ],
   "source": [
    "td_object.Home_GK, td_object.Away_GK "
   ]
  },
  {
   "cell_type": "code",
   "execution_count": 4,
   "id": "5cc6c54f",
   "metadata": {},
   "outputs": [
    {
     "data": {
      "text/plain": [
       "[<PitchControl.pitch_control.player at 0x24a98f13490>,\n",
       " <PitchControl.pitch_control.player at 0x24a98f11f90>,\n",
       " <PitchControl.pitch_control.player at 0x24a98f12d10>,\n",
       " <PitchControl.pitch_control.player at 0x24a98f12f80>,\n",
       " <PitchControl.pitch_control.player at 0x24a98f12380>,\n",
       " <PitchControl.pitch_control.player at 0x24a98f120e0>,\n",
       " <PitchControl.pitch_control.player at 0x24a98f11510>,\n",
       " <PitchControl.pitch_control.player at 0x24a98f12200>,\n",
       " <PitchControl.pitch_control.player at 0x24a98f11d20>,\n",
       " <PitchControl.pitch_control.player at 0x24a98f11f30>,\n",
       " <PitchControl.pitch_control.player at 0x24a98f11660>]"
      ]
     },
     "execution_count": 4,
     "metadata": {},
     "output_type": "execute_result"
    }
   ],
   "source": [
    "attacking_players = pc.get_all_players(td_object=td_object, frame=1, teams=['Home'])\n",
    "attacking_players"
   ]
  },
  {
   "cell_type": "code",
   "execution_count": 5,
   "id": "f77f3b18",
   "metadata": {},
   "outputs": [
    {
     "data": {
      "text/plain": [
       "[<PitchControl.pitch_control.player at 0x24a98f11690>,\n",
       " <PitchControl.pitch_control.player at 0x24a98f10700>,\n",
       " <PitchControl.pitch_control.player at 0x24a98f119f0>,\n",
       " <PitchControl.pitch_control.player at 0x24a880dbeb0>,\n",
       " <PitchControl.pitch_control.player at 0x24a98dbdc30>,\n",
       " <PitchControl.pitch_control.player at 0x24a98dbdd50>,\n",
       " <PitchControl.pitch_control.player at 0x24a98dbd4b0>,\n",
       " <PitchControl.pitch_control.player at 0x24a98dbd300>,\n",
       " <PitchControl.pitch_control.player at 0x24a98dbd3c0>,\n",
       " <PitchControl.pitch_control.player at 0x24a98dbd510>,\n",
       " <PitchControl.pitch_control.player at 0x24a98dbe4d0>]"
      ]
     },
     "execution_count": 5,
     "metadata": {},
     "output_type": "execute_result"
    }
   ],
   "source": [
    "defending_players = pc.get_all_players(td_object=td_object, frame=1, teams=['Away'])\n",
    "defending_players"
   ]
  },
  {
   "cell_type": "code",
   "execution_count": 13,
   "id": "653a3cfe",
   "metadata": {},
   "outputs": [
    {
     "name": "stdout",
     "output_type": "stream",
     "text": [
      "player 5 in Home_5 team is offside\n"
     ]
    },
    {
     "data": {
      "text/plain": [
       "[<PitchControl.pitch_control.player at 0x24aac8e9810>,\n",
       " <PitchControl.pitch_control.player at 0x24aac8e9ed0>,\n",
       " <PitchControl.pitch_control.player at 0x24aac8e9c00>,\n",
       " <PitchControl.pitch_control.player at 0x24aac8e9d50>,\n",
       " <PitchControl.pitch_control.player at 0x24aac8e9db0>,\n",
       " <PitchControl.pitch_control.player at 0x24aac54ce50>,\n",
       " <PitchControl.pitch_control.player at 0x24aac54db40>,\n",
       " <PitchControl.pitch_control.player at 0x24aac54c6a0>,\n",
       " <PitchControl.pitch_control.player at 0x24aac54f130>,\n",
       " <PitchControl.pitch_control.player at 0x24aac54f1f0>]"
      ]
     },
     "execution_count": 13,
     "metadata": {},
     "output_type": "execute_result"
    }
   ],
   "source": [
    "pc.check_offside(td_object, frame = 1, attacking_team='Home', verbose=True)"
   ]
  },
  {
   "cell_type": "code",
   "execution_count": 14,
   "id": "0cddcd28",
   "metadata": {},
   "outputs": [
    {
     "data": {
      "text/plain": [
       "(<Figure size 640x480 with 1 Axes>, <Axes: >)"
      ]
     },
     "execution_count": 14,
     "metadata": {},
     "output_type": "execute_result"
    },
    {
     "data": {
      "image/png": "[encoded data removed]",
      "text/plain": [
       "<Figure size 640x480 with 1 Axes>"
      ]
     },
     "metadata": {},
     "output_type": "display_data"
    }
   ],
   "source": [
    "td_object.plot_players(frame=1, velocities=True)"
   ]
  },
  {
   "cell_type": "code",
   "execution_count": null,
   "id": "4bfedab4",
   "metadata": {},
   "outputs": [],
   "source": []
  }
 ],
 "metadata": {
  "kernelspec": {
   "display_name": "Football_Analytics_venv",
   "language": "python",
   "name": "football_analytics_venv"
  },
  "language_info": {
   "codemirror_mode": {
    "name": "ipython",
    "version": 3
   },
   "file_extension": ".py",
   "mimetype": "text/x-python",
   "name": "python",
   "nbconvert_exporter": "python",
   "pygments_lexer": "ipython3",
   "version": "3.10.11"
  }
 },
 "nbformat": 4,
 "nbformat_minor": 5
}
