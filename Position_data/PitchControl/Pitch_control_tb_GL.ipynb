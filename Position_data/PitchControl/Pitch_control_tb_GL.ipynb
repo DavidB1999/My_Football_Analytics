{
 "cells": [
  {
   "cell_type": "markdown",
   "id": "3483b494",
   "metadata": {},
   "source": [
    "# Tensor based approach to Spearman's pitch control\n",
    "\n",
    "Code from anenglishgoat [https://github.com/anenglishgoat/Metrica-pitch-control/blob/master/FastSpearmanPitchControl.ipynb ] <br>\n",
    "\n",
    "This approach used Gauss-Legendre Quadratation for numerical integration! <br>"
   ]
  },
  {
   "cell_type": "code",
   "execution_count": 1,
   "id": "a9b88eb5",
   "metadata": {},
   "outputs": [],
   "source": [
    "import pandas as pd\n",
    "import numpy as np\n",
    "import torch\n",
    "from torch.nn.functional import softplus"
   ]
  },
  {
   "cell_type": "code",
   "execution_count": 2,
   "id": "57445744",
   "metadata": {},
   "outputs": [],
   "source": [
    "### load the data and process it\n",
    "away_data = pd.read_csv('https://raw.githubusercontent.com/metrica-sports/sample-data/master/data/Sample_Game_1/Sample_Game_1_RawTrackingData_Away_Team.csv', skiprows=2)\n",
    "home_data = pd.read_csv('https://raw.githubusercontent.com/metrica-sports/sample-data/master/data/Sample_Game_1/Sample_Game_1_RawTrackingData_Home_Team.csv', skiprows=2)\n"
   ]
  },
  {
   "cell_type": "code",
   "execution_count": 3,
   "id": "8db95aed",
   "metadata": {},
   "outputs": [
    {
     "data": {
      "text/html": [
       "<div>\n",
       "<style scoped>\n",
       "    .dataframe tbody tr th:only-of-type {\n",
       "        vertical-align: middle;\n",
       "    }\n",
       "\n",
       "    .dataframe tbody tr th {\n",
       "        vertical-align: top;\n",
       "    }\n",
       "\n",
       "    .dataframe thead th {\n",
       "        text-align: right;\n",
       "    }\n",
       "</style>\n",
       "<table border=\"1\" class=\"dataframe\">\n",
       "  <thead>\n",
       "    <tr style=\"text-align: right;\">\n",
       "      <th></th>\n",
       "      <th>Period</th>\n",
       "      <th>Frame</th>\n",
       "      <th>Time [s]</th>\n",
       "      <th>Player25</th>\n",
       "      <th>Unnamed: 4</th>\n",
       "      <th>Player15</th>\n",
       "      <th>Unnamed: 6</th>\n",
       "      <th>Player16</th>\n",
       "      <th>Unnamed: 8</th>\n",
       "      <th>Player17</th>\n",
       "      <th>...</th>\n",
       "      <th>Player24</th>\n",
       "      <th>Unnamed: 24</th>\n",
       "      <th>Player26</th>\n",
       "      <th>Unnamed: 26</th>\n",
       "      <th>Player27</th>\n",
       "      <th>Unnamed: 28</th>\n",
       "      <th>Player28</th>\n",
       "      <th>Unnamed: 30</th>\n",
       "      <th>Ball</th>\n",
       "      <th>Unnamed: 32</th>\n",
       "    </tr>\n",
       "  </thead>\n",
       "  <tbody>\n",
       "    <tr>\n",
       "      <th>0</th>\n",
       "      <td>1</td>\n",
       "      <td>1</td>\n",
       "      <td>0.04</td>\n",
       "      <td>0.90509</td>\n",
       "      <td>0.47462</td>\n",
       "      <td>0.58393</td>\n",
       "      <td>0.20794</td>\n",
       "      <td>0.67658</td>\n",
       "      <td>0.46710</td>\n",
       "      <td>0.67310</td>\n",
       "      <td>...</td>\n",
       "      <td>0.37833</td>\n",
       "      <td>0.27383</td>\n",
       "      <td>NaN</td>\n",
       "      <td>NaN</td>\n",
       "      <td>NaN</td>\n",
       "      <td>NaN</td>\n",
       "      <td>NaN</td>\n",
       "      <td>NaN</td>\n",
       "      <td>0.45472</td>\n",
       "      <td>0.38709</td>\n",
       "    </tr>\n",
       "    <tr>\n",
       "      <th>1</th>\n",
       "      <td>1</td>\n",
       "      <td>2</td>\n",
       "      <td>0.08</td>\n",
       "      <td>0.90494</td>\n",
       "      <td>0.47462</td>\n",
       "      <td>0.58393</td>\n",
       "      <td>0.20794</td>\n",
       "      <td>0.67658</td>\n",
       "      <td>0.46710</td>\n",
       "      <td>0.67310</td>\n",
       "      <td>...</td>\n",
       "      <td>0.37833</td>\n",
       "      <td>0.27383</td>\n",
       "      <td>NaN</td>\n",
       "      <td>NaN</td>\n",
       "      <td>NaN</td>\n",
       "      <td>NaN</td>\n",
       "      <td>NaN</td>\n",
       "      <td>NaN</td>\n",
       "      <td>0.49645</td>\n",
       "      <td>0.40656</td>\n",
       "    </tr>\n",
       "    <tr>\n",
       "      <th>2</th>\n",
       "      <td>1</td>\n",
       "      <td>3</td>\n",
       "      <td>0.12</td>\n",
       "      <td>0.90434</td>\n",
       "      <td>0.47463</td>\n",
       "      <td>0.58393</td>\n",
       "      <td>0.20794</td>\n",
       "      <td>0.67658</td>\n",
       "      <td>0.46710</td>\n",
       "      <td>0.67310</td>\n",
       "      <td>...</td>\n",
       "      <td>0.37833</td>\n",
       "      <td>0.27383</td>\n",
       "      <td>NaN</td>\n",
       "      <td>NaN</td>\n",
       "      <td>NaN</td>\n",
       "      <td>NaN</td>\n",
       "      <td>NaN</td>\n",
       "      <td>NaN</td>\n",
       "      <td>0.53716</td>\n",
       "      <td>0.42556</td>\n",
       "    </tr>\n",
       "    <tr>\n",
       "      <th>3</th>\n",
       "      <td>1</td>\n",
       "      <td>4</td>\n",
       "      <td>0.16</td>\n",
       "      <td>0.90377</td>\n",
       "      <td>0.47463</td>\n",
       "      <td>0.58351</td>\n",
       "      <td>0.20868</td>\n",
       "      <td>0.67640</td>\n",
       "      <td>0.46762</td>\n",
       "      <td>0.67279</td>\n",
       "      <td>...</td>\n",
       "      <td>0.37756</td>\n",
       "      <td>0.27473</td>\n",
       "      <td>NaN</td>\n",
       "      <td>NaN</td>\n",
       "      <td>NaN</td>\n",
       "      <td>NaN</td>\n",
       "      <td>NaN</td>\n",
       "      <td>NaN</td>\n",
       "      <td>0.55346</td>\n",
       "      <td>0.42231</td>\n",
       "    </tr>\n",
       "    <tr>\n",
       "      <th>4</th>\n",
       "      <td>1</td>\n",
       "      <td>5</td>\n",
       "      <td>0.20</td>\n",
       "      <td>0.90324</td>\n",
       "      <td>0.47464</td>\n",
       "      <td>0.58291</td>\n",
       "      <td>0.21039</td>\n",
       "      <td>0.67599</td>\n",
       "      <td>0.46769</td>\n",
       "      <td>0.67253</td>\n",
       "      <td>...</td>\n",
       "      <td>0.37663</td>\n",
       "      <td>0.27543</td>\n",
       "      <td>NaN</td>\n",
       "      <td>NaN</td>\n",
       "      <td>NaN</td>\n",
       "      <td>NaN</td>\n",
       "      <td>NaN</td>\n",
       "      <td>NaN</td>\n",
       "      <td>0.55512</td>\n",
       "      <td>0.40570</td>\n",
       "    </tr>\n",
       "  </tbody>\n",
       "</table>\n",
       "<p>5 rows × 33 columns</p>\n",
       "</div>"
      ],
      "text/plain": [
       "   Period  Frame  Time [s]  Player25  Unnamed: 4  Player15  Unnamed: 6  \\\n",
       "0       1      1      0.04   0.90509     0.47462   0.58393     0.20794   \n",
       "1       1      2      0.08   0.90494     0.47462   0.58393     0.20794   \n",
       "2       1      3      0.12   0.90434     0.47463   0.58393     0.20794   \n",
       "3       1      4      0.16   0.90377     0.47463   0.58351     0.20868   \n",
       "4       1      5      0.20   0.90324     0.47464   0.58291     0.21039   \n",
       "\n",
       "   Player16  Unnamed: 8  Player17  ...  Player24  Unnamed: 24  Player26  \\\n",
       "0   0.67658     0.46710   0.67310  ...   0.37833      0.27383       NaN   \n",
       "1   0.67658     0.46710   0.67310  ...   0.37833      0.27383       NaN   \n",
       "2   0.67658     0.46710   0.67310  ...   0.37833      0.27383       NaN   \n",
       "3   0.67640     0.46762   0.67279  ...   0.37756      0.27473       NaN   \n",
       "4   0.67599     0.46769   0.67253  ...   0.37663      0.27543       NaN   \n",
       "\n",
       "   Unnamed: 26  Player27  Unnamed: 28  Player28  Unnamed: 30     Ball  \\\n",
       "0          NaN       NaN          NaN       NaN          NaN  0.45472   \n",
       "1          NaN       NaN          NaN       NaN          NaN  0.49645   \n",
       "2          NaN       NaN          NaN       NaN          NaN  0.53716   \n",
       "3          NaN       NaN          NaN       NaN          NaN  0.55346   \n",
       "4          NaN       NaN          NaN       NaN          NaN  0.55512   \n",
       "\n",
       "   Unnamed: 32  \n",
       "0      0.38709  \n",
       "1      0.40656  \n",
       "2      0.42556  \n",
       "3      0.42231  \n",
       "4      0.40570  \n",
       "\n",
       "[5 rows x 33 columns]"
      ]
     },
     "execution_count": 3,
     "metadata": {},
     "output_type": "execute_result"
    }
   ],
   "source": [
    "away_data.head()"
   ]
  },
  {
   "cell_type": "code",
   "execution_count": 4,
   "id": "b2358d1d",
   "metadata": {},
   "outputs": [
    {
     "data": {
      "text/plain": [
       "(14, 145006, 2)"
      ]
     },
     "execution_count": 4,
     "metadata": {},
     "output_type": "execute_result"
    }
   ],
   "source": [
    "device = 'cpu'; dtype = torch.float32\n",
    "\n",
    "\n",
    "jitter = 1e-12 ## prevents division by zero when player is stationary\n",
    "\n",
    "## set nans to large negative value -- this makes pitch control for players who aren't involved negligibly small everywhere\n",
    "# on the pitch\n",
    "home_pos = np.array([np.asarray(home_data.iloc[:,range(3 + j*2,3 + j*2 +2)]) for j in range(14)]) * np.array([105,68])\n",
    "np.nan_to_num(home_pos,copy=False,nan=-1000)\n",
    "away_pos = np.array([np.asarray(away_data.iloc[:,range(3 + j*2,3 + j*2 +2)]) for j in range(14)]) * np.array([105,68])\n",
    "np.nan_to_num(away_pos,copy=False,nan=-1000)\n",
    "ball_pos = (np.asarray(home_data.iloc[:,range(31,33)]) * np.array([105,68]))[:,None,None,:]\n",
    "\n",
    "\n",
    "# defining the delta in seconds between frames\n",
    "tt = np.asarray(home_data['Time [s]'])\n",
    "dt = tt[1:] - tt[:-1] \n",
    "# velocity in both x and y axis + jitter \n",
    "# jitter prevents division by zero when player is stationary\n",
    "home_v = (home_pos[:,1:,:] - home_pos[:,:-1,:])/dt[:,None] + jitter\n",
    "np.nan_to_num(home_v,copy=False,nan=-1000)\n",
    "away_v = (away_pos[:,1:,:] - away_pos[:,:-1,:])/dt[:,None] + jitter\n",
    "np.nan_to_num(away_v,copy=False,nan=-1000)\n",
    "# velocity -1000 not really necessary?\n",
    "\n",
    "home_pos.shape"
   ]
  },
  {
   "cell_type": "code",
   "execution_count": 5,
   "id": "a4e19e11",
   "metadata": {},
   "outputs": [
    {
     "data": {
      "text/plain": [
       "(1, 145005, 1, 1, 2)"
      ]
     },
     "execution_count": 5,
     "metadata": {},
     "output_type": "execute_result"
    }
   ],
   "source": [
    "\n",
    "# what is the point of this block\n",
    "home_pos = home_pos[:,1:,None,None,:]\n",
    "away_pos = away_pos[:,1:,None,None,:]\n",
    "home_v = home_v[:,:,None,None,:]\n",
    "away_v = away_v[:,:,None,None,:]\n",
    "ball_pos = ball_pos[None,1:]\n",
    "\n",
    "ball_pos.shape"
   ]
  },
  {
   "cell_type": "code",
   "execution_count": 6,
   "id": "0a8b29d5",
   "metadata": {},
   "outputs": [
    {
     "name": "stderr",
     "output_type": "stream",
     "text": [
      "C:\\Users\\DavidB\\PycharmProjects\\My_Football_Analytics\\Football_Analytics_venv\\lib\\site-packages\\torch\\functional.py:504: UserWarning: torch.meshgrid: in an upcoming release, it will be required to pass the indexing argument. (Triggered internally at ..\\aten\\src\\ATen\\native\\TensorShape.cpp:3527.)\n",
      "  return _VF.meshgrid(tensors, **kwargs)  # type: ignore[attr-defined]\n"
     ]
    },
    {
     "data": {
      "text/plain": [
       "tensor([[  0.0000,   0.0000,   0.0000,  ...,   0.0000,   0.0000,   0.0000],\n",
       "        [  2.1429,   2.1429,   2.1429,  ...,   2.1429,   2.1429,   2.1429],\n",
       "        [  4.2857,   4.2857,   4.2857,  ...,   4.2857,   4.2857,   4.2857],\n",
       "        ...,\n",
       "        [100.7143, 100.7143, 100.7143,  ..., 100.7143, 100.7143, 100.7143],\n",
       "        [102.8571, 102.8571, 102.8571,  ..., 102.8571, 102.8571, 102.8571],\n",
       "        [105.0000, 105.0000, 105.0000,  ..., 105.0000, 105.0000, 105.0000]])"
      ]
     },
     "execution_count": 6,
     "metadata": {},
     "output_type": "execute_result"
    }
   ],
   "source": [
    "n_grid_points_x = 50\n",
    "n_grid_points_y = 30\n",
    "# create grid based on tensors\n",
    "XX,YY = torch.meshgrid(torch.linspace(0,105,n_grid_points_x, device = device, dtype=dtype),\n",
    "                       torch.linspace(0,68,n_grid_points_y,device=device,dtype=dtype))\n",
    "\n",
    "XX"
   ]
  },
  {
   "cell_type": "code",
   "execution_count": 7,
   "id": "573a37d1",
   "metadata": {},
   "outputs": [
    {
     "data": {
      "text/plain": [
       "torch.Size([50])"
      ]
     },
     "execution_count": 7,
     "metadata": {},
     "output_type": "execute_result"
    }
   ],
   "source": [
    "ti,wi = np.polynomial.legendre.leggauss(50) ## used for numerical integration later on\n",
    "ti = torch.tensor(ti,device = device,dtype=dtype)\n",
    "wi = torch.tensor(wi,device=device,dtype=dtype)\n",
    "ti.shape"
   ]
  },
  {
   "cell_type": "code",
   "execution_count": 8,
   "id": "6eae9f89",
   "metadata": {},
   "outputs": [
    {
     "data": {
      "text/plain": [
       "tensor([[[[[  0.0000,   0.0000],\n",
       "           [  0.0000,   2.3448],\n",
       "           [  0.0000,   4.6897],\n",
       "           ...,\n",
       "           [  0.0000,  63.3103],\n",
       "           [  0.0000,  65.6552],\n",
       "           [  0.0000,  68.0000]],\n",
       "\n",
       "          [[  2.1429,   0.0000],\n",
       "           [  2.1429,   2.3448],\n",
       "           [  2.1429,   4.6897],\n",
       "           ...,\n",
       "           [  2.1429,  63.3103],\n",
       "           [  2.1429,  65.6552],\n",
       "           [  2.1429,  68.0000]],\n",
       "\n",
       "          [[  4.2857,   0.0000],\n",
       "           [  4.2857,   2.3448],\n",
       "           [  4.2857,   4.6897],\n",
       "           ...,\n",
       "           [  4.2857,  63.3103],\n",
       "           [  4.2857,  65.6552],\n",
       "           [  4.2857,  68.0000]],\n",
       "\n",
       "          ...,\n",
       "\n",
       "          [[100.7143,   0.0000],\n",
       "           [100.7143,   2.3448],\n",
       "           [100.7143,   4.6897],\n",
       "           ...,\n",
       "           [100.7143,  63.3103],\n",
       "           [100.7143,  65.6552],\n",
       "           [100.7143,  68.0000]],\n",
       "\n",
       "          [[102.8571,   0.0000],\n",
       "           [102.8571,   2.3448],\n",
       "           [102.8571,   4.6897],\n",
       "           ...,\n",
       "           [102.8571,  63.3103],\n",
       "           [102.8571,  65.6552],\n",
       "           [102.8571,  68.0000]],\n",
       "\n",
       "          [[105.0000,   0.0000],\n",
       "           [105.0000,   2.3448],\n",
       "           [105.0000,   4.6897],\n",
       "           ...,\n",
       "           [105.0000,  63.3103],\n",
       "           [105.0000,  65.6552],\n",
       "           [105.0000,  68.0000]]]]])"
      ]
     },
     "execution_count": 8,
     "metadata": {},
     "output_type": "execute_result"
    }
   ],
   "source": [
    "target_position = torch.stack([XX,YY],2)[None,None,:,:,:] # all possible positions\n",
    "target_position"
   ]
  },
  {
   "cell_type": "code",
   "execution_count": 9,
   "id": "b68cd627",
   "metadata": {},
   "outputs": [],
   "source": [
    "device = 'cpu'; dtype = torch.float32\n",
    "\n",
    "\n",
    "jitter = 1e-12 ## prevents division by zero when player is stationary\n",
    "\n",
    "## set nans to large negative value -- this makes pitch control for players who aren't involved negligibly small everywhere\n",
    "# on the pitch\n",
    "home_pos = np.array([np.asarray(home_data.iloc[:,range(3 + j*2,3 + j*2 +2)]) for j in range(14)]) * np.array([105,68])\n",
    "np.nan_to_num(home_pos,copy=False,nan=-1000)\n",
    "away_pos = np.array([np.asarray(away_data.iloc[:,range(3 + j*2,3 + j*2 +2)]) for j in range(14)]) * np.array([105,68])\n",
    "np.nan_to_num(away_pos,copy=False,nan=-1000)\n",
    "ball_pos = (np.asarray(home_data.iloc[:,range(31,33)]) * np.array([105,68]))[:,None,None,:]\n",
    "\n",
    "\n",
    "# defining the delta in seconds between frames\n",
    "tt = np.asarray(home_data['Time [s]'])\n",
    "dt = tt[1:] - tt[:-1] \n",
    "# velocity in both x and y axis + jitter \n",
    "# jitter prevents division by zero when player is stationary\n",
    "home_v = (home_pos[:,1:,:] - home_pos[:,:-1,:])/dt[:,None] + jitter\n",
    "np.nan_to_num(home_v,copy=False,nan=-1000)\n",
    "away_v = (away_pos[:,1:,:] - away_pos[:,:-1,:])/dt[:,None] + jitter\n",
    "np.nan_to_num(away_v,copy=False,nan=-1000)\n",
    "# velocity -1000 not really necessary?\n",
    "\n",
    "\n",
    "\n",
    "\n",
    "# severe changes in the shape of the arrays\n",
    "# I am not 100% how and why this is necessary\n",
    "# This is probably necessary for later \n",
    "home_pos = home_pos[:,1:,None,None,:]\n",
    "away_pos = away_pos[:,1:,None,None,:]\n",
    "home_v = home_v[:,:,None,None,:]\n",
    "away_v = away_v[:,:,None,None,:]\n",
    "ball_pos = ball_pos[None,1:]\n",
    "\n",
    "\n",
    "## set up evaluation grid and set some pitch control parameters (these are taken from the FoT code)\n",
    "reaction_time = 0.7\n",
    "max_player_speed = 5.\n",
    "average_ball_speed = 15.\n",
    "sigma = np.pi / np.sqrt(3.) / 0.45\n",
    "lamb = 4.3\n",
    "n_grid_points_x = 50\n",
    "n_grid_points_y = 30\n",
    "# create grid based on tensors\n",
    "XX,YY = torch.meshgrid(torch.linspace(0,105,n_grid_points_x, device = device, dtype=dtype),\n",
    "                       torch.linspace(0,68,n_grid_points_y,device=device,dtype=dtype))\n",
    "target_position = torch.stack([XX,YY],2)[None,None,:,:,:] # all possible positions\n",
    "\n",
    "\n",
    "# the weights and the x-points of the Gauss–Legendre quadrature are set up and stored as torch tensors\n",
    "# I assume that, as the Gauss–Legendre quadrature spans the range of [-1, 1] (length of 2), the 50 points selected\n",
    "# represent the number of frames in a 2 second time period based on a framerate of 25Hz (i.e. 25 frames / second)\n",
    "ti,wi = np.polynomial.legendre.leggauss(50) ## used for numerical integration later on\n",
    "ti = torch.tensor(ti,device = device,dtype=dtype)\n",
    "wi = torch.tensor(wi,device=device,dtype=dtype)\n",
    "\n",
    "\n",
    "\n",
    "\n",
    "n_frames = home_pos.shape[1]\n",
    "first_frame = 0\n",
    "batch_size = 250\n",
    "\n",
    "# time to intercept empty torch\n",
    "tti = torch.empty([28,batch_size,n_grid_points_x,n_grid_points_y],device = device,dtype=dtype)\n",
    "# 28 players*500 batches*grid\n",
    "tmp2 = torch.empty([28,batch_size,n_grid_points_x,n_grid_points_y,1],device = device,dtype=dtype)\n",
    "# 28 players*500 batches*grid * 1\n",
    "pc = torch.empty([n_frames,n_grid_points_x,n_grid_points_y],device = device,dtype=dtype)\n",
    "# frames * grid\n",
    "\n",
    "# for f in range(int(n_frames/batch_size)):\n",
    "# taking 500 frames or the last frames if less than 500 left\n",
    "for f in range(1): \n",
    "    \n",
    "    bp = torch.tensor(ball_pos[:,(first_frame + f*batch_size):(np.minimum(first_frame + (f+1)*batch_size,\n",
    "                                                                          int(first_frame + n_frames)))],\n",
    "                      device = device,dtype=dtype)\n",
    "    hp = torch.tensor(home_pos[:,(first_frame + f*batch_size):(np.minimum(first_frame + (f+1)*batch_size,\n",
    "                                                                          int(first_frame + n_frames)))],\n",
    "                      device = device,dtype=dtype)\n",
    "    hv = torch.tensor(home_v[:,(first_frame + f*batch_size):(np.minimum(first_frame + (f+1)*batch_size,\n",
    "                                                                        int(first_frame + n_frames)))],\n",
    "                      device = device,dtype=dtype)\n",
    "    ap = torch.tensor(away_pos[:,(first_frame + f*batch_size):(np.minimum(first_frame + (f+1)*batch_size,\n",
    "                                                                          int(first_frame + n_frames)))],\n",
    "                      device = device,dtype=dtype)\n",
    "    av = torch.tensor(away_v[:,(first_frame + f*batch_size):(np.minimum(first_frame + (f+1)*batch_size,\n",
    "                                                                        int(first_frame + n_frames)))],\n",
    "                      device = device,dtype=dtype)\n",
    "    \n",
    "    ball_travel_time = torch.norm(target_position - bp, dim=4).div_(average_ball_speed) \n",
    "    # ball travel time to each location in each frame in the batch\n",
    "    \n",
    "    r_reaction_home = hp + hv.mul_(reaction_time) # position after reaction time (vector)\n",
    "    r_reaction_away = ap + av.mul_(reaction_time) # = position + velocity multiplied by reaction time\n",
    "    r_reaction_home = r_reaction_home - target_position # distance to target position (vector)\n",
    "    r_reaction_away = r_reaction_away - target_position # after reaction time\n",
    "    \n",
    "    # time to intercept for home and away filled \n",
    "    # torch.norm --> distance of position in grid to target position from vector to value\n",
    "    # add reaction time to time of intercept\n",
    "    # divide distance by speed --> time of intercept\n",
    "    # i think it should be the other way around! Divide first and then add reaction time\n",
    "    tti[:14,:ball_travel_time.shape[1]] = torch.norm(r_reaction_home,dim=4).add_(reaction_time).div_(max_player_speed)\n",
    "    tti[14:,:ball_travel_time.shape[1]] = torch.norm(r_reaction_away,dim=4).add_(reaction_time).div_(max_player_speed)\n",
    "    # tti[:14,:ball_travel_time.shape[1]] = torch.norm(r_reaction_home,dim=4).div_(max_player_speed).add_(reaction_time)\n",
    "    # tti[14:,:ball_travel_time.shape[1]] = torch.norm(r_reaction_away,dim=4).div_(max_player_speed).add_(reaction_time)\n",
    "\n",
    "    tmp2[...,0] = sigma * (ball_travel_time - tti)\n",
    "    \n",
    "    tmp1 = sigma * 0.5 * (ti + 1) * 10 + tmp2\n",
    "    \n",
    "    # every players (scaled) time to control fed into a sigmoid function\n",
    "    # --> probabilites [0,1], multiplied by lambda (default 4.3) --> range of [0, 4.3]\n",
    "    hh = torch.sigmoid(tmp1[:14]).mul_(4.3)\n",
    "    # teams intercept probability as the sum of players' control probabilities\n",
    "    h = hh.sum(0)\n",
    "    \n",
    "    S = torch.exp(-lamb*torch.sum(softplus(tmp1) - softplus(tmp2),dim=0).div_(sigma))\n",
    "\n",
    "    # numerische Integralbildung durch Gewichte (wi) durch Matrixvektorprukt aus Sh und den Gewichten \n",
    "    # i.e. Gewicht wird mit dem Entsprechenden der 50 Werte aus der Verteilung multipliziert\n",
    "    pc[(first_frame + f*batch_size):(np.minimum(first_frame + (f+1)*batch_size,int(first_frame + n_frames)))] = torch.matmul(S*h,wi).mul_(5.)\n"
   ]
  },
  {
   "cell_type": "markdown",
   "id": "7c67d2aa",
   "metadata": {},
   "source": [
    "## Exploration"
   ]
  },
  {
   "cell_type": "code",
   "execution_count": 10,
   "id": "ff841bb5",
   "metadata": {},
   "outputs": [
    {
     "name": "stdout",
     "output_type": "stream",
     "text": [
      "Minimum of tmp2: -1222.9654541015625, Maximum of tmp2: 16.37303352355957, shape: torch.Size([28, 250, 50, 30, 1])\n",
      "Minimum of tmp1: -1222.942626953125, Maximum of tmp1: 56.65684509277344, shape: torch.Size([28, 250, 50, 30, 50])\n"
     ]
    }
   ],
   "source": [
    "print(f'Minimum of tmp2: {tmp2.min()}, Maximum of tmp2: {tmp2.max()}, shape: {tmp2.shape}')\n",
    "# --> + [0.0228, 40.02838] = time to intercept (scaled by sigma)\n",
    "print(f'Minimum of tmp1: {tmp1.min()}, Maximum of tmp1: {tmp1.max()}, shape: {tmp1.shape}')\n",
    "# tmp1 =  distribution of possible times to intercept available (scaled by sigma)\n",
    "# tmp2 =  single estimate time to intercept (scaled by sigma) = exponent of intercept probability equation (3)"
   ]
  },
  {
   "cell_type": "code",
   "execution_count": 11,
   "id": "65e32058",
   "metadata": {},
   "outputs": [
    {
     "name": "stdout",
     "output_type": "stream",
     "text": [
      "Minimum of Diff: 0.0, Maximum of Diff: 40.2838134765625, shape: torch.Size([28, 250, 50, 30, 50])\n"
     ]
    }
   ],
   "source": [
    "Diff = softplus(tmp1) - softplus(tmp2)\n",
    "print(f'Minimum of Diff: {Diff.min()}, Maximum of Diff: {Diff.max()}, shape: {Diff.shape}')\n",
    "# The difference is just the distribution of values between 0 and 40.28 (only roughly because of negative value handling in softplus)\n"
   ]
  },
  {
   "cell_type": "code",
   "execution_count": 21,
   "id": "df832e5a",
   "metadata": {},
   "outputs": [
    {
     "name": "stdout",
     "output_type": "stream",
     "text": [
      "Minimum of Diff: 6.289186393892976e-10, Maximum of Diff: 703.8377685546875, shape: torch.Size([250, 50, 30, 50])\n"
     ]
    }
   ],
   "source": [
    "Diff_sum = torch.sum(softplus(tmp1) - softplus(tmp2),dim=0)\n",
    "print(f'Minimum of Diff: {Diff_sum.min()}, Maximum of Diff: {Diff_sum.max()}, shape: {Diff_sum.shape}')\n",
    "# sum of all 28 players "
   ]
  },
  {
   "cell_type": "code",
   "execution_count": 12,
   "id": "7819c36e",
   "metadata": {},
   "outputs": [
    {
     "name": "stdout",
     "output_type": "stream",
     "text": [
      "Minimum of exp: -750.8692016601562, Maximum of exp: -6.709438560292824e-10, shape: torch.Size([250, 50, 30, 50])\n"
     ]
    }
   ],
   "source": [
    "exp = -lamb*torch.sum(softplus(tmp1) - softplus(tmp2),dim=0).div_(sigma)\n",
    "print(f'Minimum of exp: {exp.min()}, Maximum of exp: {exp.max()}, shape: {exp.shape}')\n"
   ]
  },
  {
   "cell_type": "code",
   "execution_count": 13,
   "id": "3d1aec5a",
   "metadata": {},
   "outputs": [
    {
     "name": "stdout",
     "output_type": "stream",
     "text": [
      "Minimum of S: 0.0, Maximum of S: 1.0, shape: torch.Size([250, 50, 30, 50])\n"
     ]
    }
   ],
   "source": [
    "S = torch.exp(-lamb*torch.sum(softplus(tmp1) - softplus(tmp2),dim=0).div_(sigma))\n",
    "print(f'Minimum of S: {S.min()}, Maximum of S: {S.max()}, shape: {S.shape}')\n",
    "# transforms the whole thing to a range of [0, 1]\n",
    "# = control probability -1 based on all possible times to control?!  "
   ]
  },
  {
   "cell_type": "code",
   "execution_count": 17,
   "id": "06cb28ea",
   "metadata": {},
   "outputs": [
    {
     "name": "stdout",
     "output_type": "stream",
     "text": [
      "Minimum of hh: 0.0, Maximum of hh: 4.300000190734863, shape: torch.Size([14, 250, 50, 30, 50])\n",
      "Minimum of h: 3.8811446689886067e-16, Maximum of h: 47.29999542236328, shape: torch.Size([250, 50, 30, 50])\n"
     ]
    }
   ],
   "source": [
    "hh = torch.sigmoid(tmp1[:14]).mul_(4.3)\n",
    "print(f'Minimum of hh: {hh.min()}, Maximum of hh: {hh.max()}, shape: {hh.shape}')\n",
    "# converts time available to intercept the ball into a probability [0,1] --> hints at intercept probability\n",
    "# sigmoid with tmp1 as the exponent is exactly the intercept probability function (3)\n",
    "# why multiply by lambda?! Makes no sense to me\n",
    "# only for the home team!\n",
    "\n",
    "# teams intercept probability as the sum of players' intercept probabilities\n",
    "h = hh.sum(0)\n",
    "print(f'Minimum of h: {h.min()}, Maximum of h: {h.max()}, shape: {h.shape}')\n"
   ]
  },
  {
   "cell_type": "code",
   "execution_count": 20,
   "id": "e874c6ad",
   "metadata": {},
   "outputs": [
    {
     "name": "stdout",
     "output_type": "stream",
     "text": [
      "Minimum of pc: 0.0, Maximum of pc: 1.0000004768371582, shape: torch.Size([145005, 50, 30])\n"
     ]
    }
   ],
   "source": [
    "print(f'Minimum of pc: {pc.min()}, Maximum of pc: {pc.max()}, shape: {pc.shape}')"
   ]
  }
 ],
 "metadata": {
  "kernelspec": {
   "display_name": "Football_Analytics_venv",
   "language": "python",
   "name": "football_analytics_venv"
  },
  "language_info": {
   "codemirror_mode": {
    "name": "ipython",
    "version": 3
   },
   "file_extension": ".py",
   "mimetype": "text/x-python",
   "name": "python",
   "nbconvert_exporter": "python",
   "pygments_lexer": "ipython3",
   "version": "3.10.11"
  }
 },
 "nbformat": 4,
 "nbformat_minor": 5
}
