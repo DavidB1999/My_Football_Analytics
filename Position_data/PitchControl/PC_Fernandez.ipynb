{
 "cells": [
  {
   "cell_type": "code",
   "execution_count": 1,
   "id": "36e4487d",
   "metadata": {},
   "outputs": [],
   "source": [
    "import sys\n",
    "sys.path.append('C:\\\\Users\\\\DavidB\\\\PycharmProjects\\\\My_Football_Analytics\\\\Basics')\n",
    "sys.path.append('C://Users//DavidB//PycharmProjects//My_Football_Analytics//Position_data')\n",
    "\n",
    "import pandas as pd\n",
    "import numpy as np\n",
    "import torch\n",
    "from torch.nn.functional import softplus\n",
    "import Data.Metrica_IO as mio\n",
    "from Tracking_Data import tracking_data\n",
    "import pitch_control\n",
    "import matplotlib.pyplot as plt\n",
    "\n",
    "away_data = pd.read_csv('https://raw.githubusercontent.com/metrica-sports/sample-data/master/data/Sample_Game_1/Sample_Game_1_RawTrackingData_Away_Team.csv', skiprows=2)\n",
    "home_data = pd.read_csv('https://raw.githubusercontent.com/metrica-sports/sample-data/master/data/Sample_Game_1/Sample_Game_1_RawTrackingData_Home_Team.csv', skiprows=2)\n",
    "\n",
    "# positions of players and ball as numpy.ndarray\n",
    "locs_home = np.array([np.asarray(home_data.iloc[:,range(3 + j*2,3 + j*2 +2)]) for j in range(14)]) * np.array([120,80])\n",
    "locs_away = np.array([np.asarray(away_data.iloc[:,range(3 + j*2,3 + j*2 +2)]) for j in range(14)]) * np.array([120,80])\n",
    "locs_ball = np.asarray(home_data.iloc[:,range(31,33)]) * np.array([120,80])\n",
    "\n",
    "# time colum as pandas.core.series.Series\n",
    "tt = home_data['Time [s]']\n",
    "\n",
    "# event data dataframe\n",
    "event_data = pd.read_csv('https://raw.githubusercontent.com/metrica-sports/sample-data/master/data/Sample_Game_1/Sample_Game_1_RawEventsData.csv')\n"
   ]
  },
  {
   "cell_type": "code",
   "execution_count": 2,
   "id": "d8abb675",
   "metadata": {},
   "outputs": [
    {
     "name": "stdout",
     "output_type": "stream",
     "text": [
      "Reading team: away\n",
      "Reading team: home\n"
     ]
    },
    {
     "data": {
      "text/plain": [
       "<Tracking_Data.tracking_data at 0x1e695430100>"
      ]
     },
     "execution_count": 2,
     "metadata": {},
     "output_type": "execute_result"
    }
   ],
   "source": [
    "# supposed to be based on td_object --> first create one\n",
    "# everywhere we call the object now will later be self\n",
    "\n",
    "data_dir = 'sample-data-master/data/'\n",
    "game_id = 1\n",
    "away = mio.tracking_data(DATADIR=data_dir, game_id=game_id, teamname='Away')\n",
    "home = mio.tracking_data(DATADIR=data_dir, game_id=game_id, teamname='Home')\n",
    "td = mio.merge_tracking_data(home, away)\n",
    "td_object = tracking_data(td, data_source='metrica', scale_to_pitch='mplsoccer')\n",
    "td_object.get_velocities()\n",
    "\n",
    "td_object"
   ]
  },
  {
   "cell_type": "code",
   "execution_count": 86,
   "id": "142ebbf8",
   "metadata": {},
   "outputs": [],
   "source": [
    "jitter = 1e-12 # to avoid division by zero when players are standing still\n",
    "\n",
    "# convert to tensor (n_players, n_frames, 2)\n",
    "# GPU versions of data if available via cuda function\n",
    "xy_home = torch.Tensor(locs_home)\n",
    "xy_away = torch.Tensor(locs_away)\n",
    "xy_ball = torch.Tensor(locs_ball)\n",
    "ttt = torch.Tensor(tt)\n",
    "\n",
    "# x & y velocity components\n",
    "# removes first frame for some reason\n",
    "dt = ttt[1:] - ttt[:-1]\n",
    "sxy_home = (xy_home[:,1:,:] - xy_home[:,:-1,:])/dt[:,None] + jitter\n",
    "sxy_away = (xy_away[:,1:,:] - xy_away[:,:-1,:])/dt[:,None] + jitter\n",
    "\n",
    "# speed via pythagoras for each x-y-combination (=dimension 2)\n",
    "s_home = torch.sqrt(torch.sum(sxy_home**2,2))\n",
    "s_away = torch.sqrt(torch.sum(sxy_away**2,2))\n",
    "\n",
    "# angles of travel\n",
    "theta_home = torch.acos(sxy_home[:,:,0] / s_home)\n",
    "theta_away = torch.acos(sxy_away[:,:,0] / s_away)\n",
    "\n",
    "# means for player influence functions (mu)\n",
    "# gamma = 0.5\n",
    "mu_home = xy_home[:,:-1,:] + 0.5*sxy_home\n",
    "mu_away = xy_away[:,:-1,:] + 0.5*sxy_away\n",
    "\n",
    "# proportion of max. speed\n",
    "# max speed = 13m/s\n",
    "# maximal rate of 1 (i.e. excluding faster than assumed max speed\n",
    "# according to Fernandez (2018) eq. (18) this is not correct\n",
    "Srat_home = torch.min((s_home / 13.0)**2,torch.Tensor([1]))\n",
    "Srat_away = torch.min((s_away / 13.0)**2,torch.Tensor([1]))\n",
    "\n",
    "# influence radius\n",
    "Ri_home = torch.min(4 + torch.sqrt(torch.sum((xy_ball - xy_home)**2,2))**3 / 972,torch.Tensor([10]))\n",
    "Ri_away = torch.min(4 + torch.sqrt(torch.sum((xy_ball - xy_away)**2,2))**3 / 972,torch.Tensor([10]))\n",
    "\n",
    "# inverses of covariance matrices -- Sigma^{-1} = RS^{-1}S^{-1}R^T. only need RS^{-1} to evaluate gaussian.\n",
    "\n",
    "# create tensor with zeros to be filled\n",
    "RSinv_home = torch.Tensor(s_home.shape[0],s_home.shape[1],2,2)\n",
    "RSinv_away = torch.Tensor(s_home.shape[0],s_home.shape[1],2,2)\n",
    "\n",
    "# s for S matrix\n",
    "S1_home = 2 / ((1+Srat_home) * Ri_home[:,:-1])\n",
    "S2_home = 2 / ((1-Srat_home) * Ri_home[:,:-1])\n",
    "S1_away = 2 / ((1+Srat_away) * Ri_away[:,:-1])\n",
    "S2_away = 2 / ((1-Srat_away) * Ri_away[:,:-1])\n",
    "\n",
    "# RS^-1 as the sum of S and the angle from R (A) \n",
    "RSinv_home[:,:,0,0] = S1_home * torch.cos(theta_home)\n",
    "RSinv_home[:,:,1,0] = S1_home * torch.sin(theta_home)\n",
    "RSinv_home[:,:,0,1] = - S2_home * torch.sin(theta_home)\n",
    "RSinv_home[:,:,1,1] = S2_home * torch.cos(theta_home)\n",
    "\n",
    "RSinv_away[:,:,0,0] = S1_away * torch.cos(theta_away)\n",
    "RSinv_away[:,:,1,0] = S1_away * torch.sin(theta_away)\n",
    "RSinv_away[:,:,0,1] = - S2_away * torch.sin(theta_away)\n",
    "RSinv_away[:,:,1,1] = S2_away * torch.cos(theta_away)\n",
    "# denominators for individual player influence functions (see eq 1 in paper). Note the normalising factors \n",
    "# for the multivariate normal distns (eq 12) \n",
    "#cancel, so don't need to bother computing them.\n",
    "denominators_h = torch.exp(-0.5 * torch.sum(((xy_home[:,:-1,None,:] - mu_home[:,:,None,:]).matmul(RSinv_home))**2,-1))\n",
    "denominators_a = torch.exp(-0.5 * torch.sum(((xy_away[:,:-1,None,:] - mu_away[:,:,None,:]).matmul(RSinv_away))**2,-1))\n",
    "\n",
    "\n",
    "# set up query points for evaluating pitch control\n",
    "n_grid_points_x = 50\n",
    "n_grid_points_y = 30\n",
    "xy_query = torch.stack([torch.linspace(0,120,n_grid_points_x).repeat(n_grid_points_y),torch.repeat_interleave(torch.linspace(0, 80,n_grid_points_y),n_grid_points_x)],1)\n",
    "     "
   ]
  },
  {
   "cell_type": "code",
   "execution_count": 87,
   "id": "b14671cc",
   "metadata": {},
   "outputs": [
    {
     "name": "stdout",
     "output_type": "stream",
     "text": [
      "0\n"
     ]
    }
   ],
   "source": [
    "# specify frames of interest\n",
    "first_frame = 0\n",
    "#n_frames = sxy_home.shape[1]\n",
    "n_frames = 250\n",
    "\n",
    "# add some dimensions to query array for broadcasting purposes\n",
    "xyq = xy_query[None,None,:,:]\n",
    "# all target locations for all frames\n",
    "pitch_control = torch.Tensor(n_frames,xy_query.shape[0])\n",
    "\n",
    "#batch_size sets number of frames to be processed at once. decrease if there's a cuda memory error.\n",
    "batch_size = 250\n",
    "\n",
    "for f in range(int(n_frames/batch_size)):\n",
    "    print(f)\n",
    "    # substract means from query points = p-mu\n",
    "    # but this is mu - p\n",
    "    xminmu_h = mu_home[:,(first_frame + f*batch_size):\n",
    "                       (np.minimum(first_frame + (f+1)*batch_size,int(first_frame + n_frames))),None,:] - xyq\n",
    "    # multiply (mu - x) obtained above by RS^{-1}\n",
    "    mm_h = xminmu_h.matmul(RSinv_home[:,(first_frame + f*batch_size):\n",
    "                                      (np.minimum(first_frame + (f+1)*batch_size,int(first_frame + n_frames))),:,:])\n",
    "    # mm_h = (p-mu) * RS^-1\n",
    "    # infl_h = mm_h^2 = ((p-mu) * RS^-1)^2 = (p-mu) * RS^-1 * (p-mu) * RS^-1) = (p-mu) * SIGMA * (p-mu)\n",
    "    infl_h = torch.exp(-0.5 * torch.sum(mm_h**2,-1))\n",
    "    # infl_h = exponent of f\n",
    "    infl_h = infl_h / denominators_h[:,(first_frame + f*batch_size):\n",
    "                                     (np.minimum(first_frame + (f+1)*batch_size,int(first_frame + n_frames))),:]\n",
    "    \n",
    "    xminmu_a = mu_away[:,(first_frame + f*batch_size):(np.minimum(first_frame + (f+1)*batch_size,int(first_frame + n_frames))),None,:] - xyq\n",
    "    mm_a = xminmu_a.matmul(RSinv_away[:,(first_frame + f*batch_size):(np.minimum(first_frame + (f+1)*batch_size,int(first_frame + n_frames))),:,:])\n",
    "    infl_a = torch.exp(-0.5 * torch.sum(mm_a**2,-1))\n",
    "    infl_a = infl_a / denominators_a[:,(first_frame + f*batch_size):(np.minimum(first_frame + (f+1)*batch_size,int(first_frame + n_frames))),:]\n",
    "    \n",
    "    # missing values --> 0\n",
    "    isnan_h = torch.isnan(infl_h)\n",
    "    isnan_a = torch.isnan(infl_a)\n",
    "    infl_h[isnan_h] = 0\n",
    "    infl_a[isnan_a] = 0\n",
    "    \n",
    "    \n",
    "    # based on both teams influence areas we calculate the pitch control by transforming the delta into\n",
    "    # a probability via the sigmoid function\n",
    "    pitch_control[(f*batch_size):\n",
    "                  (np.minimum((f+1)*batch_size,int(n_frames))),:] = torch.sigmoid(torch.sum(infl_h,0) - torch.sum(infl_a,0))\n",
    "\n",
    "\n"
   ]
  },
  {
   "cell_type": "code",
   "execution_count": 88,
   "id": "b02df37a",
   "metadata": {},
   "outputs": [
    {
     "name": "stderr",
     "output_type": "stream",
     "text": [
      "posx and posy should be finite values\n",
      "posx and posy should be finite values\n",
      "posx and posy should be finite values\n",
      "posx and posy should be finite values\n",
      "posx and posy should be finite values\n",
      "posx and posy should be finite values\n",
      "posx and posy should be finite values\n",
      "posx and posy should be finite values\n",
      "posx and posy should be finite values\n"
     ]
    },
    {
     "data": {
      "image/png": "[encoded data removed]",
      "text/plain": [
       "<Figure size 640x480 with 1 Axes>"
      ]
     },
     "metadata": {},
     "output_type": "display_data"
    }
   ],
   "source": [
    "import matplotlib.pyplot as plt\n",
    "f = 100\n",
    "fig, ax = td_object.plot_players(frame=f, velocities=True)\n",
    "\n",
    "\n",
    "ax.imshow(pitch_control[f].reshape(n_grid_points_y,n_grid_points_x),extent = (0,120, 80, 0), \n",
    "          cmap='bwr', alpha=0.5, vmin=0.0, vmax=1.0)\n",
    "ax.scatter(mu_home[:, f, 0], mu_home[:, f, 1], marker='x', color = 'white')\n",
    "ax.scatter(xy_ball[f, 0], xy_ball[f,1], color='black', marker='x')\n",
    "for p in range(len(Ri_home)):\n",
    "    cir = plt.Circle((mu_home[p, f, 0], mu_home[p, f, 1]), fill=False, radius = Ri_home[p, 0], color='pink')\n",
    "    ax.add_patch(cir)\n",
    "    ax.text(mu_home[p, f, 0], mu_home[p, f, 1], s=str(round(denominators_h[p,f].item(), 3)))\n",
    "    i = infl_h[p, f, :].argmax()\n",
    "    ax.scatter(xyq[:, :, i][0][0][0], xyq[:, :, i][0][0][1], color='pink', marker='X')"
   ]
  },
  {
   "cell_type": "code",
   "execution_count": 89,
   "id": "0ade23bc",
   "metadata": {},
   "outputs": [
    {
     "name": "stdout",
     "output_type": "stream",
     "text": [
      "0\n",
      "1\n",
      "2\n",
      "3\n",
      "4\n",
      "5\n",
      "6\n",
      "7\n",
      "8\n",
      "9\n",
      "10\n",
      "11\n",
      "12\n",
      "13\n"
     ]
    }
   ],
   "source": [
    "for p in range(len(Ri_home)):\n",
    "    print(p)"
   ]
  },
  {
   "cell_type": "code",
   "execution_count": 30,
   "id": "ab662710",
   "metadata": {},
   "outputs": [
    {
     "data": {
      "text/plain": [
       "tensor([[-4.5013e-01,  1.0000e-12],\n",
       "        [ 1.0000e-12,  1.0000e-12],\n",
       "        [ 1.0000e-12,  1.0000e-12],\n",
       "        [ 1.0000e-12,  1.0000e-12],\n",
       "        [ 1.0000e-12,  1.0000e-12],\n",
       "        [ 1.0000e-12,  1.0000e-12],\n",
       "        [ 1.0000e-12,  1.0000e-12],\n",
       "        [ 1.0000e-12,  1.0000e-12],\n",
       "        [ 1.0000e-12,  1.0000e-12],\n",
       "        [ 1.0000e-12,  1.0000e-12],\n",
       "        [ 1.0000e-12,  1.0000e-12],\n",
       "        [        nan,         nan],\n",
       "        [        nan,         nan],\n",
       "        [        nan,         nan]])"
      ]
     },
     "execution_count": 30,
     "metadata": {},
     "output_type": "execute_result"
    }
   ],
   "source": [
    "sxy_away[:, 0]"
   ]
  },
  {
   "cell_type": "code",
   "execution_count": 82,
   "id": "3e254900",
   "metadata": {},
   "outputs": [
    {
     "data": {
      "text/plain": [
       "tensor([1.0457e-13, 9.8615e-14, 7.7445e-14,  ..., 0.0000e+00, 0.0000e+00,\n",
       "        0.0000e+00])"
      ]
     },
     "execution_count": 82,
     "metadata": {},
     "output_type": "execute_result"
    }
   ],
   "source": [
    "infl_h[0, 1, :]"
   ]
  },
  {
   "cell_type": "code",
   "execution_count": 29,
   "id": "73f99855",
   "metadata": {},
   "outputs": [
    {
     "data": {
      "text/plain": [
       "tensor([0.5000, 0.5000, 0.5000,  ..., 0.5000, 0.5000, 0.5000])"
      ]
     },
     "execution_count": 29,
     "metadata": {},
     "output_type": "execute_result"
    }
   ],
   "source": [
    "pitch_control[1]"
   ]
  },
  {
   "cell_type": "code",
   "execution_count": null,
   "id": "9e761860",
   "metadata": {},
   "outputs": [],
   "source": [
    "xy_away"
   ]
  },
  {
   "cell_type": "code",
   "execution_count": null,
   "id": "b32875d3",
   "metadata": {},
   "outputs": [],
   "source": [
    "import numpy as np\n",
    "import matplotlib.pyplot as plt\n",
    "\n",
    "\n",
    "def RI(distance_to_ball, exp=3, div=972):\n",
    "    ri = np.min([4 + distance_to_ball**exp /div, 10])\n",
    "    return ri\n",
    "\n",
    "dtb = np.arange(0, 30, 0.01)\n",
    "ris = [RI(x) for x in dtb]\n",
    "plt.plot(dtb, ris)"
   ]
  },
  {
   "cell_type": "code",
   "execution_count": null,
   "id": "2a7ada10",
   "metadata": {},
   "outputs": [],
   "source": [
    "np.random.logistic()"
   ]
  },
  {
   "cell_type": "code",
   "execution_count": null,
   "id": "028cb803",
   "metadata": {},
   "outputs": [],
   "source": [
    "np.exp(2)/np.exp(3)"
   ]
  },
  {
   "cell_type": "code",
   "execution_count": null,
   "id": "624deb08",
   "metadata": {},
   "outputs": [],
   "source": [
    "2/3"
   ]
  },
  {
   "cell_type": "code",
   "execution_count": null,
   "id": "cb235206",
   "metadata": {},
   "outputs": [],
   "source": [
    "td_object.dimensions"
   ]
  },
  {
   "cell_type": "code",
   "execution_count": 40,
   "id": "3cfe3817",
   "metadata": {},
   "outputs": [
    {
     "data": {
      "text/plain": [
       "tensor([ 0.0000, 35.1724])"
      ]
     },
     "execution_count": 40,
     "metadata": {},
     "output_type": "execute_result"
    }
   ],
   "source": [
    "xy_query[750]"
   ]
  },
  {
   "cell_type": "code",
   "execution_count": 52,
   "id": "3045dcad",
   "metadata": {},
   "outputs": [
    {
     "data": {
      "text/plain": [
       "tensor(807)"
      ]
     },
     "execution_count": 52,
     "metadata": {},
     "output_type": "execute_result"
    }
   ],
   "source": [
    "infl_h[0, 0, :].argmax()"
   ]
  },
  {
   "cell_type": "code",
   "execution_count": 61,
   "id": "393e2295",
   "metadata": {},
   "outputs": [
    {
     "data": {
      "text/plain": [
       "tensor(0.9949)"
      ]
     },
     "execution_count": 61,
     "metadata": {},
     "output_type": "execute_result"
    }
   ],
   "source": [
    "infl_h[0, 0, 807]"
   ]
  },
  {
   "cell_type": "code",
   "execution_count": 62,
   "id": "570770f3",
   "metadata": {},
   "outputs": [
    {
     "data": {
      "text/plain": [
       "torch.Size([14, 250, 1500])"
      ]
     },
     "execution_count": 62,
     "metadata": {},
     "output_type": "execute_result"
    }
   ],
   "source": [
    "infl_h.shape"
   ]
  },
  {
   "cell_type": "code",
   "execution_count": 56,
   "id": "61343f3a",
   "metadata": {},
   "outputs": [
    {
     "data": {
      "text/plain": [
       "(16.14, 7)"
      ]
     },
     "execution_count": 56,
     "metadata": {},
     "output_type": "execute_result"
    }
   ],
   "source": [
    "807/50, 807%50"
   ]
  },
  {
   "cell_type": "code",
   "execution_count": 85,
   "id": "50ef9642",
   "metadata": {},
   "outputs": [
    {
     "data": {
      "text/plain": [
       "tensor([[[[  0.0000,   0.0000],\n",
       "          [  2.1429,   0.0000],\n",
       "          [  4.2857,   0.0000],\n",
       "          ...,\n",
       "          [100.7143,  68.0000],\n",
       "          [102.8571,  68.0000],\n",
       "          [105.0000,  68.0000]]]])"
      ]
     },
     "execution_count": 85,
     "metadata": {},
     "output_type": "execute_result"
    }
   ],
   "source": [
    "xyq"
   ]
  },
  {
   "cell_type": "code",
   "execution_count": null,
   "id": "63c4f475",
   "metadata": {},
   "outputs": [],
   "source": []
  }
 ],
 "metadata": {
  "kernelspec": {
   "display_name": "Football_Analytics_venv",
   "language": "python",
   "name": "football_analytics_venv"
  },
  "language_info": {
   "codemirror_mode": {
    "name": "ipython",
    "version": 3
   },
   "file_extension": ".py",
   "mimetype": "text/x-python",
   "name": "python",
   "nbconvert_exporter": "python",
   "pygments_lexer": "ipython3",
   "version": "3.10.11"
  }
 },
 "nbformat": 4,
 "nbformat_minor": 5
}
