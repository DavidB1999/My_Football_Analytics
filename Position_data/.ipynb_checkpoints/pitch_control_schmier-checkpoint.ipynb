{
 "cells": [
  {
   "cell_type": "code",
   "execution_count": 1,
   "id": "094d0433",
   "metadata": {},
   "outputs": [],
   "source": [
    "import sys\n",
    "sys.path.append('C:\\\\Users\\\\DavidB\\\\PycharmProjects\\\\My_Football_Analytics\\\\Basics')\n",
    "\n",
    "import pandas as pd\n",
    "import numpy as np\n",
    "import Data.Metrica_IO as mio\n",
    "from Tracking_Data import tracking_data\n",
    "from mplsoccer import Pitch\n",
    "import matplotlib.pyplot as plt\n",
    "import PitchControl.pitch_control as pc"
   ]
  },
  {
   "cell_type": "code",
   "execution_count": 2,
   "id": "476107bf",
   "metadata": {},
   "outputs": [
    {
     "name": "stdout",
     "output_type": "stream",
     "text": [
      "Reading team: away\n",
      "Reading team: home\n",
      "tracking_data object of metrica of shape (141156, 56).\n"
     ]
    },
    {
     "data": {
      "text/html": [
       "<div>\n",
       "<style scoped>\n",
       "    .dataframe tbody tr th:only-of-type {\n",
       "        vertical-align: middle;\n",
       "    }\n",
       "\n",
       "    .dataframe tbody tr th {\n",
       "        vertical-align: top;\n",
       "    }\n",
       "\n",
       "    .dataframe thead th {\n",
       "        text-align: right;\n",
       "    }\n",
       "</style>\n",
       "<table border=\"1\" class=\"dataframe\">\n",
       "  <thead>\n",
       "    <tr style=\"text-align: right;\">\n",
       "      <th></th>\n",
       "      <th>Period</th>\n",
       "      <th>Time [s]</th>\n",
       "      <th>Home_11_x</th>\n",
       "      <th>Home_11_y</th>\n",
       "      <th>Home_1_x</th>\n",
       "      <th>Home_1_y</th>\n",
       "      <th>Home_2_x</th>\n",
       "      <th>Home_2_y</th>\n",
       "      <th>Home_3_x</th>\n",
       "      <th>Home_3_y</th>\n",
       "      <th>...</th>\n",
       "      <th>Home_6_speed</th>\n",
       "      <th>Home_7_vx</th>\n",
       "      <th>Home_7_vy</th>\n",
       "      <th>Home_7_speed</th>\n",
       "      <th>Home_8_vx</th>\n",
       "      <th>Home_8_vy</th>\n",
       "      <th>Home_8_speed</th>\n",
       "      <th>Home_9_vx</th>\n",
       "      <th>Home_9_vy</th>\n",
       "      <th>Home_9_speed</th>\n",
       "    </tr>\n",
       "    <tr>\n",
       "      <th>Frame</th>\n",
       "      <th></th>\n",
       "      <th></th>\n",
       "      <th></th>\n",
       "      <th></th>\n",
       "      <th></th>\n",
       "      <th></th>\n",
       "      <th></th>\n",
       "      <th></th>\n",
       "      <th></th>\n",
       "      <th></th>\n",
       "      <th></th>\n",
       "      <th></th>\n",
       "      <th></th>\n",
       "      <th></th>\n",
       "      <th></th>\n",
       "      <th></th>\n",
       "      <th></th>\n",
       "      <th></th>\n",
       "      <th></th>\n",
       "      <th></th>\n",
       "      <th></th>\n",
       "    </tr>\n",
       "  </thead>\n",
       "  <tbody>\n",
       "    <tr>\n",
       "      <th>1</th>\n",
       "      <td>1</td>\n",
       "      <td>0.04</td>\n",
       "      <td>113.13</td>\n",
       "      <td>40.3304</td>\n",
       "      <td>77.7744</td>\n",
       "      <td>22.884</td>\n",
       "      <td>81.3024</td>\n",
       "      <td>34.2424</td>\n",
       "      <td>83.8584</td>\n",
       "      <td>44.4848</td>\n",
       "      <td>...</td>\n",
       "      <td>NaN</td>\n",
       "      <td>NaN</td>\n",
       "      <td>NaN</td>\n",
       "      <td>NaN</td>\n",
       "      <td>NaN</td>\n",
       "      <td>NaN</td>\n",
       "      <td>NaN</td>\n",
       "      <td>NaN</td>\n",
       "      <td>NaN</td>\n",
       "      <td>NaN</td>\n",
       "    </tr>\n",
       "    <tr>\n",
       "      <th>2</th>\n",
       "      <td>1</td>\n",
       "      <td>0.08</td>\n",
       "      <td>113.13</td>\n",
       "      <td>40.3304</td>\n",
       "      <td>77.7744</td>\n",
       "      <td>22.884</td>\n",
       "      <td>81.3024</td>\n",
       "      <td>34.2424</td>\n",
       "      <td>83.8584</td>\n",
       "      <td>44.4848</td>\n",
       "      <td>...</td>\n",
       "      <td>NaN</td>\n",
       "      <td>NaN</td>\n",
       "      <td>NaN</td>\n",
       "      <td>NaN</td>\n",
       "      <td>NaN</td>\n",
       "      <td>NaN</td>\n",
       "      <td>NaN</td>\n",
       "      <td>NaN</td>\n",
       "      <td>NaN</td>\n",
       "      <td>NaN</td>\n",
       "    </tr>\n",
       "    <tr>\n",
       "      <th>3</th>\n",
       "      <td>1</td>\n",
       "      <td>0.12</td>\n",
       "      <td>113.13</td>\n",
       "      <td>40.3304</td>\n",
       "      <td>77.7744</td>\n",
       "      <td>22.884</td>\n",
       "      <td>81.3024</td>\n",
       "      <td>34.2424</td>\n",
       "      <td>83.8584</td>\n",
       "      <td>44.4848</td>\n",
       "      <td>...</td>\n",
       "      <td>NaN</td>\n",
       "      <td>NaN</td>\n",
       "      <td>NaN</td>\n",
       "      <td>NaN</td>\n",
       "      <td>NaN</td>\n",
       "      <td>NaN</td>\n",
       "      <td>NaN</td>\n",
       "      <td>NaN</td>\n",
       "      <td>NaN</td>\n",
       "      <td>NaN</td>\n",
       "    </tr>\n",
       "    <tr>\n",
       "      <th>4</th>\n",
       "      <td>1</td>\n",
       "      <td>0.16</td>\n",
       "      <td>113.13</td>\n",
       "      <td>40.3304</td>\n",
       "      <td>77.7744</td>\n",
       "      <td>22.884</td>\n",
       "      <td>81.3024</td>\n",
       "      <td>34.2424</td>\n",
       "      <td>83.8584</td>\n",
       "      <td>44.4848</td>\n",
       "      <td>...</td>\n",
       "      <td>NaN</td>\n",
       "      <td>NaN</td>\n",
       "      <td>NaN</td>\n",
       "      <td>NaN</td>\n",
       "      <td>NaN</td>\n",
       "      <td>NaN</td>\n",
       "      <td>NaN</td>\n",
       "      <td>NaN</td>\n",
       "      <td>NaN</td>\n",
       "      <td>NaN</td>\n",
       "    </tr>\n",
       "    <tr>\n",
       "      <th>5</th>\n",
       "      <td>1</td>\n",
       "      <td>0.20</td>\n",
       "      <td>113.13</td>\n",
       "      <td>40.3304</td>\n",
       "      <td>77.7744</td>\n",
       "      <td>22.884</td>\n",
       "      <td>81.3024</td>\n",
       "      <td>34.2424</td>\n",
       "      <td>83.8584</td>\n",
       "      <td>44.4848</td>\n",
       "      <td>...</td>\n",
       "      <td>0.0</td>\n",
       "      <td>NaN</td>\n",
       "      <td>NaN</td>\n",
       "      <td>NaN</td>\n",
       "      <td>NaN</td>\n",
       "      <td>NaN</td>\n",
       "      <td>NaN</td>\n",
       "      <td>NaN</td>\n",
       "      <td>NaN</td>\n",
       "      <td>NaN</td>\n",
       "    </tr>\n",
       "  </tbody>\n",
       "</table>\n",
       "<p>5 rows × 134 columns</p>\n",
       "</div>"
      ],
      "text/plain": [
       "       Period  Time [s]  Home_11_x  Home_11_y  Home_1_x  Home_1_y  Home_2_x  \\\n",
       "Frame                                                                         \n",
       "1           1      0.04     113.13    40.3304   77.7744    22.884   81.3024   \n",
       "2           1      0.08     113.13    40.3304   77.7744    22.884   81.3024   \n",
       "3           1      0.12     113.13    40.3304   77.7744    22.884   81.3024   \n",
       "4           1      0.16     113.13    40.3304   77.7744    22.884   81.3024   \n",
       "5           1      0.20     113.13    40.3304   77.7744    22.884   81.3024   \n",
       "\n",
       "       Home_2_y  Home_3_x  Home_3_y  ...  Home_6_speed  Home_7_vx  Home_7_vy  \\\n",
       "Frame                                ...                                       \n",
       "1       34.2424   83.8584   44.4848  ...           NaN        NaN        NaN   \n",
       "2       34.2424   83.8584   44.4848  ...           NaN        NaN        NaN   \n",
       "3       34.2424   83.8584   44.4848  ...           NaN        NaN        NaN   \n",
       "4       34.2424   83.8584   44.4848  ...           NaN        NaN        NaN   \n",
       "5       34.2424   83.8584   44.4848  ...           0.0        NaN        NaN   \n",
       "\n",
       "       Home_7_speed  Home_8_vx  Home_8_vy  Home_8_speed  Home_9_vx  Home_9_vy  \\\n",
       "Frame                                                                           \n",
       "1               NaN        NaN        NaN           NaN        NaN        NaN   \n",
       "2               NaN        NaN        NaN           NaN        NaN        NaN   \n",
       "3               NaN        NaN        NaN           NaN        NaN        NaN   \n",
       "4               NaN        NaN        NaN           NaN        NaN        NaN   \n",
       "5               NaN        NaN        NaN           NaN        NaN        NaN   \n",
       "\n",
       "       Home_9_speed  \n",
       "Frame                \n",
       "1               NaN  \n",
       "2               NaN  \n",
       "3               NaN  \n",
       "4               NaN  \n",
       "5               NaN  \n",
       "\n",
       "[5 rows x 134 columns]"
      ]
     },
     "execution_count": 2,
     "metadata": {},
     "output_type": "execute_result"
    }
   ],
   "source": [
    "data_dir = 'PitchControl/sample-data-master/data/'\n",
    "game_id = 2\n",
    "away = mio.tracking_data(DATADIR=data_dir, game_id=game_id, teamname='Away')\n",
    "home = mio.tracking_data(DATADIR=data_dir, game_id=game_id, teamname='Home')\n",
    "td = mio.merge_tracking_data(home, away)\n",
    "td_object = tracking_data(td, data_source='metrica', scale_to_pitch='mplsoccer')\n",
    "print(td_object)\n",
    "td_object.get_velocities()\n",
    "td_object.data.head()"
   ]
  },
  {
   "cell_type": "code",
   "execution_count": 3,
   "id": "59350403",
   "metadata": {},
   "outputs": [
    {
     "data": {
      "text/plain": [
       "(<Figure size 640x480 with 1 Axes>, <Axes: >)"
      ]
     },
     "execution_count": 3,
     "metadata": {},
     "output_type": "execute_result"
    },
    {
     "data": {
      "image/png": "[encoded data removed]",
      "text/plain": [
       "<Figure size 640x480 with 1 Axes>"
      ]
     },
     "metadata": {},
     "output_type": "display_data"
    }
   ],
   "source": [
    "td_object.plot_players(frame=51, velocities=True)\n"
   ]
  },
  {
   "cell_type": "code",
   "execution_count": 4,
   "id": "4a15891e",
   "metadata": {},
   "outputs": [
    {
     "data": {
      "text/plain": [
       "('11', '25')"
      ]
     },
     "execution_count": 4,
     "metadata": {},
     "output_type": "execute_result"
    }
   ],
   "source": [
    "td_object.Home_GK, td_object.Away_GK "
   ]
  },
  {
   "cell_type": "code",
   "execution_count": 5,
   "id": "3664939a",
   "metadata": {},
   "outputs": [
    {
     "name": "stdout",
     "output_type": "stream",
     "text": [
      "Player 11 playing for the Home team.\n",
      "True\n"
     ]
    },
    {
     "data": {
      "text/html": [
       "<div>\n",
       "<style scoped>\n",
       "    .dataframe tbody tr th:only-of-type {\n",
       "        vertical-align: middle;\n",
       "    }\n",
       "\n",
       "    .dataframe tbody tr th {\n",
       "        vertical-align: top;\n",
       "    }\n",
       "\n",
       "    .dataframe thead th {\n",
       "        text-align: right;\n",
       "    }\n",
       "</style>\n",
       "<table border=\"1\" class=\"dataframe\">\n",
       "  <thead>\n",
       "    <tr style=\"text-align: right;\">\n",
       "      <th></th>\n",
       "      <th>Period</th>\n",
       "      <th>Time [s]</th>\n",
       "      <th>Home_11_x</th>\n",
       "      <th>Home_11_y</th>\n",
       "      <th>Home_11_vx</th>\n",
       "      <th>Home_11_vy</th>\n",
       "      <th>Home_11_speed</th>\n",
       "    </tr>\n",
       "    <tr>\n",
       "      <th>Frame</th>\n",
       "      <th></th>\n",
       "      <th></th>\n",
       "      <th></th>\n",
       "      <th></th>\n",
       "      <th></th>\n",
       "      <th></th>\n",
       "      <th></th>\n",
       "    </tr>\n",
       "  </thead>\n",
       "  <tbody>\n",
       "    <tr>\n",
       "      <th>1</th>\n",
       "      <td>1</td>\n",
       "      <td>0.04</td>\n",
       "      <td>113.13</td>\n",
       "      <td>40.3304</td>\n",
       "      <td>NaN</td>\n",
       "      <td>NaN</td>\n",
       "      <td>NaN</td>\n",
       "    </tr>\n",
       "    <tr>\n",
       "      <th>2</th>\n",
       "      <td>1</td>\n",
       "      <td>0.08</td>\n",
       "      <td>113.13</td>\n",
       "      <td>40.3304</td>\n",
       "      <td>NaN</td>\n",
       "      <td>NaN</td>\n",
       "      <td>NaN</td>\n",
       "    </tr>\n",
       "    <tr>\n",
       "      <th>3</th>\n",
       "      <td>1</td>\n",
       "      <td>0.12</td>\n",
       "      <td>113.13</td>\n",
       "      <td>40.3304</td>\n",
       "      <td>NaN</td>\n",
       "      <td>NaN</td>\n",
       "      <td>NaN</td>\n",
       "    </tr>\n",
       "    <tr>\n",
       "      <th>4</th>\n",
       "      <td>1</td>\n",
       "      <td>0.16</td>\n",
       "      <td>113.13</td>\n",
       "      <td>40.3304</td>\n",
       "      <td>NaN</td>\n",
       "      <td>NaN</td>\n",
       "      <td>NaN</td>\n",
       "    </tr>\n",
       "    <tr>\n",
       "      <th>5</th>\n",
       "      <td>1</td>\n",
       "      <td>0.20</td>\n",
       "      <td>113.13</td>\n",
       "      <td>40.3304</td>\n",
       "      <td>0.0</td>\n",
       "      <td>0.0</td>\n",
       "      <td>0.0</td>\n",
       "    </tr>\n",
       "  </tbody>\n",
       "</table>\n",
       "</div>"
      ],
      "text/plain": [
       "       Period  Time [s]  Home_11_x  Home_11_y  Home_11_vx  Home_11_vy  \\\n",
       "Frame                                                                   \n",
       "1           1      0.04     113.13    40.3304         NaN         NaN   \n",
       "2           1      0.08     113.13    40.3304         NaN         NaN   \n",
       "3           1      0.12     113.13    40.3304         NaN         NaN   \n",
       "4           1      0.16     113.13    40.3304         NaN         NaN   \n",
       "5           1      0.20     113.13    40.3304         0.0         0.0   \n",
       "\n",
       "       Home_11_speed  \n",
       "Frame                 \n",
       "1                NaN  \n",
       "2                NaN  \n",
       "3                NaN  \n",
       "4                NaN  \n",
       "5                0.0  "
      ]
     },
     "execution_count": 5,
     "metadata": {},
     "output_type": "execute_result"
    }
   ],
   "source": [
    "# intialize by function\n",
    "player_object = pc.get_player_from_data(td_object=td_object, pid=11)\n",
    "print(player_object)\n",
    "print(player_object.inframe)\n",
    "player_object.org_data.head()"
   ]
  },
  {
   "cell_type": "code",
   "execution_count": 6,
   "id": "72edf73c",
   "metadata": {},
   "outputs": [
    {
     "name": "stdout",
     "output_type": "stream",
     "text": [
      "Player 11 playing for the Home team. Data for frame 51. \n",
      "True\n"
     ]
    },
    {
     "data": {
      "text/plain": [
       "Period             1.000000\n",
       "Time [s]           2.040000\n",
       "Home_11_x        113.749200\n",
       "Home_11_y         39.188800\n",
       "Home_11_vx        -0.342857\n",
       "Home_11_vy         0.380000\n",
       "Home_11_speed      0.511812\n",
       "Name: 51, dtype: float64"
      ]
     },
     "execution_count": 6,
     "metadata": {},
     "output_type": "execute_result"
    }
   ],
   "source": [
    "player_object = pc.get_player_from_data(td_object=td_object, pid=11, frame=51)\n",
    "print(player_object)\n",
    "print(player_object.inframe)\n",
    "player_object.org_data"
   ]
  },
  {
   "cell_type": "code",
   "execution_count": 7,
   "id": "98209c1e",
   "metadata": {},
   "outputs": [
    {
     "name": "stdout",
     "output_type": "stream",
     "text": [
      "Player 1 playing for the Home team.\n",
      "True\n"
     ]
    },
    {
     "data": {
      "text/html": [
       "<div>\n",
       "<style scoped>\n",
       "    .dataframe tbody tr th:only-of-type {\n",
       "        vertical-align: middle;\n",
       "    }\n",
       "\n",
       "    .dataframe tbody tr th {\n",
       "        vertical-align: top;\n",
       "    }\n",
       "\n",
       "    .dataframe thead th {\n",
       "        text-align: right;\n",
       "    }\n",
       "</style>\n",
       "<table border=\"1\" class=\"dataframe\">\n",
       "  <thead>\n",
       "    <tr style=\"text-align: right;\">\n",
       "      <th></th>\n",
       "      <th>Period</th>\n",
       "      <th>Time [s]</th>\n",
       "      <th>Home_11_x</th>\n",
       "      <th>Home_11_y</th>\n",
       "      <th>Home_1_x</th>\n",
       "      <th>Home_1_y</th>\n",
       "      <th>Home_2_x</th>\n",
       "      <th>Home_2_y</th>\n",
       "      <th>Home_3_x</th>\n",
       "      <th>Home_3_y</th>\n",
       "      <th>...</th>\n",
       "      <th>Home_6_speed</th>\n",
       "      <th>Home_7_vx</th>\n",
       "      <th>Home_7_vy</th>\n",
       "      <th>Home_7_speed</th>\n",
       "      <th>Home_8_vx</th>\n",
       "      <th>Home_8_vy</th>\n",
       "      <th>Home_8_speed</th>\n",
       "      <th>Home_9_vx</th>\n",
       "      <th>Home_9_vy</th>\n",
       "      <th>Home_9_speed</th>\n",
       "    </tr>\n",
       "    <tr>\n",
       "      <th>Frame</th>\n",
       "      <th></th>\n",
       "      <th></th>\n",
       "      <th></th>\n",
       "      <th></th>\n",
       "      <th></th>\n",
       "      <th></th>\n",
       "      <th></th>\n",
       "      <th></th>\n",
       "      <th></th>\n",
       "      <th></th>\n",
       "      <th></th>\n",
       "      <th></th>\n",
       "      <th></th>\n",
       "      <th></th>\n",
       "      <th></th>\n",
       "      <th></th>\n",
       "      <th></th>\n",
       "      <th></th>\n",
       "      <th></th>\n",
       "      <th></th>\n",
       "      <th></th>\n",
       "    </tr>\n",
       "  </thead>\n",
       "  <tbody>\n",
       "    <tr>\n",
       "      <th>1</th>\n",
       "      <td>1</td>\n",
       "      <td>0.04</td>\n",
       "      <td>113.13</td>\n",
       "      <td>40.3304</td>\n",
       "      <td>77.7744</td>\n",
       "      <td>22.884</td>\n",
       "      <td>81.3024</td>\n",
       "      <td>34.2424</td>\n",
       "      <td>83.8584</td>\n",
       "      <td>44.4848</td>\n",
       "      <td>...</td>\n",
       "      <td>NaN</td>\n",
       "      <td>NaN</td>\n",
       "      <td>NaN</td>\n",
       "      <td>NaN</td>\n",
       "      <td>NaN</td>\n",
       "      <td>NaN</td>\n",
       "      <td>NaN</td>\n",
       "      <td>NaN</td>\n",
       "      <td>NaN</td>\n",
       "      <td>NaN</td>\n",
       "    </tr>\n",
       "    <tr>\n",
       "      <th>2</th>\n",
       "      <td>1</td>\n",
       "      <td>0.08</td>\n",
       "      <td>113.13</td>\n",
       "      <td>40.3304</td>\n",
       "      <td>77.7744</td>\n",
       "      <td>22.884</td>\n",
       "      <td>81.3024</td>\n",
       "      <td>34.2424</td>\n",
       "      <td>83.8584</td>\n",
       "      <td>44.4848</td>\n",
       "      <td>...</td>\n",
       "      <td>NaN</td>\n",
       "      <td>NaN</td>\n",
       "      <td>NaN</td>\n",
       "      <td>NaN</td>\n",
       "      <td>NaN</td>\n",
       "      <td>NaN</td>\n",
       "      <td>NaN</td>\n",
       "      <td>NaN</td>\n",
       "      <td>NaN</td>\n",
       "      <td>NaN</td>\n",
       "    </tr>\n",
       "    <tr>\n",
       "      <th>3</th>\n",
       "      <td>1</td>\n",
       "      <td>0.12</td>\n",
       "      <td>113.13</td>\n",
       "      <td>40.3304</td>\n",
       "      <td>77.7744</td>\n",
       "      <td>22.884</td>\n",
       "      <td>81.3024</td>\n",
       "      <td>34.2424</td>\n",
       "      <td>83.8584</td>\n",
       "      <td>44.4848</td>\n",
       "      <td>...</td>\n",
       "      <td>NaN</td>\n",
       "      <td>NaN</td>\n",
       "      <td>NaN</td>\n",
       "      <td>NaN</td>\n",
       "      <td>NaN</td>\n",
       "      <td>NaN</td>\n",
       "      <td>NaN</td>\n",
       "      <td>NaN</td>\n",
       "      <td>NaN</td>\n",
       "      <td>NaN</td>\n",
       "    </tr>\n",
       "    <tr>\n",
       "      <th>4</th>\n",
       "      <td>1</td>\n",
       "      <td>0.16</td>\n",
       "      <td>113.13</td>\n",
       "      <td>40.3304</td>\n",
       "      <td>77.7744</td>\n",
       "      <td>22.884</td>\n",
       "      <td>81.3024</td>\n",
       "      <td>34.2424</td>\n",
       "      <td>83.8584</td>\n",
       "      <td>44.4848</td>\n",
       "      <td>...</td>\n",
       "      <td>NaN</td>\n",
       "      <td>NaN</td>\n",
       "      <td>NaN</td>\n",
       "      <td>NaN</td>\n",
       "      <td>NaN</td>\n",
       "      <td>NaN</td>\n",
       "      <td>NaN</td>\n",
       "      <td>NaN</td>\n",
       "      <td>NaN</td>\n",
       "      <td>NaN</td>\n",
       "    </tr>\n",
       "    <tr>\n",
       "      <th>5</th>\n",
       "      <td>1</td>\n",
       "      <td>0.20</td>\n",
       "      <td>113.13</td>\n",
       "      <td>40.3304</td>\n",
       "      <td>77.7744</td>\n",
       "      <td>22.884</td>\n",
       "      <td>81.3024</td>\n",
       "      <td>34.2424</td>\n",
       "      <td>83.8584</td>\n",
       "      <td>44.4848</td>\n",
       "      <td>...</td>\n",
       "      <td>0.0</td>\n",
       "      <td>NaN</td>\n",
       "      <td>NaN</td>\n",
       "      <td>NaN</td>\n",
       "      <td>NaN</td>\n",
       "      <td>NaN</td>\n",
       "      <td>NaN</td>\n",
       "      <td>NaN</td>\n",
       "      <td>NaN</td>\n",
       "      <td>NaN</td>\n",
       "    </tr>\n",
       "  </tbody>\n",
       "</table>\n",
       "<p>5 rows × 134 columns</p>\n",
       "</div>"
      ],
      "text/plain": [
       "       Period  Time [s]  Home_11_x  Home_11_y  Home_1_x  Home_1_y  Home_2_x  \\\n",
       "Frame                                                                         \n",
       "1           1      0.04     113.13    40.3304   77.7744    22.884   81.3024   \n",
       "2           1      0.08     113.13    40.3304   77.7744    22.884   81.3024   \n",
       "3           1      0.12     113.13    40.3304   77.7744    22.884   81.3024   \n",
       "4           1      0.16     113.13    40.3304   77.7744    22.884   81.3024   \n",
       "5           1      0.20     113.13    40.3304   77.7744    22.884   81.3024   \n",
       "\n",
       "       Home_2_y  Home_3_x  Home_3_y  ...  Home_6_speed  Home_7_vx  Home_7_vy  \\\n",
       "Frame                                ...                                       \n",
       "1       34.2424   83.8584   44.4848  ...           NaN        NaN        NaN   \n",
       "2       34.2424   83.8584   44.4848  ...           NaN        NaN        NaN   \n",
       "3       34.2424   83.8584   44.4848  ...           NaN        NaN        NaN   \n",
       "4       34.2424   83.8584   44.4848  ...           NaN        NaN        NaN   \n",
       "5       34.2424   83.8584   44.4848  ...           0.0        NaN        NaN   \n",
       "\n",
       "       Home_7_speed  Home_8_vx  Home_8_vy  Home_8_speed  Home_9_vx  Home_9_vy  \\\n",
       "Frame                                                                           \n",
       "1               NaN        NaN        NaN           NaN        NaN        NaN   \n",
       "2               NaN        NaN        NaN           NaN        NaN        NaN   \n",
       "3               NaN        NaN        NaN           NaN        NaN        NaN   \n",
       "4               NaN        NaN        NaN           NaN        NaN        NaN   \n",
       "5               NaN        NaN        NaN           NaN        NaN        NaN   \n",
       "\n",
       "       Home_9_speed  \n",
       "Frame                \n",
       "1               NaN  \n",
       "2               NaN  \n",
       "3               NaN  \n",
       "4               NaN  \n",
       "5               NaN  \n",
       "\n",
       "[5 rows x 134 columns]"
      ]
     },
     "execution_count": 7,
     "metadata": {},
     "output_type": "execute_result"
    }
   ],
   "source": [
    "# intitalize manually\n",
    "# requires GK information and team\n",
    "# and frame cannot be filtered!\n",
    "# not recommended!\n",
    "\n",
    "player_object2 = pc.player(data=td_object.data, pid=1, GK=True, team='Home')\n",
    "print(player_object2)\n",
    "print(player_object2.inframe)\n",
    "player_object2.org_data.head()"
   ]
  },
  {
   "cell_type": "code",
   "execution_count": 8,
   "id": "231b0f8f",
   "metadata": {},
   "outputs": [
    {
     "data": {
      "text/plain": [
       "(22,\n",
       " [<PitchControl.pitch_control.player at 0x21b85dfb430>,\n",
       "  <PitchControl.pitch_control.player at 0x21b85df8220>,\n",
       "  <PitchControl.pitch_control.player at 0x21b85dfb190>,\n",
       "  <PitchControl.pitch_control.player at 0x21b85dfaef0>,\n",
       "  <PitchControl.pitch_control.player at 0x21b85df89a0>,\n",
       "  <PitchControl.pitch_control.player at 0x21b85df8cd0>,\n",
       "  <PitchControl.pitch_control.player at 0x21bf1435c00>,\n",
       "  <PitchControl.pitch_control.player at 0x21bf1435ea0>,\n",
       "  <PitchControl.pitch_control.player at 0x21bf1435d20>,\n",
       "  <PitchControl.pitch_control.player at 0x21bf1435fc0>,\n",
       "  <PitchControl.pitch_control.player at 0x21bf1436260>,\n",
       "  <PitchControl.pitch_control.player at 0x21bf1436500>,\n",
       "  <PitchControl.pitch_control.player at 0x21bf1436380>,\n",
       "  <PitchControl.pitch_control.player at 0x21bf1436620>,\n",
       "  <PitchControl.pitch_control.player at 0x21bf14368c0>,\n",
       "  <PitchControl.pitch_control.player at 0x21bf14369e0>,\n",
       "  <PitchControl.pitch_control.player at 0x21bf1436770>,\n",
       "  <PitchControl.pitch_control.player at 0x21bf1436c80>,\n",
       "  <PitchControl.pitch_control.player at 0x21bf1436f20>,\n",
       "  <PitchControl.pitch_control.player at 0x21bf1436da0>,\n",
       "  <PitchControl.pitch_control.player at 0x21bf1437040>,\n",
       "  <PitchControl.pitch_control.player at 0x21b85df9d50>])"
      ]
     },
     "execution_count": 8,
     "metadata": {},
     "output_type": "execute_result"
    }
   ],
   "source": [
    "players = pc.get_all_players(td_object=td_object, frame=51)\n",
    "len(players), players"
   ]
  },
  {
   "cell_type": "code",
   "execution_count": 9,
   "id": "6f4d153f",
   "metadata": {},
   "outputs": [
    {
     "data": {
      "text/plain": [
       "(11,\n",
       " [<PitchControl.pitch_control.player at 0x21bf1437070>,\n",
       "  <PitchControl.pitch_control.player at 0x21bf1437400>,\n",
       "  <PitchControl.pitch_control.player at 0x21bf14379d0>,\n",
       "  <PitchControl.pitch_control.player at 0x21bf1437b20>,\n",
       "  <PitchControl.pitch_control.player at 0x21bf1437a30>,\n",
       "  <PitchControl.pitch_control.player at 0x21bf1437d90>,\n",
       "  <PitchControl.pitch_control.player at 0x21bf1437c10>,\n",
       "  <PitchControl.pitch_control.player at 0x21bf1437eb0>,\n",
       "  <PitchControl.pitch_control.player at 0x21bf1435570>,\n",
       "  <PitchControl.pitch_control.player at 0x21bf14352d0>,\n",
       "  <PitchControl.pitch_control.player at 0x21bf1435450>])"
      ]
     },
     "execution_count": 9,
     "metadata": {},
     "output_type": "execute_result"
    }
   ],
   "source": [
    "players = pc.get_all_players(td_object=td_object, frame=51, teams=['Home'])\n",
    "len(players), players"
   ]
  },
  {
   "cell_type": "code",
   "execution_count": 10,
   "id": "da5f8e13",
   "metadata": {},
   "outputs": [
    {
     "data": {
      "text/plain": [
       "0.9830645433051063"
      ]
     },
     "execution_count": 10,
     "metadata": {},
     "output_type": "execute_result"
    }
   ],
   "source": [
    "players[0].simple_time_to_intercept(r_final=np.array([90, 10]))\n",
    "players[0].probability_intercept_ball(T=5)"
   ]
  },
  {
   "cell_type": "code",
   "execution_count": 11,
   "id": "3f7e25c4",
   "metadata": {},
   "outputs": [
    {
     "data": {
      "text/plain": [
       "array([[0.        , 0.        , 0.        , ..., 0.99175741, 1.        ,\n",
       "        1.        ],\n",
       "       [0.        , 0.        , 0.        , ..., 1.        , 1.        ,\n",
       "        1.        ],\n",
       "       [0.        , 0.        , 0.        , ..., 1.        , 1.        ,\n",
       "        1.        ],\n",
       "       ...,\n",
       "       [0.        , 0.        , 0.        , ..., 1.        , 1.        ,\n",
       "        1.        ],\n",
       "       [0.        , 0.        , 0.        , ..., 1.        , 1.        ,\n",
       "        1.        ],\n",
       "       [0.        , 0.        , 0.        , ..., 0.99284382, 1.        ,\n",
       "        1.        ]])"
      ]
     },
     "execution_count": 11,
     "metadata": {},
     "output_type": "execute_result"
    }
   ],
   "source": [
    "PPCFa,xgrid,ygrid = pc.pitch_control_at_frame(frame=51, td_object=td_object)\n",
    "PPCFa"
   ]
  },
  {
   "cell_type": "code",
   "execution_count": 12,
   "id": "484eecd5",
   "metadata": {},
   "outputs": [
    {
     "data": {
      "text/plain": [
       "(<Figure size 640x480 with 1 Axes>, <Axes: >)"
      ]
     },
     "execution_count": 12,
     "metadata": {},
     "output_type": "execute_result"
    },
    {
     "data": {
      "image/png": "[encoded data removed]",
      "text/plain": [
       "<Figure size 640x480 with 1 Axes>"
      ]
     },
     "metadata": {},
     "output_type": "display_data"
    }
   ],
   "source": [
    "pc.plot_pitch_control(td_object=td_object, frame=890, velocities=True)"
   ]
  },
  {
   "cell_type": "code",
   "execution_count": null,
   "id": "a4c1c026",
   "metadata": {},
   "outputs": [],
   "source": [
    "pc.plot_pitch_control(td_object=td_object, frame=890, velocities=True, n_grid_cells_x=100)"
   ]
  },
  {
   "cell_type": "code",
   "execution_count": 14,
   "id": "8e63b5b7",
   "metadata": {},
   "outputs": [
    {
     "data": {
      "text/plain": [
       "{'max_player_accel': 7,\n",
       " 'max_player_speed': 5,\n",
       " 'reaction_time': 0.7,\n",
       " 'tti_sigma': 0.45,\n",
       " 'kappa_def': 3,\n",
       " 'lambda_att': 4.3,\n",
       " 'lambda_def': 12.899999999999999,\n",
       " 'lambda_gk': 38.699999999999996,\n",
       " 'average_ball_speed': 15,\n",
       " 'int_dt': 0.04,\n",
       " 'max_int_time': 10,\n",
       " 'model_converge_tol': 0.01,\n",
       " 'time_to_control_att': 3.3202550055547313,\n",
       " 'time_to_control_def': 2.249285194859826}"
      ]
     },
     "execution_count": 14,
     "metadata": {},
     "output_type": "execute_result"
    }
   ],
   "source": [
    "params = pc.default_model_params(kappa_def=3)\n",
    "params"
   ]
  },
  {
   "cell_type": "code",
   "execution_count": 15,
   "id": "1154de1a",
   "metadata": {},
   "outputs": [
    {
     "data": {
      "text/plain": [
       "(<Figure size 640x480 with 1 Axes>, <Axes: >)"
      ]
     },
     "execution_count": 15,
     "metadata": {},
     "output_type": "execute_result"
    },
    {
     "data": {
      "image/png": "[encoded data removed]",
      "text/plain": [
       "<Figure size 640x480 with 1 Axes>"
      ]
     },
     "metadata": {},
     "output_type": "display_data"
    }
   ],
   "source": [
    "pc.plot_pitch_control(td_object=td_object, frame=890, velocities=True, params=params)"
   ]
  },
  {
   "cell_type": "code",
   "execution_count": null,
   "id": "87908cef",
   "metadata": {},
   "outputs": [],
   "source": []
  }
 ],
 "metadata": {
  "kernelspec": {
   "display_name": "Football_Analytics_venv",
   "language": "python",
   "name": "football_analytics_venv"
  },
  "language_info": {
   "codemirror_mode": {
    "name": "ipython",
    "version": 3
   },
   "file_extension": ".py",
   "mimetype": "text/x-python",
   "name": "python",
   "nbconvert_exporter": "python",
   "pygments_lexer": "ipython3",
   "version": "3.10.11"
  }
 },
 "nbformat": 4,
 "nbformat_minor": 5
}
