{
 "cells": [
  {
   "cell_type": "code",
   "execution_count": 3,
   "id": "2d67eeae",
   "metadata": {},
   "outputs": [],
   "source": [
    "import matplotlib.pyplot as plt\n",
    "from matplotlib.patches import Polygon\n",
    "from matplotlib import patches\n",
    "import numpy as np\n",
    "import radar_utils"
   ]
  },
  {
   "cell_type": "markdown",
   "id": "a4fc3042",
   "metadata": {},
   "source": [
    "# Overall"
   ]
  },
  {
   "cell_type": "code",
   "execution_count": null,
   "id": "2ff97860",
   "metadata": {},
   "outputs": [],
   "source": [
    "compare = False\n",
    "background_col='#1f142a'\n",
    "wedge_colors = ['#1f142a', 'green']\n",
    "radar_color=['#FFFFFF', '#675E71']\n",
    "patch_color = '#675E71'\n",
    "fig, ax = plt.subplots(figsize=(20, 10), facecolor=background_col)\n",
    "ax.set_facecolor(background_col)\n",
    "## set axis\n",
    "ax.set_aspect('equal')\n",
    "ax.set(xlim=(-15, 15), ylim=(-15, 15))\n",
    "\n",
    "vertices = [[0, -10],\n",
    "           [0, 5],\n",
    "           [7.5, 0],\n",
    "           [-2, 0],\n",
    "           [2.5, 6]]\n",
    "\n",
    "## add labels around the last circles\n",
    "# ax = self.__add_labels(params=params, ax=ax)\n",
    "\n",
    "## add ranges\n",
    "# ax, xy, range_values = self.__add_ranges(ranges=ranges, ax=ax,)\n",
    "\n",
    "## get vertices\n",
    "# vertices = self.__get_vertices(values, xy, range_values)\n",
    "\n",
    "## make the radar chart\n",
    "ax = __plot_wedges(ax=ax, compare=compare, radar_color=radar_color, wedge_color=wedge_colors)\n",
    "ax.scatter(0,10)"
   ]
  },
  {
   "cell_type": "markdown",
   "id": "356bcaa2",
   "metadata": {},
   "source": [
    "## Wedges"
   ]
  },
  {
   "cell_type": "code",
   "execution_count": null,
   "id": "7e1a9fa8",
   "metadata": {},
   "outputs": [],
   "source": [
    "def __plot_wedges(ax, radar_color, wedge_color, alpha=None, compare=False):\n",
    "        \"\"\"\n",
    "        Function to plot concentric circles.\n",
    "\n",
    "        Args:\n",
    "            ax (axes.Axes): axis object.\n",
    "            radar_color (list): color values.\n",
    "            vertices (list): coordinate values for each vertex of the polygon.\n",
    "            alpha (list, optional): alpha values for colors. Defaults to None.\n",
    "            compare (bool, optional): True, if a comparison chart is to be made. Defaults to False.\n",
    "\n",
    "        Returns:\n",
    "            axes.Axes: axis object.\n",
    "        \"\"\"        \n",
    "\n",
    "        ## radius value for each circle\n",
    "        radius = [1, 3, 5, 7, 9]\n",
    "\n",
    "        ## linewidth, zorder for circle\n",
    "        lw_circle, zorder_circle =  20, 2\n",
    "        \n",
    "        if compare:    ## for making comparison radar charts\n",
    "                ## plot a polygon\n",
    "                radar_1 = Polygon(vertices, fc=radar_color, zorder=zorder_circle, alpha=alpha)\n",
    "                ax.add_patch(radar_1)\n",
    "        else:\n",
    "                ## plot a polygon\n",
    "                radar_1 =  Polygon(vertices, fc='pink', zorder=zorder_circle) # -1 \n",
    "                ax.add_patch(radar_1)\n",
    "                \n",
    "        ## create concentric circles \n",
    "        for rad in radius:\n",
    "            ## create circle\n",
    "            wedge1 = patches.Wedge((0, 0), r=rad, theta1=0, theta2=360, width=1, color=wedge_color[0], zorder=zorder_circle)\n",
    "            ax.add_patch(wedge1)\n",
    "            # for radar area\n",
    "            wedge1_radar = patches.Wedge((0, 0), r=rad, theta1=0, theta2=360, width=1, color=radar_color[0], zorder=zorder_circle+1)\n",
    "            wedge1_radar.set_clip_path(radar_1)\n",
    "            ax.add_patch(wedge1_radar)\n",
    "\n",
    "\n",
    "            if compare == False:\n",
    "                ## create another circle to fill in second color\n",
    "                wedge2 = patches.Wedge(center=(0, 0), r=rad+1, theta1 = 0, theta2= 360, width = 1, color=wedge_color[1], zorder=zorder_circle)\n",
    "                ax.add_patch(wedge2)\n",
    "                \n",
    "                wedge2_radar = patches.Wedge(center=(0, 0), r=rad+1, theta1 = 0, theta2= 360, width = 1, color=radar_color[1], zorder=zorder_circle+1)\n",
    "                wedge2_radar.set_clip_path(radar_1)\n",
    "                ax.add_patch(wedge2_radar)\n",
    "\n",
    "        \n",
    "        return ax"
   ]
  },
  {
   "cell_type": "markdown",
   "id": "1c072ca9",
   "metadata": {},
   "source": [
    "# Labels"
   ]
  },
  {
   "cell_type": "code",
   "execution_count": 7,
   "id": "e2ee7a30",
   "metadata": {},
   "outputs": [],
   "source": [
    "# def __add_labels(self, params, ax, return_list=False, radius=19, range_val=False):\n",
    "\n",
    "return_list=False\n",
    "radius = 12\n",
    "\n",
    "params = ['par1', 'par2', 'par3', 'par4', 'par5']\n",
    "## get coordinates and rotation values\n",
    "coord = radar_utils.get_label_coordinates(n=len(params))\n",
    "\n",
    "if return_list:\n",
    "     x_y = []\n",
    "\n",
    "for par in range(len(params)):\n",
    "    rot = coord[par, 2] # = alpha = rotation value for parameter\n",
    "    x, y = (radius *np.cos(rot), radius*np.sin(rot))\n",
    "    \n",
    "\n",
    "    if return_list == True:\n",
    "        ## add x_y cordinates \n",
    "        tup_temp = (x, y)\n",
    "        x_y.append(tup_temp)\n",
    "        \n",
    "    # why?\n",
    "    if y < 0:\n",
    "        rot += np.pi\n",
    "\n",
    "    if type(params[i]) == np.float64:\n",
    "        p = round(params[i], 2)\n",
    "    else:\n",
    "        p = params[i]\n",
    "        "
   ]
  },
  {
   "cell_type": "markdown",
   "id": "ddb971c9",
   "metadata": {},
   "source": [
    "# Vertices for Radar Areas"
   ]
  },
  {
   "cell_type": "markdown",
   "id": "4cb9769d",
   "metadata": {},
   "source": [
    "# Ranges"
   ]
  },
  {
   "cell_type": "code",
   "execution_count": null,
   "id": "3962a139",
   "metadata": {},
   "outputs": [],
   "source": [
    "radius = [2.5, 4.1, 5.8, 7.5, 9.2, 10.9, 12.6, 14.3, 15.9, 17.6]\n",
    "radius = [3.35, 6.7, 10.05, 13.4, 16.75]"
   ]
  },
  {
   "cell_type": "code",
   "execution_count": null,
   "id": "8713909d",
   "metadata": {},
   "outputs": [],
   "source": [
    "# def __add_ranges(self, ranges, ax):\n",
    "\n",
    "# min and max --> range of n values:\n",
    "\n",
    "ranges = [(0.0, 0.55), (1.1, 7.2), (60.1, 91.7), (0.0, 1), (2.2, 7.1), (0.7, 6.4), (0.2, 4.6), (11.1, 73.2)]\n",
    "\n",
    "radius = [0, 1, 2, 3, 4, 5, 6, 7, 8, 9, 10]\n",
    "\n",
    "x_y = []\n",
    "range_values = np.array([])\n",
    "\n",
    "for rng in ranges:\n",
    "    value = np.linspace(start=rng[0], stop=rng[1], num=10)\n",
    "    range_values = np.append(range_values, value)\n",
    "\n",
    "range_values = range_values.reshape((len(ranges),10))\n",
    "\n",
    "print(range_values)"
   ]
  },
  {
   "cell_type": "markdown",
   "id": "bc6f1ed0",
   "metadata": {},
   "source": [
    "# Endnote"
   ]
  },
  {
   "cell_type": "markdown",
   "id": "a778bf4e",
   "metadata": {},
   "source": [
    "# Titles"
   ]
  },
  {
   "cell_type": "code",
   "execution_count": null,
   "id": "9f055ee4",
   "metadata": {},
   "outputs": [],
   "source": [
    "fig, ax = plt.subplots()\n",
    "patch = patches.Circle((0.5, 0.5), radius=0.25)\n",
    "ax.add_patch(patch)\n",
    "patch2= patches.Rectangle((0.5, 0.5), height=0.5, width=0.5, color='red', alpha=0.5)\n",
    "ax.add_patch(patch2)\n",
    "patch.set_clip_path(patch2)\n"
   ]
  },
  {
   "cell_type": "code",
   "execution_count": null,
   "id": "75bb593c",
   "metadata": {},
   "outputs": [],
   "source": [
    "fig, ax = plt.subplots(figsize=(20, 10), facecolor='white')\n",
    "ax.add_patch(patches.Rectangle((0.5, 0.5), height=0.5, width=0.5, color='red', alpha=1, fill=False, linewidth=10))"
   ]
  },
  {
   "cell_type": "code",
   "execution_count": null,
   "id": "d3d1c708",
   "metadata": {},
   "outputs": [],
   "source": [
    "fig, ax = plt.subplots(figsize=(10, 10), facecolor='white')\n",
    "ax.set(xlim=(0., 1.0), ylim=(0., 1.))\n",
    "ax.add_patch(patches.Wedge((0.5, 0.5), 0.2, 0, 360, width=0.1, fc='red'))\n",
    "ax.add_patch(patches.Wedge((0.5, 0.5), 0.4, 0, 360, width=0.1))"
   ]
  },
  {
   "cell_type": "code",
   "execution_count": null,
   "id": "19acf7fa",
   "metadata": {},
   "outputs": [],
   "source": []
  }
 ],
 "metadata": {
  "kernelspec": {
   "display_name": "Football_Analytics_venv",
   "language": "python",
   "name": "football_analytics_venv"
  },
  "language_info": {
   "codemirror_mode": {
    "name": "ipython",
    "version": 3
   },
   "file_extension": ".py",
   "mimetype": "text/x-python",
   "name": "python",
   "nbconvert_exporter": "python",
   "pygments_lexer": "ipython3",
   "version": "3.10.11"
  }
 },
 "nbformat": 4,
 "nbformat_minor": 5
}
