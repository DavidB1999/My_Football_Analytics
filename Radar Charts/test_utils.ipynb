{
 "cells": [
  {
   "cell_type": "code",
   "execution_count": 10,
   "id": "5179c841",
   "metadata": {},
   "outputs": [],
   "source": [
    "import numpy as np\n",
    "from radar_utils import get_label_coordinates"
   ]
  },
  {
   "cell_type": "code",
   "execution_count": 11,
   "id": "ef712647",
   "metadata": {},
   "outputs": [
    {
     "data": {
      "text/plain": [
       "array([[ 1.        ,  0.        ,  0.        ],\n",
       "       [ 0.30901699,  0.95105652,  1.25663706],\n",
       "       [-0.80901699,  0.58778525,  2.51327412],\n",
       "       [-0.80901699, -0.58778525,  3.76991118],\n",
       "       [ 0.30901699, -0.95105652,  5.02654825]])"
      ]
     },
     "execution_count": 11,
     "metadata": {},
     "output_type": "execute_result"
    }
   ],
   "source": [
    "get_label_coordinates(5)"
   ]
  }
 ],
 "metadata": {
  "kernelspec": {
   "display_name": "Football_Analytics_venv",
   "language": "python",
   "name": "football_analytics_venv"
  },
  "language_info": {
   "codemirror_mode": {
    "name": "ipython",
    "version": 3
   },
   "file_extension": ".py",
   "mimetype": "text/x-python",
   "name": "python",
   "nbconvert_exporter": "python",
   "pygments_lexer": "ipython3",
   "version": "3.10.11"
  }
 },
 "nbformat": 4,
 "nbformat_minor": 5
}
