{
 "cells": [
  {
   "cell_type": "code",
   "execution_count": 1,
   "id": "5179c841",
   "metadata": {},
   "outputs": [],
   "source": [
    "import numpy as np\n",
    "from radar_utils import get_label_coordinates"
   ]
  },
  {
   "cell_type": "code",
   "execution_count": 18,
   "id": "ef712647",
   "metadata": {},
   "outputs": [
    {
     "data": {
      "text/plain": [
       "array([[ 1.00000000e+00,  0.00000000e+00,  0.00000000e+00],\n",
       "       [ 7.07106781e-01,  7.07106781e-01,  7.85398163e-01],\n",
       "       [ 6.12323400e-17,  1.00000000e+00,  1.57079633e+00],\n",
       "       [-7.07106781e-01,  7.07106781e-01,  2.35619449e+00],\n",
       "       [-1.00000000e+00,  1.22464680e-16,  3.14159265e+00],\n",
       "       [-7.07106781e-01, -7.07106781e-01,  3.92699082e+00],\n",
       "       [-1.83697020e-16, -1.00000000e+00,  4.71238898e+00],\n",
       "       [ 7.07106781e-01, -7.07106781e-01,  5.49778714e+00]])"
      ]
     },
     "execution_count": 18,
     "metadata": {},
     "output_type": "execute_result"
    }
   ],
   "source": [
    "get_label_coordinates(8)"
   ]
  },
  {
   "cell_type": "code",
   "execution_count": null,
   "id": "358eff87",
   "metadata": {},
   "outputs": [],
   "source": []
  }
 ],
 "metadata": {
  "kernelspec": {
   "display_name": "Football_Analytics_venv",
   "language": "python",
   "name": "football_analytics_venv"
  },
  "language_info": {
   "codemirror_mode": {
    "name": "ipython",
    "version": 3
   },
   "file_extension": ".py",
   "mimetype": "text/x-python",
   "name": "python",
   "nbconvert_exporter": "python",
   "pygments_lexer": "ipython3",
   "version": "3.10.11"
  }
 },
 "nbformat": 4,
 "nbformat_minor": 5
}
