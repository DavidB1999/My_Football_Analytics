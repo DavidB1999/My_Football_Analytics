{
 "cells": [
  {
   "cell_type": "code",
   "execution_count": 1,
   "id": "0a76ae1a",
   "metadata": {},
   "outputs": [],
   "source": [
    "import sys\n",
    "sys.path.append('C:\\\\Users\\\\DavidB\\\\PycharmProjects\\\\My_Football_Analytics\\\\Basics')\n",
    "sys.path.append('C://Users//DavidB//PycharmProjects//My_Football_Analytics//Position_data')\n",
    "\n",
    "import Data.Metrica_IO as mio\n",
    "from Tracking_Data import tracking_data\n",
    "import PitchControl.pitch_control as pc\n"
   ]
  },
  {
   "cell_type": "code",
   "execution_count": 2,
   "id": "68109dd4",
   "metadata": {},
   "outputs": [
    {
     "name": "stdout",
     "output_type": "stream",
     "text": [
      "Reading team: away\n",
      "Reading team: home\n"
     ]
    }
   ],
   "source": [
    "data_dir = 'Position_data/PitchControl/sample-data-master/data/'\n",
    "game_id = 2\n",
    "away = mio.tracking_data(DATADIR=data_dir, game_id=game_id, teamname='Away')\n",
    "home = mio.tracking_data(DATADIR=data_dir, game_id=game_id, teamname='Home')\n",
    "td = mio.merge_tracking_data(home, away)\n",
    "td_object = tracking_data(td, data_source='metrica', scale_to_pitch='mplsoccer')\n"
   ]
  },
  {
   "cell_type": "code",
   "execution_count": 3,
   "id": "6e38f5f1",
   "metadata": {},
   "outputs": [
    {
     "name": "stdout",
     "output_type": "stream",
     "text": [
      "1 Home\n",
      "10 Home\n",
      "11 Home\n",
      "12 Home\n",
      "13 Home\n",
      "14 Home\n",
      "2 Home\n",
      "3 Home\n",
      "4 Home\n",
      "5 Home\n",
      "6 Home\n",
      "7 Home\n",
      "8 Home\n",
      "9 Home\n",
      "15 Away\n",
      "16 Away\n",
      "17 Away\n",
      "18 Away\n",
      "19 Away\n",
      "20 Away\n",
      "21 Away\n",
      "22 Away\n",
      "23 Away\n",
      "24 Away\n",
      "25 Away\n",
      "26 Away\n",
      "[<PitchControl.pitch_control.player object at 0x000001879A7CE4D0>, <PitchControl.pitch_control.player object at 0x000001879A7CFE20>, <PitchControl.pitch_control.player object at 0x000001879A7CDD80>, <PitchControl.pitch_control.player object at 0x000001879A7CFB50>, <PitchControl.pitch_control.player object at 0x000001879A856B60>, <PitchControl.pitch_control.player object at 0x000001879A7CEDD0>, <PitchControl.pitch_control.player object at 0x000001879A8569E0>, <PitchControl.pitch_control.player object at 0x000001879A8559F0>, <PitchControl.pitch_control.player object at 0x000001879A856590>, <PitchControl.pitch_control.player object at 0x000001879A855B10>, <PitchControl.pitch_control.player object at 0x000001879A854EB0>, <PitchControl.pitch_control.player object at 0x000001879A856D40>, <PitchControl.pitch_control.player object at 0x000001879A857460>, <PitchControl.pitch_control.player object at 0x000001879A8576D0>, <PitchControl.pitch_control.player object at 0x000001879A857BE0>, <PitchControl.pitch_control.player object at 0x000001879A878640>, <PitchControl.pitch_control.player object at 0x000001879A878310>, <PitchControl.pitch_control.player object at 0x000001879A8783A0>]\n"
     ]
    }
   ],
   "source": [
    "pc.get_all_players(td_object)"
   ]
  },
  {
   "cell_type": "code",
   "execution_count": 4,
   "id": "bf603aac",
   "metadata": {},
   "outputs": [
    {
     "data": {
      "text/plain": [
       "Index(['Period', 'Time [s]', 'Home_11_x', 'Home_11_y', 'Home_1_x', 'Home_1_y',\n",
       "       'Home_2_x', 'Home_2_y', 'Home_3_x', 'Home_3_y',\n",
       "       ...\n",
       "       'Home_6_speed', 'Home_7_vx', 'Home_7_vy', 'Home_7_speed', 'Home_8_vx',\n",
       "       'Home_8_vy', 'Home_8_speed', 'Home_9_vx', 'Home_9_vy', 'Home_9_speed'],\n",
       "      dtype='object', length=134)"
      ]
     },
     "execution_count": 4,
     "metadata": {},
     "output_type": "execute_result"
    }
   ],
   "source": [
    "td_object.data.columns"
   ]
  },
  {
   "cell_type": "code",
   "execution_count": null,
   "id": "903de846",
   "metadata": {},
   "outputs": [],
   "source": []
  }
 ],
 "metadata": {
  "kernelspec": {
   "display_name": "Football_Analytics_venv",
   "language": "python",
   "name": "football_analytics_venv"
  },
  "language_info": {
   "codemirror_mode": {
    "name": "ipython",
    "version": 3
   },
   "file_extension": ".py",
   "mimetype": "text/x-python",
   "name": "python",
   "nbconvert_exporter": "python",
   "pygments_lexer": "ipython3",
   "version": "3.10.11"
  }
 },
 "nbformat": 4,
 "nbformat_minor": 5
}
