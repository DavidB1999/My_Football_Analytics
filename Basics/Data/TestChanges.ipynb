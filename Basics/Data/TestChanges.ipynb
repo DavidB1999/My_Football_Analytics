{
 "cells": [
  {
   "cell_type": "code",
   "execution_count": 1,
   "id": "8e809c2d",
   "metadata": {},
   "outputs": [],
   "source": [
    "from FBref_Data import Scrape_Player_via_Link"
   ]
  },
  {
   "cell_type": "code",
   "execution_count": 2,
   "id": "7ff69e10",
   "metadata": {},
   "outputs": [
    {
     "name": "stdout",
     "output_type": "stream",
     "text": [
      "Select a position group out of ['vs. Forwards', 'vs. Att Mid / Wingers'] as [0, 1] for Lionel Messi:0\n"
     ]
    },
    {
     "data": {
      "text/plain": [
       "(              Variables  Values  Percentiles\n",
       " 0                 Goals    0.43           53\n",
       " 1               Assists    0.29           95\n",
       " 2       Goals + Assists    0.71           75\n",
       " 3     Non-Penalty Goals    0.43           63\n",
       " 4    Penalty Kicks Made    0.00           22\n",
       " ..                  ...     ...          ...\n",
       " 112           Own Goals    0.00           50\n",
       " 113     Ball Recoveries    2.52           56\n",
       " 114         Aerials Won    0.05            1\n",
       " 115        Aerials Lost    0.10           99\n",
       " 116    % of Aerials Won   33.30           16\n",
       " \n",
       " [117 rows x 3 columns],\n",
       " 'Lionel Messi',\n",
       " 'vs. Forwards')"
      ]
     },
     "execution_count": 2,
     "metadata": {},
     "output_type": "execute_result"
    }
   ],
   "source": [
    "url = 'https://fbref.com/en/players/d70ce98e/Lionel-Messi'\n",
    "\n",
    "Scrape_Player_via_Link(url)"
   ]
  },
  {
   "cell_type": "code",
   "execution_count": null,
   "id": "69748c1b",
   "metadata": {},
   "outputs": [],
   "source": []
  }
 ],
 "metadata": {
  "kernelspec": {
   "display_name": "Football_Analytics_venv",
   "language": "python",
   "name": "football_analytics_venv"
  },
  "language_info": {
   "codemirror_mode": {
    "name": "ipython",
    "version": 3
   },
   "file_extension": ".py",
   "mimetype": "text/x-python",
   "name": "python",
   "nbconvert_exporter": "python",
   "pygments_lexer": "ipython3",
   "version": "3.10.11"
  }
 },
 "nbformat": 4,
 "nbformat_minor": 5
}
