{
 "cells": [
  {
   "cell_type": "code",
   "execution_count": 1,
   "id": "5763b516",
   "metadata": {},
   "outputs": [],
   "source": [
    "from EPV_Basics import get_EPV_grid\n",
    "from epv_utils import is_between\n",
    "import numpy as np"
   ]
  },
  {
   "cell_type": "code",
   "execution_count": 2,
   "id": "08b555a4",
   "metadata": {},
   "outputs": [
    {
     "name": "stdout",
     "output_type": "stream",
     "text": [
      "EPV grid of (32, 50) dimensions\n"
     ]
    },
    {
     "data": {
      "text/plain": [
       "array([[0.0046, 0.0046, 0.0045, ..., 0.0388, 0.0424, 0.0443],\n",
       "       [0.0044, 0.0044, 0.0045, ..., 0.0388, 0.0421, 0.0437],\n",
       "       [0.0041, 0.0042, 0.0044, ..., 0.0388, 0.0413, 0.0425],\n",
       "       ...,\n",
       "       [0.0041, 0.0042, 0.0044, ..., 0.0388, 0.0413, 0.0425],\n",
       "       [0.0044, 0.0044, 0.0045, ..., 0.0388, 0.0421, 0.0437],\n",
       "       [0.0046, 0.0046, 0.0045, ..., 0.0388, 0.0424, 0.0443]])"
      ]
     },
     "execution_count": 2,
     "metadata": {},
     "output_type": "execute_result"
    }
   ],
   "source": [
    "epv = get_EPV_grid(fname='FoTD_grid.csv')\n",
    "print(epv)\n",
    "epv.grid"
   ]
  },
  {
   "cell_type": "code",
   "execution_count": 3,
   "id": "23ebcd91",
   "metadata": {},
   "outputs": [
    {
     "name": "stdout",
     "output_type": "stream",
     "text": [
      "EPV grid of (12, 16) dimensions\n"
     ]
    },
    {
     "data": {
      "text/plain": [
       "array([[0.003, 0.004, 0.003, 0.004, 0.004, 0.005, 0.007, 0.008, 0.01 ,\n",
       "        0.013, 0.018, 0.025, 0.037, 0.048, 0.06 , 0.066],\n",
       "       [0.003, 0.005, 0.004, 0.004, 0.004, 0.005, 0.007, 0.008, 0.011,\n",
       "        0.015, 0.02 , 0.029, 0.042, 0.056, 0.075, 0.092],\n",
       "       [0.003, 0.003, 0.003, 0.004, 0.004, 0.006, 0.007, 0.009, 0.012,\n",
       "        0.016, 0.022, 0.034, 0.046, 0.067, 0.094, 0.103],\n",
       "       [0.004, 0.004, 0.004, 0.004, 0.004, 0.006, 0.007, 0.009, 0.012,\n",
       "        0.016, 0.023, 0.034, 0.044, 0.068, 0.089, 0.123],\n",
       "       [0.005, 0.005, 0.006, 0.004, 0.004, 0.006, 0.007, 0.01 , 0.013,\n",
       "        0.017, 0.025, 0.033, 0.048, 0.068, 0.126, 0.158],\n",
       "       [0.004, 0.005, 0.007, 0.004, 0.004, 0.006, 0.008, 0.009, 0.013,\n",
       "        0.017, 0.025, 0.033, 0.052, 0.089, 0.171, 0.413],\n",
       "       [0.004, 0.005, 0.007, 0.005, 0.005, 0.005, 0.008, 0.01 , 0.012,\n",
       "        0.019, 0.025, 0.035, 0.042, 0.116, 0.176, 0.371],\n",
       "       [0.005, 0.006, 0.007, 0.005, 0.005, 0.006, 0.008, 0.009, 0.014,\n",
       "        0.018, 0.024, 0.037, 0.046, 0.077, 0.124, 0.158],\n",
       "       [0.004, 0.005, 0.005, 0.004, 0.004, 0.006, 0.008, 0.009, 0.013,\n",
       "        0.017, 0.024, 0.036, 0.047, 0.065, 0.096, 0.126],\n",
       "       [0.003, 0.004, 0.004, 0.004, 0.005, 0.006, 0.008, 0.01 , 0.013,\n",
       "        0.016, 0.024, 0.036, 0.049, 0.068, 0.096, 0.136],\n",
       "       [0.003, 0.003, 0.004, 0.004, 0.005, 0.006, 0.008, 0.01 , 0.012,\n",
       "        0.015, 0.022, 0.031, 0.044, 0.06 , 0.077, 0.094],\n",
       "       [0.002, 0.003, 0.004, 0.004, 0.005, 0.006, 0.007, 0.008, 0.011,\n",
       "        0.014, 0.019, 0.026, 0.039, 0.051, 0.063, 0.068]])"
      ]
     },
     "execution_count": 3,
     "metadata": {},
     "output_type": "execute_result"
    }
   ],
   "source": [
    "epv = get_EPV_grid(fname='xT_grid.csv')\n",
    "print(epv)\n",
    "epv.grid"
   ]
  },
  {
   "cell_type": "code",
   "execution_count": 8,
   "id": "1e052a49",
   "metadata": {},
   "outputs": [
    {
     "data": {
      "text/plain": [
       "((2.4000000000000004, 1.6), 0.003)"
      ]
     },
     "execution_count": 8,
     "metadata": {},
     "output_type": "execute_result"
    }
   ],
   "source": [
    "epv.get_EPV_at_location(location=(10, 12), x_range=(0, 100), y_range=(0, 60))"
   ]
  },
  {
   "cell_type": "code",
   "execution_count": 7,
   "id": "f4b83368",
   "metadata": {},
   "outputs": [
    {
     "name": "stdout",
     "output_type": "stream",
     "text": [
      "5.0 6.25\n"
     ]
    }
   ],
   "source": [
    "print(60/12, 100/16)"
   ]
  },
  {
   "cell_type": "code",
   "execution_count": null,
   "id": "7bf80177",
   "metadata": {},
   "outputs": [],
   "source": []
  }
 ],
 "metadata": {
  "kernelspec": {
   "display_name": "Football_Analytics_venv",
   "language": "python",
   "name": "football_analytics_venv"
  },
  "language_info": {
   "codemirror_mode": {
    "name": "ipython",
    "version": 3
   },
   "file_extension": ".py",
   "mimetype": "text/x-python",
   "name": "python",
   "nbconvert_exporter": "python",
   "pygments_lexer": "ipython3",
   "version": "3.10.11"
  }
 },
 "nbformat": 4,
 "nbformat_minor": 5
}
