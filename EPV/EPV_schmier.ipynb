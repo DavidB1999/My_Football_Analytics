{
 "cells": [
  {
   "cell_type": "code",
   "execution_count": 1,
   "id": "5763b516",
   "metadata": {},
   "outputs": [],
   "source": [
    "import sys\n",
    "sys.path.append('C:\\\\Users\\\\DavidB\\\\PycharmProjects\\\\My_Football_Analytics')\n",
    "\n",
    "from Position_data.Tracking_Data import tracking_data\n",
    "from EPV_Basics import get_EPV_grid\n",
    "from epv_utils import is_between\n",
    "import Basics.Data.Metrica_IO as mio\n",
    "import numpy as np\n",
    "import pandas as pd"
   ]
  },
  {
   "cell_type": "code",
   "execution_count": 2,
   "id": "e12ca959",
   "metadata": {},
   "outputs": [
    {
     "name": "stdout",
     "output_type": "stream",
     "text": [
      "Reading team: away\n",
      "Reading team: home\n"
     ]
    },
    {
     "data": {
      "text/plain": [
       "<Position_data.Tracking_Data.tracking_data at 0x244bf8a34f0>"
      ]
     },
     "execution_count": 2,
     "metadata": {},
     "output_type": "execute_result"
    }
   ],
   "source": [
    "data_dir = 'sample-data-master/data'\n",
    "game_id = 2\n",
    "away = mio.tracking_data(DATADIR=data_dir, game_id=game_id, teamname='Away')\n",
    "home = mio.tracking_data(DATADIR=data_dir, game_id=game_id, teamname='Home')\n",
    "td = mio.merge_tracking_data(home, away)\n",
    "td_object = tracking_data(td, data_source='metrica', scale_to_pitch='myPitch')\n",
    "td_object"
   ]
  },
  {
   "cell_type": "code",
   "execution_count": 3,
   "id": "23ebcd91",
   "metadata": {},
   "outputs": [
    {
     "name": "stdout",
     "output_type": "stream",
     "text": [
      "EPV grid from Karun Singh (@karun1710) of (12, 16) dimensions\n"
     ]
    },
    {
     "data": {
      "text/plain": [
       "array([[0.003, 0.004, 0.003, 0.004, 0.004, 0.005, 0.007, 0.008, 0.01 ,\n",
       "        0.013, 0.018, 0.025, 0.037, 0.048, 0.06 , 0.066],\n",
       "       [0.003, 0.005, 0.004, 0.004, 0.004, 0.005, 0.007, 0.008, 0.011,\n",
       "        0.015, 0.02 , 0.029, 0.042, 0.056, 0.075, 0.092],\n",
       "       [0.003, 0.003, 0.003, 0.004, 0.004, 0.006, 0.007, 0.009, 0.012,\n",
       "        0.016, 0.022, 0.034, 0.046, 0.067, 0.094, 0.103],\n",
       "       [0.004, 0.004, 0.004, 0.004, 0.004, 0.006, 0.007, 0.009, 0.012,\n",
       "        0.016, 0.023, 0.034, 0.044, 0.068, 0.089, 0.123],\n",
       "       [0.005, 0.005, 0.006, 0.004, 0.004, 0.006, 0.007, 0.01 , 0.013,\n",
       "        0.017, 0.025, 0.033, 0.048, 0.068, 0.126, 0.158],\n",
       "       [0.004, 0.005, 0.007, 0.004, 0.004, 0.006, 0.008, 0.009, 0.013,\n",
       "        0.017, 0.025, 0.033, 0.052, 0.089, 0.171, 0.413],\n",
       "       [0.004, 0.005, 0.007, 0.005, 0.005, 0.005, 0.008, 0.01 , 0.012,\n",
       "        0.019, 0.025, 0.035, 0.042, 0.116, 0.176, 0.371],\n",
       "       [0.005, 0.006, 0.007, 0.005, 0.005, 0.006, 0.008, 0.009, 0.014,\n",
       "        0.018, 0.024, 0.037, 0.046, 0.077, 0.124, 0.158],\n",
       "       [0.004, 0.005, 0.005, 0.004, 0.004, 0.006, 0.008, 0.009, 0.013,\n",
       "        0.017, 0.024, 0.036, 0.047, 0.065, 0.096, 0.126],\n",
       "       [0.003, 0.004, 0.004, 0.004, 0.005, 0.006, 0.008, 0.01 , 0.013,\n",
       "        0.016, 0.024, 0.036, 0.049, 0.068, 0.096, 0.136],\n",
       "       [0.003, 0.003, 0.004, 0.004, 0.005, 0.006, 0.008, 0.01 , 0.012,\n",
       "        0.015, 0.022, 0.031, 0.044, 0.06 , 0.077, 0.094],\n",
       "       [0.002, 0.003, 0.004, 0.004, 0.005, 0.006, 0.007, 0.008, 0.011,\n",
       "        0.014, 0.019, 0.026, 0.039, 0.051, 0.063, 0.068]])"
      ]
     },
     "execution_count": 3,
     "metadata": {},
     "output_type": "execute_result"
    }
   ],
   "source": [
    "epv = get_EPV_grid(fname='xT_grid.csv', origin='Karun Singh (@karun1710)', td_object=td_object)\n",
    "print(epv)\n",
    "epv.grid"
   ]
  },
  {
   "cell_type": "code",
   "execution_count": 4,
   "id": "c1393069",
   "metadata": {},
   "outputs": [
    {
     "data": {
      "text/plain": [
       "(<Figure size 640x480 with 1 Axes>, <Axes: >)"
      ]
     },
     "execution_count": 4,
     "metadata": {},
     "output_type": "execute_result"
    },
    {
     "data": {
      "image/png": "[encoded data removed]",
      "text/plain": [
       "<Figure size 640x480 with 1 Axes>"
      ]
     },
     "metadata": {},
     "output_type": "display_data"
    }
   ],
   "source": [
    "epv.plot_grid()"
   ]
  },
  {
   "cell_type": "code",
   "execution_count": 5,
   "id": "7e686e19",
   "metadata": {},
   "outputs": [
    {
     "name": "stdout",
     "output_type": "stream",
     "text": [
      "EPV grid from Friends of Tracking [Laurie Shaw] of (32, 50) dimensions\n"
     ]
    },
    {
     "data": {
      "text/plain": [
       "array([[0.0046, 0.0046, 0.0045, ..., 0.0388, 0.0424, 0.0443],\n",
       "       [0.0044, 0.0044, 0.0045, ..., 0.0388, 0.0421, 0.0437],\n",
       "       [0.0041, 0.0042, 0.0044, ..., 0.0388, 0.0413, 0.0425],\n",
       "       ...,\n",
       "       [0.0041, 0.0042, 0.0044, ..., 0.0388, 0.0413, 0.0425],\n",
       "       [0.0044, 0.0044, 0.0045, ..., 0.0388, 0.0421, 0.0437],\n",
       "       [0.0046, 0.0046, 0.0045, ..., 0.0388, 0.0424, 0.0443]])"
      ]
     },
     "execution_count": 5,
     "metadata": {},
     "output_type": "execute_result"
    }
   ],
   "source": [
    "epv = get_EPV_grid(fname='FoTD_grid.csv', origin='Friends of Tracking [Laurie Shaw]', td_object=td_object)\n",
    "print(epv)\n",
    "epv.grid"
   ]
  },
  {
   "cell_type": "code",
   "execution_count": 6,
   "id": "1e052a49",
   "metadata": {},
   "outputs": [
    {
     "name": "stdout",
     "output_type": "stream",
     "text": [
      "(32, 50) \n",
      " (0, 105) \n",
      "  (0, 68)\n",
      "2.1\n",
      "2.125\n"
     ]
    }
   ],
   "source": [
    "print(epv.grid_dimensions, '\\n', epv.x_range_grid, '\\n ',  epv.y_range_grid)\n",
    "print(105/50)\n",
    "print(68/32)"
   ]
  },
  {
   "cell_type": "code",
   "execution_count": 7,
   "id": "06d81408",
   "metadata": {},
   "outputs": [
    {
     "name": "stdout",
     "output_type": "stream",
     "text": [
      "((15.9999, 0.9522809523809525), 0.5714)\n"
     ]
    },
    {
     "data": {
      "text/plain": [
       "((31.9999, 49.9999), 0.0046)"
      ]
     },
     "execution_count": 7,
     "metadata": {},
     "output_type": "execute_result"
    }
   ],
   "source": [
    "print(epv.get_EPV_at_location(location=(2, 34)))\n",
    "epv.get_EPV_at_location(location=(105, 68))"
   ]
  },
  {
   "cell_type": "code",
   "execution_count": 8,
   "id": "c8d5a030",
   "metadata": {},
   "outputs": [
    {
     "data": {
      "text/plain": [
       "(<Figure size 640x480 with 1 Axes>, <Axes: >)"
      ]
     },
     "execution_count": 8,
     "metadata": {},
     "output_type": "execute_result"
    },
    {
     "data": {
      "image/png": "[encoded data removed]",
      "text/plain": [
       "<Figure size 640x480 with 1 Axes>"
      ]
     },
     "metadata": {},
     "output_type": "display_data"
    }
   ],
   "source": [
    "epv.plot_grid()"
   ]
  },
  {
   "cell_type": "code",
   "execution_count": 9,
   "id": "4728997d",
   "metadata": {},
   "outputs": [
    {
     "data": {
      "text/plain": [
       "(<Figure size 640x480 with 1 Axes>, <Axes: >)"
      ]
     },
     "execution_count": 9,
     "metadata": {},
     "output_type": "execute_result"
    },
    {
     "data": {
      "image/png": "[encoded data removed]",
      "text/plain": [
       "<Figure size 640x480 with 1 Axes>"
      ]
     },
     "metadata": {},
     "output_type": "display_data"
    }
   ],
   "source": [
    "epv = get_EPV_grid(fname='FoTD_grid.csv', origin='Friends of Tracking [Laurie Shaw]', td_object=td_object, team = 'away')\n",
    "epv.plot_grid()"
   ]
  },
  {
   "cell_type": "code",
   "execution_count": null,
   "id": "82be79ca",
   "metadata": {},
   "outputs": [],
   "source": []
  }
 ],
 "metadata": {
  "kernelspec": {
   "display_name": "Football_Analytics_venv",
   "language": "python",
   "name": "football_analytics_venv"
  },
  "language_info": {
   "codemirror_mode": {
    "name": "ipython",
    "version": 3
   },
   "file_extension": ".py",
   "mimetype": "text/x-python",
   "name": "python",
   "nbconvert_exporter": "python",
   "pygments_lexer": "ipython3",
   "version": "3.10.11"
  }
 },
 "nbformat": 4,
 "nbformat_minor": 5
}
