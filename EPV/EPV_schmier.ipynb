{
 "cells": [
  {
   "cell_type": "code",
   "execution_count": 1,
   "id": "5763b516",
   "metadata": {},
   "outputs": [],
   "source": [
    "import sys\n",
    "sys.path.append('C:\\\\Users\\\\DavidB\\\\PycharmProjects\\\\My_Football_Analytics')\n",
    "\n",
    "from Position_data.Tracking_Data import tracking_data\n",
    "from EPV_Basics import get_EPV_grid\n",
    "from epv_utils import is_between\n",
    "import Basics.Data.Metrica_IO as mio\n",
    "import numpy as np\n",
    "import pandas as pd"
   ]
  },
  {
   "cell_type": "code",
   "execution_count": 2,
   "id": "ad1e36e5",
   "metadata": {},
   "outputs": [
    {
     "name": "stdout",
     "output_type": "stream",
     "text": [
      "Reading team: away\n",
      "Reading team: home\n"
     ]
    },
    {
     "data": {
      "text/plain": [
       "<Position_data.Tracking_Data.tracking_data at 0x216d601f0d0>"
      ]
     },
     "execution_count": 2,
     "metadata": {},
     "output_type": "execute_result"
    }
   ],
   "source": [
    "data_dir = 'sample-data-master/data'\n",
    "game_id = 2\n",
    "away = mio.tracking_data(DATADIR=data_dir, game_id=game_id, teamname='Away')\n",
    "home = mio.tracking_data(DATADIR=data_dir, game_id=game_id, teamname='Home')\n",
    "td = mio.merge_tracking_data(home, away)\n",
    "td_object = tracking_data(td, data_source='metrica', scale_to_pitch='myPitch')\n",
    "td_object"
   ]
  },
  {
   "cell_type": "code",
   "execution_count": 3,
   "id": "23ebcd91",
   "metadata": {},
   "outputs": [
    {
     "name": "stdout",
     "output_type": "stream",
     "text": [
      "EPV grid from Karun Singh (@karun1710) of (12, 16) dimensions\n"
     ]
    },
    {
     "data": {
      "text/plain": [
       "array([[0.003, 0.004, 0.003, 0.004, 0.004, 0.005, 0.007, 0.008, 0.01 ,\n",
       "        0.013, 0.018, 0.025, 0.037, 0.048, 0.06 , 0.066],\n",
       "       [0.003, 0.005, 0.004, 0.004, 0.004, 0.005, 0.007, 0.008, 0.011,\n",
       "        0.015, 0.02 , 0.029, 0.042, 0.056, 0.075, 0.092],\n",
       "       [0.003, 0.003, 0.003, 0.004, 0.004, 0.006, 0.007, 0.009, 0.012,\n",
       "        0.016, 0.022, 0.034, 0.046, 0.067, 0.094, 0.103],\n",
       "       [0.004, 0.004, 0.004, 0.004, 0.004, 0.006, 0.007, 0.009, 0.012,\n",
       "        0.016, 0.023, 0.034, 0.044, 0.068, 0.089, 0.123],\n",
       "       [0.005, 0.005, 0.006, 0.004, 0.004, 0.006, 0.007, 0.01 , 0.013,\n",
       "        0.017, 0.025, 0.033, 0.048, 0.068, 0.126, 0.158],\n",
       "       [0.004, 0.005, 0.007, 0.004, 0.004, 0.006, 0.008, 0.009, 0.013,\n",
       "        0.017, 0.025, 0.033, 0.052, 0.089, 0.171, 0.413],\n",
       "       [0.004, 0.005, 0.007, 0.005, 0.005, 0.005, 0.008, 0.01 , 0.012,\n",
       "        0.019, 0.025, 0.035, 0.042, 0.116, 0.176, 0.371],\n",
       "       [0.005, 0.006, 0.007, 0.005, 0.005, 0.006, 0.008, 0.009, 0.014,\n",
       "        0.018, 0.024, 0.037, 0.046, 0.077, 0.124, 0.158],\n",
       "       [0.004, 0.005, 0.005, 0.004, 0.004, 0.006, 0.008, 0.009, 0.013,\n",
       "        0.017, 0.024, 0.036, 0.047, 0.065, 0.096, 0.126],\n",
       "       [0.003, 0.004, 0.004, 0.004, 0.005, 0.006, 0.008, 0.01 , 0.013,\n",
       "        0.016, 0.024, 0.036, 0.049, 0.068, 0.096, 0.136],\n",
       "       [0.003, 0.003, 0.004, 0.004, 0.005, 0.006, 0.008, 0.01 , 0.012,\n",
       "        0.015, 0.022, 0.031, 0.044, 0.06 , 0.077, 0.094],\n",
       "       [0.002, 0.003, 0.004, 0.004, 0.005, 0.006, 0.007, 0.008, 0.011,\n",
       "        0.014, 0.019, 0.026, 0.039, 0.051, 0.063, 0.068]])"
      ]
     },
     "execution_count": 3,
     "metadata": {},
     "output_type": "execute_result"
    }
   ],
   "source": [
    "epv = get_EPV_grid(fname='xT_grid.csv', origin='Karun Singh (@karun1710)', td_object=td_object)\n",
    "print(epv)\n",
    "epv.grid"
   ]
  },
  {
   "cell_type": "code",
   "execution_count": 4,
   "id": "c8429953",
   "metadata": {},
   "outputs": [
    {
     "data": {
      "text/plain": [
       "(<Figure size 640x480 with 1 Axes>, <Axes: >)"
      ]
     },
     "execution_count": 4,
     "metadata": {},
     "output_type": "execute_result"
    },
    {
     "data": {
      "image/png": "[encoded data removed]",
      "text/plain": [
       "<Figure size 640x480 with 1 Axes>"
      ]
     },
     "metadata": {},
     "output_type": "display_data"
    }
   ],
   "source": [
    "epv.plot_grid()"
   ]
  },
  {
   "cell_type": "code",
   "execution_count": 5,
   "id": "49d27d65",
   "metadata": {},
   "outputs": [
    {
     "name": "stdout",
     "output_type": "stream",
     "text": [
      "EPV grid from Friends of Tracking [Laurie Shaw] of (32, 50) dimensions\n"
     ]
    },
    {
     "data": {
      "text/plain": [
       "array([[0.0046, 0.0046, 0.0045, ..., 0.0388, 0.0424, 0.0443],\n",
       "       [0.0044, 0.0044, 0.0045, ..., 0.0388, 0.0421, 0.0437],\n",
       "       [0.0041, 0.0042, 0.0044, ..., 0.0388, 0.0413, 0.0425],\n",
       "       ...,\n",
       "       [0.0041, 0.0042, 0.0044, ..., 0.0388, 0.0413, 0.0425],\n",
       "       [0.0044, 0.0044, 0.0045, ..., 0.0388, 0.0421, 0.0437],\n",
       "       [0.0046, 0.0046, 0.0045, ..., 0.0388, 0.0424, 0.0443]])"
      ]
     },
     "execution_count": 5,
     "metadata": {},
     "output_type": "execute_result"
    }
   ],
   "source": [
    "epv = get_EPV_grid(fname='FoTD_grid.csv', origin='Friends of Tracking [Laurie Shaw]', td_object=td_object)\n",
    "print(epv)\n",
    "epv.grid"
   ]
  },
  {
   "cell_type": "code",
   "execution_count": 6,
   "id": "1e052a49",
   "metadata": {},
   "outputs": [
    {
     "name": "stdout",
     "output_type": "stream",
     "text": [
      "(32, 50) \n",
      " (0, 105) \n",
      "  (0, 68)\n",
      "2.1\n",
      "2.125\n"
     ]
    }
   ],
   "source": [
    "print(epv.grid_dimensions, '\\n', epv.x_range_grid, '\\n ',  epv.y_range_grid)\n",
    "print(105/50)\n",
    "print(68/32)"
   ]
  },
  {
   "cell_type": "code",
   "execution_count": 7,
   "id": "b66d1908",
   "metadata": {},
   "outputs": [
    {
     "name": "stdout",
     "output_type": "stream",
     "text": [
      "((15.9999, 0.9522809523809525), 0.5714)\n"
     ]
    },
    {
     "data": {
      "text/plain": [
       "((31.9999, 49.9999), 0.0046)"
      ]
     },
     "execution_count": 7,
     "metadata": {},
     "output_type": "execute_result"
    }
   ],
   "source": [
    "print(epv.get_EPV_at_location(location=(2, 34)))\n",
    "epv.get_EPV_at_location(location=(105, 68))"
   ]
  },
  {
   "cell_type": "code",
   "execution_count": 8,
   "id": "cdf742ac",
   "metadata": {},
   "outputs": [
    {
     "data": {
      "text/plain": [
       "(<Figure size 640x480 with 1 Axes>, <Axes: >)"
      ]
     },
     "execution_count": 8,
     "metadata": {},
     "output_type": "execute_result"
    },
    {
     "data": {
      "image/png": "[encoded data removed]",
      "text/plain": [
       "<Figure size 640x480 with 1 Axes>"
      ]
     },
     "metadata": {},
     "output_type": "display_data"
    }
   ],
   "source": [
    "epv.plot_grid()"
   ]
  },
  {
   "cell_type": "code",
   "execution_count": 9,
   "id": "6a0614ff",
   "metadata": {},
   "outputs": [
    {
     "data": {
      "text/plain": [
       "(<Figure size 640x480 with 1 Axes>, <Axes: >)"
      ]
     },
     "execution_count": 9,
     "metadata": {},
     "output_type": "execute_result"
    },
    {
     "data": {
      "image/png": "[encoded data removed]",
      "text/plain": [
       "<Figure size 640x480 with 1 Axes>"
      ]
     },
     "metadata": {},
     "output_type": "display_data"
    }
   ],
   "source": [
    "epv = get_EPV_grid(fname='FoTD_grid.csv', origin='Friends of Tracking [Laurie Shaw]', td_object=td_object, team = 'Away')\n",
    "epv.plot_grid()"
   ]
  },
  {
   "cell_type": "code",
   "execution_count": 10,
   "id": "ef7aef42",
   "metadata": {},
   "outputs": [
    {
     "name": "stdout",
     "output_type": "stream",
     "text": [
      "Running Spearman's pitch control computation based on Gauss legendre quadration\n",
      "Current batch: 1/1\n"
     ]
    }
   ],
   "source": [
    "AV = epv.get_AV_grid(frame=100)"
   ]
  },
  {
   "cell_type": "code",
   "execution_count": 11,
   "id": "a0ea5cc3",
   "metadata": {},
   "outputs": [
    {
     "data": {
      "text/plain": [
       "tensor([[4.6000e-03, 4.6000e-03, 4.5000e-03,  ..., 3.8800e-02, 4.2400e-02,\n",
       "         4.4300e-02],\n",
       "        [4.4000e-03, 4.4000e-03, 4.5000e-03,  ..., 3.8800e-02, 4.2100e-02,\n",
       "         4.3700e-02],\n",
       "        [4.0999e-03, 4.1999e-03, 4.4000e-03,  ..., 3.8800e-02, 4.1300e-02,\n",
       "         4.2500e-02],\n",
       "        ...,\n",
       "        [2.3569e-06, 1.3817e-06, 7.7962e-07,  ..., 9.0211e-06, 2.5648e-05,\n",
       "         6.7287e-05],\n",
       "        [6.5586e-07, 3.2552e-07, 1.5525e-07,  ..., 1.1568e-06, 3.5102e-06,\n",
       "         9.8203e-06],\n",
       "        [1.3717e-07, 6.2044e-08, 2.6160e-08,  ..., 1.6132e-07, 4.9630e-07,\n",
       "         1.4192e-06]], dtype=torch.float64)"
      ]
     },
     "execution_count": 11,
     "metadata": {},
     "output_type": "execute_result"
    }
   ],
   "source": [
    "AV"
   ]
  },
  {
   "cell_type": "code",
   "execution_count": 12,
   "id": "e5938b42",
   "metadata": {},
   "outputs": [
    {
     "name": "stdout",
     "output_type": "stream",
     "text": [
      "Current batch: 1/1\n"
     ]
    }
   ],
   "source": [
    "AV = epv.get_AV_grid(frame=100, pc_version='Fernandez', pc_implementation='adap')"
   ]
  },
  {
   "cell_type": "code",
   "execution_count": 13,
   "id": "33ad5882",
   "metadata": {},
   "outputs": [
    {
     "data": {
      "text/plain": [
       "tensor([[8.9127e-22, 1.6108e-18, 2.7820e-15,  ..., 1.4441e-03, 1.8986e-03,\n",
       "         2.6323e-03],\n",
       "        [5.2037e-04, 1.4409e-03, 3.1000e-03,  ..., 5.7038e-19, 1.1153e-15,\n",
       "         1.7979e-12],\n",
       "        [7.6352e-12, 5.0905e-11, 3.3659e-10,  ..., 2.2235e-02, 3.5247e-02,\n",
       "         4.0961e-02],\n",
       "        ...,\n",
       "        [3.3071e-06, 9.3661e-06, 2.2790e-05,  ..., 3.8718e-02, 4.1278e-02,\n",
       "         4.2495e-02],\n",
       "        [4.4000e-03, 4.4000e-03, 4.5000e-03,  ..., 7.0371e-06, 1.5245e-05,\n",
       "         3.0466e-05],\n",
       "        [5.9561e-06, 1.0680e-05, 1.8136e-05,  ..., 3.8799e-02, 4.2400e-02,\n",
       "         4.4300e-02]], dtype=torch.float64)"
      ]
     },
     "execution_count": 13,
     "metadata": {},
     "output_type": "execute_result"
    }
   ],
   "source": [
    "AV"
   ]
  },
  {
   "cell_type": "code",
   "execution_count": 14,
   "id": "f94b616d",
   "metadata": {},
   "outputs": [
    {
     "name": "stdout",
     "output_type": "stream",
     "text": [
      "Running Spearman's pitch control computation based on Gauss legendre quadration\n",
      "Current batch: 1/1\n"
     ]
    },
    {
     "data": {
      "text/plain": [
       "(<Figure size 640x480 with 1 Axes>, <Axes: >)"
      ]
     },
     "execution_count": 14,
     "metadata": {},
     "output_type": "execute_result"
    },
    {
     "data": {
      "image/png": "[encoded data removed]",
      "text/plain": [
       "<Figure size 640x480 with 1 Axes>"
      ]
     },
     "metadata": {},
     "output_type": "display_data"
    }
   ],
   "source": [
    "epv.plot_AV_grid(frame=100)"
   ]
  },
  {
   "cell_type": "code",
   "execution_count": null,
   "id": "f8e39c47",
   "metadata": {},
   "outputs": [],
   "source": []
  }
 ],
 "metadata": {
  "kernelspec": {
   "display_name": "Football_Analytics_venv",
   "language": "python",
   "name": "football_analytics_venv"
  },
  "language_info": {
   "codemirror_mode": {
    "name": "ipython",
    "version": 3
   },
   "file_extension": ".py",
   "mimetype": "text/x-python",
   "name": "python",
   "nbconvert_exporter": "python",
   "pygments_lexer": "ipython3",
   "version": "3.10.11"
  }
 },
 "nbformat": 4,
 "nbformat_minor": 5
}
